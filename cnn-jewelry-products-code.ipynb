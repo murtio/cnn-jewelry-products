{
 "cells": [
  {
   "cell_type": "markdown",
   "metadata": {},
   "source": [
    "# CNN on Jewelry Products\n"
   ]
  },
  {
   "cell_type": "markdown",
   "metadata": {},
   "source": [
    "## Contents\n",
    "- [Problem Statement](#Problem-Statement)\n",
    "- [Executive Summary](#Executive-Summary)\n",
    "- [Data Source](#Data-Source)\n",
    "- [Data Dictionary](#Data-Dictionary)\n",
    "- [Data Import and Cleaning](#Data-Import-and-Cleaning)\n",
    "- [Exploratory Data Analysis](#Exploratory-Data-Analysis)\n",
    "- [Retrieving images from links](#Retrieving-images-from-links)\n",
    "- [OpenCv image preprocessing](#OpenCv-image-preprocessing)\n",
    "    - [Visual demo of Template Matching](#Visual-demo-of-Template-Matching)\n",
    "    - [Define the resize method](#Define-the-resize-method)\n",
    "    - [Define the remove_tag method](#Define-the-remove_tag-method)\n",
    "    - [Remove tags from images](#Remove-tags-from-images)\n",
    "- [CNN image classifier](#CNN-image-classifier)\n",
    "    - [Keras image preprocessnig](#Keras-image-preprocessnig)\n",
    "    - [CNN classification model](#CNN-classification-model)\n",
    "    - [Sequential experiments optimization](#Sequential-experiments-optimization)\n",
    "    - [Exporting CNN classifier model](#Exporting-CNN-classifier-model)\n",
    "- [CNN image regression (Extra)](#CNN-image-regression-(Extra))\n",
    "    - [Keras image preprocessnig](#Keras-image-preprocessnig)\n",
    "    - [CNN regression model](#CNN-regression-model)\n",
    "\n"
   ]
  },
  {
   "cell_type": "markdown",
   "metadata": {},
   "source": [
    "## Problem Statement\n",
    "\n",
    "Many companies and online stores do their photo-shot in house, cutting cost and accelerate delivery. This usually leads to generic photo-shot setting. Given that the company stores its selling statistics of each  product, can the company use the product photo to maximize selling? This project aims at classifying images of similar setting (e.g. background and brightness), predicting whether this product is going to best selling or not. The practical side of predicting best-selling is that company would take more shots till arriving at a best selling one. The used data is scrapped from Tous online store.\n",
    "\n",
    "For more information:\n",
    "\n",
    "- [Tous Jewelry Store - Saudi Arabai](https://www.tous.com/sa-en/)\n",
    "\n",
    "- [Kaggle pagge of the dataset](https://www.kaggle.com/arimaha/what-makes-a-best-seller-item)"
   ]
  },
  {
   "cell_type": "markdown",
   "metadata": {},
   "source": [
    "## Executive Summary\n",
    "\n",
    "We first start with importing data into a dataframe and then cleaning some columns and dropping others. We then run EDA to explore the data. We plot two distributions of the data, one of the price and one for the best-selling class.\n",
    "\n",
    "Secondly, is retrieving images from links. The task of this section is to download images from their links that are in the 'image' column. We will loop over all links and store its corespondent image to two folders: best selling folder and not best selling folder. We we will be using urlib methods for downloading images. First we have to clean the image links from characters that are not part of the url link. Finally, each image is stored with its index as name, and then the path is also stored in the new column 'image_path'.\n",
    "\n",
    "We notice that the best-selling images have a sticker. Since we are doing CNN on these images, the model will identify this sticker as a pattern for best-selling images. This will results in a model with high variance, which we don't want. The task of the next section is to remove this sticker/tag from all images.\n",
    "\n",
    "We have to remove the 'best seller' tag from the best-selling products, since it will affect our trainging. We use OpencCV for this task. The main method used is template matching. \n",
    "We are going to implement a modified Template Matching approach. Here's the overall strategy:\n",
    "- Load template, convert to grayscale, perform canny edge detection \n",
    "- Load original image, convert to grayscale \n",
    "- Continuously rescale image, apply template matching using edges, and keep track of the correlation coefficient (higher value means better match) \n",
    "- Find coordinates of best fit bounding box then erase unwanted ROI \n",
    "Much credits of this section go to @nathancy from Stackoverflow.com for his help.\n",
    "\n",
    "We succeed at removing all tags from the best-selling images. In the next section we continue doing image processing but with Keras image processing libraries. The next step is more focused on how we should feed the images to the model.\n",
    "\n",
    "We will build a model that classifies images whether they are of best-selling products or not. We first perform some Keras preprocessing on the images, like scaling and validation split. Secondly, we build a simple CNN classifier using the configurations given by the documentation. Thirdly, we carry one empirical experiments, known as sequential experiments, to optimize our model. We finally pick the model of the mos optimized experiment and plot the loss function of all experiments.\n",
    "\n",
    "\n",
    "Next is CNN classification model. In this section we build the first CNN classification model using the default configurations given by Keras tutorials. Later we optimize our model using sequential experiments methodology. The resulted loss func is 4.7, and the accuracy is 0.39. This mediocre results could be advanced with larger data or empirically trying different hyperparameters. Also, loss function for the validation set keeps increasing linearly. \n",
    "\n",
    "The aim is to use Sequential experiments approach to optimize CNN classifier model\n",
    "Tuning hyperparameters of CNN models is an empirical process. Here we carry on multiple experiments to arrive to the optimal hyperparameters. We use the accuracy metric to compare our results.\n",
    "Summary table of sequential experiments\n",
    "\n",
    "| Hidden Layers | Nodes Per Layer | Accuracy | Next Step                    |\n",
    "|---------------|-----------------|----------|------------------------------|\n",
    "| 1             | 32              | 0.37     | Increase Capacity            |\n",
    "| 1             | 64              | 0.4      | Increase Capacity            |\n",
    "| 2             | 64              | 0.4      | Increase Capacity            |\n",
    "| 3             | 64              | 0.38     | Revoke and increase capacity |\n",
    "| 3             | 128             | 0.46     | Increase Capacity            |\n",
    "| 3             | 264             | 0.42     | Revoke and increase capacity |\n",
    "| 4             | 128             | 0.44     | Done                         |\n",
    "\n",
    "\n",
    "Finally, CNN image regression (Extra). We will build a CNN regression model to predict prices of each product based on it image. We first do the required Keras preprocessing to feed the model, and then we configure two models. This section has been added for experimental purposes. No optimization has been carried on. Results of the CNN regression: the plot shows poor results of CNN regression model, as the test loss fun deviates from the training loss fun. However, an early stop could be implemented since the loss fun doesn't get better at some points. With some empirical trials on the CNN hyperparametrs, we might arrive at better results. We leave that for future tuning!\n",
    "\n"
   ]
  },
  {
   "cell_type": "markdown",
   "metadata": {},
   "source": [
    "## Data Source\n",
    "\n",
    "This data was scrapped and published on Kaggle on 2019-04-18. The last version was updated on 2019-05-03, of which this code is based. [Link to the dataset Kaggle page.](https://www.kaggle.com/arimaha/what-makes-a-best-seller-item)"
   ]
  },
  {
   "cell_type": "markdown",
   "metadata": {},
   "source": [
    "## Data Dictionary\n",
    "\n",
    "| Feature     | Type    | Dataset | Description                                |\n",
    "|-------------|---------|---------|--------------------------------------------|\n",
    "| best_seller | object | data    | 1 if this item is best-seller, otherwise 0 |\n",
    "| price       |  float64 | data    | price of the item                          |\n",
    "| image       |  object | data    | link to the image of the item              |\n",
    "| image_path    | object | data    | path of the downled image at local storage       |\n"
   ]
  },
  {
   "cell_type": "markdown",
   "metadata": {},
   "source": [
    "## Data Import and Cleaning"
   ]
  },
  {
   "cell_type": "code",
   "execution_count": 3,
   "metadata": {},
   "outputs": [],
   "source": [
    "#Imports\n",
    "import pandas as pd\n",
    "import numpy as np\n",
    "import math\n",
    "import seaborn as sns\n",
    "import matplotlib.pyplot as plt\n",
    "from scipy import stats\n",
    "%matplotlib inline"
   ]
  },
  {
   "cell_type": "code",
   "execution_count": 5,
   "metadata": {
    "scrolled": true
   },
   "outputs": [
    {
     "data": {
      "text/html": [
       "<div>\n",
       "<style scoped>\n",
       "    .dataframe tbody tr th:only-of-type {\n",
       "        vertical-align: middle;\n",
       "    }\n",
       "\n",
       "    .dataframe tbody tr th {\n",
       "        vertical-align: top;\n",
       "    }\n",
       "\n",
       "    .dataframe thead th {\n",
       "        text-align: right;\n",
       "    }\n",
       "</style>\n",
       "<table border=\"1\" class=\"dataframe\">\n",
       "  <thead>\n",
       "    <tr style=\"text-align: right;\">\n",
       "      <th></th>\n",
       "      <th>best_seller</th>\n",
       "      <th>price</th>\n",
       "      <th>image</th>\n",
       "      <th>bracelet</th>\n",
       "      <th>ring</th>\n",
       "      <th>necklace</th>\n",
       "      <th>earring</th>\n",
       "      <th>choker</th>\n",
       "      <th>pendant</th>\n",
       "      <th>mesh</th>\n",
       "      <th>...</th>\n",
       "      <th>sapphires</th>\n",
       "      <th>agate</th>\n",
       "      <th>quartzite</th>\n",
       "      <th>gemstones</th>\n",
       "      <th>spinel</th>\n",
       "      <th>onyx</th>\n",
       "      <th>gem_sum</th>\n",
       "      <th>diamonds</th>\n",
       "      <th>ruby</th>\n",
       "      <th>cry_sum</th>\n",
       "    </tr>\n",
       "  </thead>\n",
       "  <tbody>\n",
       "    <tr>\n",
       "      <th>0</th>\n",
       "      <td>1.0</td>\n",
       "      <td>SR485</td>\n",
       "      <td>['https://cdn.tous.com/media/catalog/product/c...</td>\n",
       "      <td>0.0</td>\n",
       "      <td>1.0</td>\n",
       "      <td>0.0</td>\n",
       "      <td>1.0</td>\n",
       "      <td>0.0</td>\n",
       "      <td>0.0</td>\n",
       "      <td>0.0</td>\n",
       "      <td>...</td>\n",
       "      <td>0.0</td>\n",
       "      <td>0.0</td>\n",
       "      <td>0.0</td>\n",
       "      <td>0.0</td>\n",
       "      <td>0.0</td>\n",
       "      <td>0.0</td>\n",
       "      <td>1.0</td>\n",
       "      <td>0.0</td>\n",
       "      <td>0.0</td>\n",
       "      <td>0.0</td>\n",
       "    </tr>\n",
       "    <tr>\n",
       "      <th>1</th>\n",
       "      <td>1.0</td>\n",
       "      <td>SR620</td>\n",
       "      <td>['https://cdn.tous.com/media/catalog/product/c...</td>\n",
       "      <td>0.0</td>\n",
       "      <td>1.0</td>\n",
       "      <td>0.0</td>\n",
       "      <td>1.0</td>\n",
       "      <td>0.0</td>\n",
       "      <td>0.0</td>\n",
       "      <td>0.0</td>\n",
       "      <td>...</td>\n",
       "      <td>0.0</td>\n",
       "      <td>0.0</td>\n",
       "      <td>0.0</td>\n",
       "      <td>0.0</td>\n",
       "      <td>0.0</td>\n",
       "      <td>0.0</td>\n",
       "      <td>1.0</td>\n",
       "      <td>0.0</td>\n",
       "      <td>0.0</td>\n",
       "      <td>0.0</td>\n",
       "    </tr>\n",
       "    <tr>\n",
       "      <th>2</th>\n",
       "      <td>1.0</td>\n",
       "      <td>SR370</td>\n",
       "      <td>['https://cdn.tous.com/media/catalog/product/c...</td>\n",
       "      <td>0.0</td>\n",
       "      <td>1.0</td>\n",
       "      <td>0.0</td>\n",
       "      <td>1.0</td>\n",
       "      <td>0.0</td>\n",
       "      <td>0.0</td>\n",
       "      <td>0.0</td>\n",
       "      <td>...</td>\n",
       "      <td>0.0</td>\n",
       "      <td>0.0</td>\n",
       "      <td>0.0</td>\n",
       "      <td>0.0</td>\n",
       "      <td>0.0</td>\n",
       "      <td>0.0</td>\n",
       "      <td>0.0</td>\n",
       "      <td>0.0</td>\n",
       "      <td>0.0</td>\n",
       "      <td>0.0</td>\n",
       "    </tr>\n",
       "    <tr>\n",
       "      <th>3</th>\n",
       "      <td>1.0</td>\n",
       "      <td>SR370</td>\n",
       "      <td>['https://cdn.tous.com/media/catalog/product/c...</td>\n",
       "      <td>0.0</td>\n",
       "      <td>0.0</td>\n",
       "      <td>0.0</td>\n",
       "      <td>0.0</td>\n",
       "      <td>0.0</td>\n",
       "      <td>1.0</td>\n",
       "      <td>0.0</td>\n",
       "      <td>...</td>\n",
       "      <td>0.0</td>\n",
       "      <td>0.0</td>\n",
       "      <td>0.0</td>\n",
       "      <td>0.0</td>\n",
       "      <td>0.0</td>\n",
       "      <td>0.0</td>\n",
       "      <td>0.0</td>\n",
       "      <td>0.0</td>\n",
       "      <td>0.0</td>\n",
       "      <td>0.0</td>\n",
       "    </tr>\n",
       "    <tr>\n",
       "      <th>4</th>\n",
       "      <td>1.0</td>\n",
       "      <td>SR1,300</td>\n",
       "      <td>['https://cdn.tous.com/media/catalog/product/c...</td>\n",
       "      <td>0.0</td>\n",
       "      <td>1.0</td>\n",
       "      <td>0.0</td>\n",
       "      <td>1.0</td>\n",
       "      <td>0.0</td>\n",
       "      <td>0.0</td>\n",
       "      <td>0.0</td>\n",
       "      <td>...</td>\n",
       "      <td>0.0</td>\n",
       "      <td>0.0</td>\n",
       "      <td>0.0</td>\n",
       "      <td>0.0</td>\n",
       "      <td>0.0</td>\n",
       "      <td>0.0</td>\n",
       "      <td>1.0</td>\n",
       "      <td>0.0</td>\n",
       "      <td>0.0</td>\n",
       "      <td>0.0</td>\n",
       "    </tr>\n",
       "  </tbody>\n",
       "</table>\n",
       "<p>5 rows × 43 columns</p>\n",
       "</div>"
      ],
      "text/plain": [
       "   best_seller    price                                              image  \\\n",
       "0          1.0    SR485  ['https://cdn.tous.com/media/catalog/product/c...   \n",
       "1          1.0    SR620  ['https://cdn.tous.com/media/catalog/product/c...   \n",
       "2          1.0    SR370  ['https://cdn.tous.com/media/catalog/product/c...   \n",
       "3          1.0    SR370  ['https://cdn.tous.com/media/catalog/product/c...   \n",
       "4          1.0  SR1,300  ['https://cdn.tous.com/media/catalog/product/c...   \n",
       "\n",
       "   bracelet  ring  necklace  earring  choker  pendant  mesh  ...  sapphires  \\\n",
       "0       0.0   1.0       0.0      1.0     0.0      0.0   0.0  ...        0.0   \n",
       "1       0.0   1.0       0.0      1.0     0.0      0.0   0.0  ...        0.0   \n",
       "2       0.0   1.0       0.0      1.0     0.0      0.0   0.0  ...        0.0   \n",
       "3       0.0   0.0       0.0      0.0     0.0      1.0   0.0  ...        0.0   \n",
       "4       0.0   1.0       0.0      1.0     0.0      0.0   0.0  ...        0.0   \n",
       "\n",
       "   agate  quartzite  gemstones  spinel  onyx  gem_sum  diamonds  ruby  cry_sum  \n",
       "0    0.0        0.0        0.0     0.0   0.0      1.0       0.0   0.0      0.0  \n",
       "1    0.0        0.0        0.0     0.0   0.0      1.0       0.0   0.0      0.0  \n",
       "2    0.0        0.0        0.0     0.0   0.0      0.0       0.0   0.0      0.0  \n",
       "3    0.0        0.0        0.0     0.0   0.0      0.0       0.0   0.0      0.0  \n",
       "4    0.0        0.0        0.0     0.0   0.0      1.0       0.0   0.0      0.0  \n",
       "\n",
       "[5 rows x 43 columns]"
      ]
     },
     "execution_count": 5,
     "metadata": {},
     "output_type": "execute_result"
    }
   ],
   "source": [
    "#Code\n",
    "data = pd.read_csv('./dataset.csv', index_col=False, delimiter=',', header=0)\n",
    "#drop the ID column\n",
    "data = data.iloc[:,1:]\n",
    "data.head()\n"
   ]
  },
  {
   "cell_type": "markdown",
   "metadata": {},
   "source": [
    "Sincce we want to CNN for classification on 'bes_seller' and regression on 'price', we will drop columns that are not relevant:"
   ]
  },
  {
   "cell_type": "code",
   "execution_count": 6,
   "metadata": {},
   "outputs": [
    {
     "data": {
      "text/html": [
       "<div>\n",
       "<style scoped>\n",
       "    .dataframe tbody tr th:only-of-type {\n",
       "        vertical-align: middle;\n",
       "    }\n",
       "\n",
       "    .dataframe tbody tr th {\n",
       "        vertical-align: top;\n",
       "    }\n",
       "\n",
       "    .dataframe thead th {\n",
       "        text-align: right;\n",
       "    }\n",
       "</style>\n",
       "<table border=\"1\" class=\"dataframe\">\n",
       "  <thead>\n",
       "    <tr style=\"text-align: right;\">\n",
       "      <th></th>\n",
       "      <th>best_seller</th>\n",
       "      <th>price</th>\n",
       "      <th>image</th>\n",
       "    </tr>\n",
       "  </thead>\n",
       "  <tbody>\n",
       "    <tr>\n",
       "      <th>0</th>\n",
       "      <td>1.0</td>\n",
       "      <td>SR485</td>\n",
       "      <td>['https://cdn.tous.com/media/catalog/product/c...</td>\n",
       "    </tr>\n",
       "    <tr>\n",
       "      <th>1</th>\n",
       "      <td>1.0</td>\n",
       "      <td>SR620</td>\n",
       "      <td>['https://cdn.tous.com/media/catalog/product/c...</td>\n",
       "    </tr>\n",
       "    <tr>\n",
       "      <th>2</th>\n",
       "      <td>1.0</td>\n",
       "      <td>SR370</td>\n",
       "      <td>['https://cdn.tous.com/media/catalog/product/c...</td>\n",
       "    </tr>\n",
       "    <tr>\n",
       "      <th>3</th>\n",
       "      <td>1.0</td>\n",
       "      <td>SR370</td>\n",
       "      <td>['https://cdn.tous.com/media/catalog/product/c...</td>\n",
       "    </tr>\n",
       "    <tr>\n",
       "      <th>4</th>\n",
       "      <td>1.0</td>\n",
       "      <td>SR1,300</td>\n",
       "      <td>['https://cdn.tous.com/media/catalog/product/c...</td>\n",
       "    </tr>\n",
       "  </tbody>\n",
       "</table>\n",
       "</div>"
      ],
      "text/plain": [
       "   best_seller    price                                              image\n",
       "0          1.0    SR485  ['https://cdn.tous.com/media/catalog/product/c...\n",
       "1          1.0    SR620  ['https://cdn.tous.com/media/catalog/product/c...\n",
       "2          1.0    SR370  ['https://cdn.tous.com/media/catalog/product/c...\n",
       "3          1.0    SR370  ['https://cdn.tous.com/media/catalog/product/c...\n",
       "4          1.0  SR1,300  ['https://cdn.tous.com/media/catalog/product/c..."
      ]
     },
     "execution_count": 6,
     "metadata": {},
     "output_type": "execute_result"
    }
   ],
   "source": [
    "#drop unnecessary columns\n",
    "data = data[['best_seller','price','image']]\n",
    "data.head()"
   ]
  },
  {
   "cell_type": "code",
   "execution_count": 7,
   "metadata": {
    "scrolled": true
   },
   "outputs": [
    {
     "name": "stdout",
     "output_type": "stream",
     "text": [
      "<class 'pandas.core.frame.DataFrame'>\n",
      "RangeIndex: 337 entries, 0 to 336\n",
      "Data columns (total 3 columns):\n",
      "best_seller    337 non-null float64\n",
      "price          337 non-null object\n",
      "image          337 non-null object\n",
      "dtypes: float64(1), object(2)\n",
      "memory usage: 8.0+ KB\n"
     ]
    }
   ],
   "source": [
    "data.info()"
   ]
  },
  {
   "cell_type": "code",
   "execution_count": 8,
   "metadata": {},
   "outputs": [
    {
     "data": {
      "text/plain": [
       "array([288,  49])"
      ]
     },
     "execution_count": 8,
     "metadata": {},
     "output_type": "execute_result"
    }
   ],
   "source": [
    "#check the distribution of data\n",
    "np.bincount(data['best_seller'])"
   ]
  },
  {
   "cell_type": "markdown",
   "metadata": {},
   "source": [
    "There are 49 rows marked as best seller and 288 marked as non best seller."
   ]
  },
  {
   "cell_type": "code",
   "execution_count": 9,
   "metadata": {},
   "outputs": [],
   "source": [
    "#clean 'price' column and convert it to numrical\n",
    "data['price'] = data['price'].str.replace('SR', '')\n",
    "data['price'] = data['price'].str.replace(\",\", '')\n",
    "data['price'] = pd.to_numeric(data['price'])"
   ]
  },
  {
   "cell_type": "code",
   "execution_count": 10,
   "metadata": {},
   "outputs": [
    {
     "data": {
      "text/plain": [
       "['best_seller', 'price', 'image']"
      ]
     },
     "execution_count": 10,
     "metadata": {},
     "output_type": "execute_result"
    }
   ],
   "source": [
    "#columns\n",
    "list(data.columns)"
   ]
  },
  {
   "cell_type": "markdown",
   "metadata": {},
   "source": [
    "## Exploratory Data Analysis"
   ]
  },
  {
   "cell_type": "code",
   "execution_count": 11,
   "metadata": {},
   "outputs": [
    {
     "data": {
      "text/html": [
       "<div>\n",
       "<style scoped>\n",
       "    .dataframe tbody tr th:only-of-type {\n",
       "        vertical-align: middle;\n",
       "    }\n",
       "\n",
       "    .dataframe tbody tr th {\n",
       "        vertical-align: top;\n",
       "    }\n",
       "\n",
       "    .dataframe thead th {\n",
       "        text-align: right;\n",
       "    }\n",
       "</style>\n",
       "<table border=\"1\" class=\"dataframe\">\n",
       "  <thead>\n",
       "    <tr style=\"text-align: right;\">\n",
       "      <th></th>\n",
       "      <th>best_seller</th>\n",
       "      <th>price</th>\n",
       "    </tr>\n",
       "  </thead>\n",
       "  <tbody>\n",
       "    <tr>\n",
       "      <th>count</th>\n",
       "      <td>337.000000</td>\n",
       "      <td>337.000000</td>\n",
       "    </tr>\n",
       "    <tr>\n",
       "      <th>mean</th>\n",
       "      <td>0.145401</td>\n",
       "      <td>1137.264095</td>\n",
       "    </tr>\n",
       "    <tr>\n",
       "      <th>std</th>\n",
       "      <td>0.353028</td>\n",
       "      <td>1581.781216</td>\n",
       "    </tr>\n",
       "    <tr>\n",
       "      <th>min</th>\n",
       "      <td>0.000000</td>\n",
       "      <td>115.000000</td>\n",
       "    </tr>\n",
       "    <tr>\n",
       "      <th>25%</th>\n",
       "      <td>0.000000</td>\n",
       "      <td>410.000000</td>\n",
       "    </tr>\n",
       "    <tr>\n",
       "      <th>50%</th>\n",
       "      <td>0.000000</td>\n",
       "      <td>620.000000</td>\n",
       "    </tr>\n",
       "    <tr>\n",
       "      <th>75%</th>\n",
       "      <td>0.000000</td>\n",
       "      <td>1100.000000</td>\n",
       "    </tr>\n",
       "    <tr>\n",
       "      <th>max</th>\n",
       "      <td>1.000000</td>\n",
       "      <td>12400.000000</td>\n",
       "    </tr>\n",
       "  </tbody>\n",
       "</table>\n",
       "</div>"
      ],
      "text/plain": [
       "       best_seller         price\n",
       "count   337.000000    337.000000\n",
       "mean      0.145401   1137.264095\n",
       "std       0.353028   1581.781216\n",
       "min       0.000000    115.000000\n",
       "25%       0.000000    410.000000\n",
       "50%       0.000000    620.000000\n",
       "75%       0.000000   1100.000000\n",
       "max       1.000000  12400.000000"
      ]
     },
     "execution_count": 11,
     "metadata": {},
     "output_type": "execute_result"
    }
   ],
   "source": [
    "data.describe()"
   ]
  },
  {
   "cell_type": "code",
   "execution_count": 12,
   "metadata": {},
   "outputs": [
    {
     "data": {
      "text/plain": [
       "best_seller       0.352504\n",
       "price          1579.432616\n",
       "dtype: float64"
      ]
     },
     "execution_count": 12,
     "metadata": {},
     "output_type": "execute_result"
    }
   ],
   "source": [
    "np.std(data)"
   ]
  },
  {
   "cell_type": "code",
   "execution_count": 18,
   "metadata": {
    "scrolled": false
   },
   "outputs": [
    {
     "data": {
      "image/png": "[encoded data removed]",
      "text/plain": [
       "<Figure size 432x288 with 2 Axes>"
      ]
     },
     "metadata": {
      "needs_background": "light"
     },
     "output_type": "display_data"
    }
   ],
   "source": [
    "# plt.figure(figsize=(16,8))\n",
    "sns.heatmap(data.corr())\n",
    "plt.suptitle('HeatMap for the corr of Tous products');"
   ]
  },
  {
   "cell_type": "markdown",
   "metadata": {},
   "source": [
    "Distribution of data across the price:"
   ]
  },
  {
   "cell_type": "code",
   "execution_count": 17,
   "metadata": {},
   "outputs": [
    {
     "data": {
      "image/png": "[encoded data removed]",
      "text/plain": [
       "<Figure size 1224x216 with 1 Axes>"
      ]
     },
     "metadata": {
      "needs_background": "light"
     },
     "output_type": "display_data"
    }
   ],
   "source": [
    "plt.figure(figsize=(17,3))\n",
    "ax = sns.countplot(x=\"price\", data=data)\n",
    "ax.set_xticklabels(ax.get_xticklabels(), rotation=80, ha=\"right\")\n",
    "plt.show()"
   ]
  },
  {
   "cell_type": "markdown",
   "metadata": {},
   "source": [
    "Distribution of data across the best_selling categories:"
   ]
  },
  {
   "cell_type": "code",
   "execution_count": 83,
   "metadata": {
    "scrolled": false
   },
   "outputs": [
    {
     "data": {
      "image/png": "[encoded data removed]",
      "text/plain": [
       "<Figure size 432x288 with 1 Axes>"
      ]
     },
     "metadata": {},
     "output_type": "display_data"
    }
   ],
   "source": [
    "sns.set(style=\"darkgrid\")\n",
    "sns.countplot(x=\"best_seller\", data=data)\n",
    "plt.show()"
   ]
  },
  {
   "cell_type": "markdown",
   "metadata": {},
   "source": [
    "## Retrieving images from links\n",
    "\n",
    "The task of this section is to download images from their links that are in the 'image' column. We will loop over all links and store its coresspondant image to two folders: best selling folder and not best selling folder. We weill using urlib methods for downlading images. First we have to clean the image links from characters that are not part of the url link. Finally, each image is stored with its index as name, and then the path is also stored in the new column 'image_path'."
   ]
  },
  {
   "cell_type": "code",
   "execution_count": 19,
   "metadata": {
    "scrolled": true
   },
   "outputs": [
    {
     "name": "stdout",
     "output_type": "stream",
     "text": [
      "0 ./images/best_selling/000.jpg https://cdn.tous.com/media/catalog/product/cache/image/512x512/9df78eab33525d08d6e5fb8d27136e95/2/1/211140420.jpg\n",
      "1 ./images/best_selling/001.jpg https://cdn.tous.com/media/catalog/product/cache/image/512x512/9df78eab33525d08d6e5fb8d27136e95/4/1/411143500.jpg\n",
      "2 ./images/best_selling/002.jpg https://cdn.tous.com/media/catalog/product/cache/image/512x512/9df78eab33525d08d6e5fb8d27136e95/2/1/214833500.jpg\n",
      "3 ./images/best_selling/003.jpg https://cdn.tous.com/media/catalog/product/cache/image/512x512/9df78eab33525d08d6e5fb8d27136e95/4/1/415900174.jpg\n",
      "4 ./images/best_selling/004.jpg https://cdn.tous.com/media/catalog/product/cache/image/512x512/9df78eab33525d08d6e5fb8d27136e95/5/1/511000795.jpg\n",
      "5 ./images/best_selling/005.jpg https://cdn.tous.com/media/catalog/product/cache/image/512x512/9df78eab33525d08d6e5fb8d27136e95/3/1/311003200.jpg\n",
      "6 ./images/best_selling/006.jpg https://cdn.tous.com/media/catalog/product/cache/image/512x512/9df78eab33525d08d6e5fb8d27136e95/3/1/311001430.jpg\n",
      "7 ./images/best_selling/007.jpg https://cdn.tous.com/media/catalog/product/cache/image/512x512/9df78eab33525d08d6e5fb8d27136e95/0/1/015913000.jpg\n",
      "8 ./images/best_selling/008.jpg https://cdn.tous.com/media/catalog/product/cache/image/512x512/9df78eab33525d08d6e5fb8d27136e95/5/1/515900143.jpg\n",
      "9 ./images/best_selling/009.jpg https://cdn.tous.com/media/catalog/product/cache/image/512x512/9df78eab33525d08d6e5fb8d27136e95/5/1/515900153.jpg\n",
      "10 ./images/best_selling/010.jpg https://cdn.tous.com/media/catalog/product/cache/image/512x512/9df78eab33525d08d6e5fb8d27136e95/C/6/C613105500.jpg\n",
      "11 ./images/best_selling/011.jpg https://cdn.tous.com/media/catalog/product/cache/image/512x512/9df78eab33525d08d6e5fb8d27136e95/6/1/613101500.jpg\n",
      "12 ./images/best_selling/012.jpg https://cdn.tous.com/media/catalog/product/cache/image/512x512/9df78eab33525d08d6e5fb8d27136e95/6/1/613101520.jpg\n",
      "13 ./images/best_selling/013.jpg https://cdn.tous.com/media/catalog/product/cache/image/512x512/9df78eab33525d08d6e5fb8d27136e95/6/1/613101510.jpg\n",
      "14 ./images/best_selling/014.jpg https://cdn.tous.com/media/catalog/product/cache/image/512x512/9df78eab33525d08d6e5fb8d27136e95/6/1/615431510.jpg\n",
      "15 ./images/best_selling/015.jpg https://cdn.tous.com/media/catalog/product/cache/image/512x512/9df78eab33525d08d6e5fb8d27136e95/6/1/615431650.jpg\n",
      "16 ./images/best_selling/016.jpg https://cdn.tous.com/media/catalog/product/cache/image/512x512/9df78eab33525d08d6e5fb8d27136e95/6/1/615433580.jpg\n",
      "17 ./images/best_selling/017.jpg https://cdn.tous.com/media/catalog/product/cache/image/512x512/9df78eab33525d08d6e5fb8d27136e95/8/1/815433500.jpg\n",
      "18 ./images/best_selling/018.jpg https://cdn.tous.com/media/catalog/product/cache/image/512x512/9df78eab33525d08d6e5fb8d27136e95/7/1/715433500.jpg\n",
      "19 ./images/best_selling/019.jpg https://cdn.tous.com/media/catalog/product/cache/image/512x512/9df78eab33525d08d6e5fb8d27136e95/1/1/115434540.jpg\n",
      "20 ./images/best_selling/020.jpg https://cdn.tous.com/media/catalog/product/cache/image/512x512/9df78eab33525d08d6e5fb8d27136e95/2/1/215434540.jpg\n",
      "21 ./images/best_selling/021.jpg https://cdn.tous.com/media/catalog/product/cache/image/512x512/9df78eab33525d08d6e5fb8d27136e95/2/1/215434550.jpg\n",
      "22 ./images/best_selling/022.jpg https://cdn.tous.com/media/catalog/product/cache/image/512x512/9df78eab33525d08d6e5fb8d27136e95/6/1/615434570.jpg\n",
      "23 ./images/best_selling/023.jpg https://cdn.tous.com/media/catalog/product/cache/image/512x512/9df78eab33525d08d6e5fb8d27136e95/6/1/615433570.jpg\n",
      "24 ./images/best_selling/024.jpg https://cdn.tous.com/media/catalog/product/cache/image/512x512/9df78eab33525d08d6e5fb8d27136e95/3/1/315113560.jpg\n",
      "25 ./images/best_selling/025.jpg https://cdn.tous.com/media/catalog/product/cache/image/512x512/9df78eab33525d08d6e5fb8d27136e95/6/1/615431670.jpg\n",
      "26 ./images/best_selling/026.jpg https://cdn.tous.com/media/catalog/product/cache/image/512x512/9df78eab33525d08d6e5fb8d27136e95/5/1/517094500.jpg\n",
      "27 ./images/best_selling/027.jpg https://cdn.tous.com/media/catalog/product/cache/image/512x512/9df78eab33525d08d6e5fb8d27136e95/6/1/615270135.jpg\n",
      "28 ./images/best_selling/028.jpg https://cdn.tous.com/media/catalog/product/cache/image/512x512/9df78eab33525d08d6e5fb8d27136e95/2/1/215906530.jpg\n",
      "29 ./images/best_selling/029.jpg https://cdn.tous.com/media/catalog/product/cache/image/512x512/9df78eab33525d08d6e5fb8d27136e95/7/1/712293500.jpg\n",
      "30 ./images/best_selling/030.jpg https://cdn.tous.com/media/catalog/product/cache/image/512x512/9df78eab33525d08d6e5fb8d27136e95/C/5/C515915500.jpg\n",
      "31 ./images/best_selling/031.jpg https://cdn.tous.com/media/catalog/product/cache/image/512x512/9df78eab33525d08d6e5fb8d27136e95/7/1/711900031.jpg\n",
      "32 ./images/best_selling/032.jpg https://cdn.tous.com/media/catalog/product/cache/image/512x512/9df78eab33525d08d6e5fb8d27136e95/0/1/015921020.jpg\n",
      "33 ./images/best_selling/033.jpg https://cdn.tous.com/media/catalog/product/cache/image/512x512/9df78eab33525d08d6e5fb8d27136e95/5/1/516981500.jpg\n",
      "34 ./images/best_selling/034.jpg https://cdn.tous.com/media/catalog/product/cache/image/512x512/9df78eab33525d08d6e5fb8d27136e95/2/1/216141520.jpg\n",
      "35 ./images/best_selling/035.jpg https://cdn.tous.com/media/catalog/product/cache/image/512x512/9df78eab33525d08d6e5fb8d27136e95/7/1/712341500.jpg\n",
      "36 ./images/best_selling/036.jpg https://cdn.tous.com/media/catalog/product/cache/image/512x512/9df78eab33525d08d6e5fb8d27136e95/7/1/712342560.jpg\n",
      "37 ./images/best_selling/037.jpg https://cdn.tous.com/media/catalog/product/cache/image/512x512/9df78eab33525d08d6e5fb8d27136e95/7/1/712342520.jpg\n",
      "38 ./images/best_selling/038.jpg https://cdn.tous.com/media/catalog/product/cache/image/512x512/9df78eab33525d08d6e5fb8d27136e95/7/1/712163570.jpg\n",
      "39 ./images/best_selling/039.jpg https://cdn.tous.com/media/catalog/product/cache/image/512x512/9df78eab33525d08d6e5fb8d27136e95/7/1/712314510.jpg\n",
      "40 ./images/best_selling/040.jpg https://cdn.tous.com/media/catalog/product/cache/image/512x512/9df78eab33525d08d6e5fb8d27136e95/7/1/712314540.jpg\n",
      "41 ./images/best_selling/041.jpg https://cdn.tous.com/media/catalog/product/cache/image/512x512/9df78eab33525d08d6e5fb8d27136e95/7/1/712314600.jpg\n",
      "42 ./images/best_selling/042.jpg https://cdn.tous.com/media/catalog/product/cache/image/512x512/9df78eab33525d08d6e5fb8d27136e95/7/1/712314630.jpg\n",
      "43 ./images/best_selling/043.jpg https://cdn.tous.com/media/catalog/product/cache/image/512x512/9df78eab33525d08d6e5fb8d27136e95/7/1/712314640.jpg\n",
      "44 ./images/best_selling/044.jpg https://cdn.tous.com/media/catalog/product/cache/image/512x512/9df78eab33525d08d6e5fb8d27136e95/6/1/617091020.jpg\n",
      "45 ./images/best_selling/045.jpg https://cdn.tous.com/media/catalog/product/cache/image/512x512/9df78eab33525d08d6e5fb8d27136e95/6/1/617091010.jpg\n",
      "46 ./images/best_selling/046.jpg https://cdn.tous.com/media/catalog/product/cache/image/512x512/9df78eab33525d08d6e5fb8d27136e95/6/1/617091030.jpg\n",
      "47 ./images/best_selling/047.jpg https://cdn.tous.com/media/catalog/product/cache/image/512x512/9df78eab33525d08d6e5fb8d27136e95/9/1/913031560.jpg\n",
      "48 ./images/best_selling/048.jpg https://cdn.tous.com/media/catalog/product/cache/image/512x512/9df78eab33525d08d6e5fb8d27136e95/0/1/015901540.jpg\n",
      "49 ./images/not_best_selling/049.jpg https://cdn.tous.com/media/catalog/product/cache/image/512x512/9df78eab33525d08d6e5fb8d27136e95/9/1/914051500.jpg\n",
      "50 ./images/not_best_selling/050.jpg https://cdn.tous.com/media/catalog/product/cache/image/512x512/9df78eab33525d08d6e5fb8d27136e95/9/1/914051510.jpg\n",
      "51 ./images/not_best_selling/051.jpg https://cdn.tous.com/media/catalog/product/cache/image/512x512/9df78eab33525d08d6e5fb8d27136e95/9/1/914154020.jpg\n",
      "52 ./images/not_best_selling/052.jpg https://cdn.tous.com/media/catalog/product/cache/image/512x512/9df78eab33525d08d6e5fb8d27136e95/9/1/914151500.jpg\n",
      "53 ./images/not_best_selling/053.jpg https://cdn.tous.com/media/catalog/product/cache/image/512x512/9df78eab33525d08d6e5fb8d27136e95/9/1/914151530.jpg\n",
      "54 ./images/not_best_selling/054.jpg https://cdn.tous.com/media/catalog/product/cache/image/512x512/9df78eab33525d08d6e5fb8d27136e95/9/1/914151520.jpg\n",
      "55 ./images/not_best_selling/055.jpg https://cdn.tous.com/media/catalog/product/cache/image/512x512/9df78eab33525d08d6e5fb8d27136e95/9/1/914151510.jpg\n"
     ]
    },
    {
     "name": "stdout",
     "output_type": "stream",
     "text": [
      "56 ./images/not_best_selling/056.jpg https://cdn.tous.com/media/catalog/product/cache/image/512x512/9df78eab33525d08d6e5fb8d27136e95/9/1/915301620.jpg\n",
      "57 ./images/not_best_selling/057.jpg https://cdn.tous.com/media/catalog/product/cache/image/512x512/9df78eab33525d08d6e5fb8d27136e95/9/1/915301610.jpg\n",
      "58 ./images/not_best_selling/058.jpg https://cdn.tous.com/media/catalog/product/cache/image/512x512/9df78eab33525d08d6e5fb8d27136e95/9/1/915301590.jpg\n",
      "59 ./images/not_best_selling/059.jpg https://cdn.tous.com/media/catalog/product/cache/image/512x512/9df78eab33525d08d6e5fb8d27136e95/9/1/915301580.jpg\n",
      "60 ./images/not_best_selling/060.jpg https://cdn.tous.com/media/catalog/product/cache/image/512x512/9df78eab33525d08d6e5fb8d27136e95/9/1/915301570.jpg\n",
      "61 ./images/not_best_selling/061.jpg https://cdn.tous.com/media/catalog/product/cache/image/512x512/9df78eab33525d08d6e5fb8d27136e95/9/1/915301560.jpg\n",
      "62 ./images/not_best_selling/062.jpg https://cdn.tous.com/media/catalog/product/cache/image/512x512/9df78eab33525d08d6e5fb8d27136e95/9/1/915301540.jpg\n",
      "63 ./images/not_best_selling/063.jpg https://cdn.tous.com/media/catalog/product/cache/image/512x512/9df78eab33525d08d6e5fb8d27136e95/9/1/915301530.jpg\n",
      "64 ./images/not_best_selling/064.jpg https://cdn.tous.com/media/catalog/product/cache/image/512x512/9df78eab33525d08d6e5fb8d27136e95/9/1/915301520.jpg\n",
      "65 ./images/not_best_selling/065.jpg https://cdn.tous.com/media/catalog/product/cache/image/512x512/9df78eab33525d08d6e5fb8d27136e95/9/1/915301510.jpg\n",
      "66 ./images/not_best_selling/066.jpg https://cdn.tous.com/media/catalog/product/cache/image/512x512/9df78eab33525d08d6e5fb8d27136e95/9/1/915301030.jpg\n",
      "67 ./images/not_best_selling/067.jpg https://cdn.tous.com/media/catalog/product/cache/image/512x512/9df78eab33525d08d6e5fb8d27136e95/9/1/915301020.jpg\n",
      "68 ./images/not_best_selling/068.jpg https://cdn.tous.com/media/catalog/product/cache/image/512x512/9df78eab33525d08d6e5fb8d27136e95/9/1/915301010.jpg\n",
      "69 ./images/not_best_selling/069.jpg https://cdn.tous.com/media/catalog/product/cache/image/512x512/9df78eab33525d08d6e5fb8d27136e95/9/1/918571560.jpg\n",
      "70 ./images/not_best_selling/070.jpg https://cdn.tous.com/media/catalog/product/cache/image/512x512/9df78eab33525d08d6e5fb8d27136e95/9/1/918571540.jpg\n",
      "71 ./images/not_best_selling/071.jpg https://cdn.tous.com/media/catalog/product/cache/image/512x512/9df78eab33525d08d6e5fb8d27136e95/9/1/918571530.jpg\n",
      "72 ./images/not_best_selling/072.jpg https://cdn.tous.com/media/catalog/product/cache/image/512x512/9df78eab33525d08d6e5fb8d27136e95/9/1/918571520.jpg\n",
      "73 ./images/not_best_selling/073.jpg https://cdn.tous.com/media/catalog/product/cache/image/512x512/9df78eab33525d08d6e5fb8d27136e95/8/1/812451620.jpg\n",
      "74 ./images/not_best_selling/074.jpg https://cdn.tous.com/media/catalog/product/cache/image/512x512/9df78eab33525d08d6e5fb8d27136e95/8/1/812451610.jpg\n",
      "75 ./images/not_best_selling/075.jpg https://cdn.tous.com/media/catalog/product/cache/image/512x512/9df78eab33525d08d6e5fb8d27136e95/8/1/812451600.jpg\n",
      "76 ./images/not_best_selling/076.jpg https://cdn.tous.com/media/catalog/product/cache/image/512x512/9df78eab33525d08d6e5fb8d27136e95/8/1/812451590.jpg\n",
      "77 ./images/not_best_selling/077.jpg https://cdn.tous.com/media/catalog/product/cache/image/512x512/9df78eab33525d08d6e5fb8d27136e95/8/1/812451580.jpg\n",
      "78 ./images/not_best_selling/078.jpg https://cdn.tous.com/media/catalog/product/cache/image/512x512/9df78eab33525d08d6e5fb8d27136e95/8/1/812451570.jpg\n",
      "79 ./images/not_best_selling/079.jpg https://cdn.tous.com/media/catalog/product/cache/image/512x512/9df78eab33525d08d6e5fb8d27136e95/8/1/812451560.jpg\n",
      "80 ./images/not_best_selling/080.jpg https://cdn.tous.com/media/catalog/product/cache/image/512x512/9df78eab33525d08d6e5fb8d27136e95/8/1/812451550.jpg\n",
      "81 ./images/not_best_selling/081.jpg https://cdn.tous.com/media/catalog/product/cache/image/512x512/9df78eab33525d08d6e5fb8d27136e95/8/1/812451540.jpg\n",
      "82 ./images/not_best_selling/082.jpg https://cdn.tous.com/media/catalog/product/cache/image/512x512/9df78eab33525d08d6e5fb8d27136e95/8/1/812451530.jpg\n",
      "83 ./images/not_best_selling/083.jpg https://cdn.tous.com/media/catalog/product/cache/image/512x512/9df78eab33525d08d6e5fb8d27136e95/8/1/812451520.jpg\n",
      "84 ./images/not_best_selling/084.jpg https://cdn.tous.com/media/catalog/product/cache/image/512x512/9df78eab33525d08d6e5fb8d27136e95/8/1/812451510.jpg\n",
      "85 ./images/not_best_selling/085.jpg https://cdn.tous.com/media/catalog/product/cache/image/512x512/9df78eab33525d08d6e5fb8d27136e95/8/1/812451500.jpg\n",
      "86 ./images/not_best_selling/086.jpg https://cdn.tous.com/media/catalog/product/cache/image/512x512/9df78eab33525d08d6e5fb8d27136e95/8/1/812451030.jpg\n",
      "87 ./images/not_best_selling/087.jpg https://cdn.tous.com/media/catalog/product/cache/image/512x512/9df78eab33525d08d6e5fb8d27136e95/9/1/913041100.jpg\n",
      "88 ./images/not_best_selling/088.jpg https://cdn.tous.com/media/catalog/product/cache/image/512x512/9df78eab33525d08d6e5fb8d27136e95/9/1/913031560.jpg\n",
      "89 ./images/not_best_selling/089.jpg https://cdn.tous.com/media/catalog/product/cache/image/512x512/9df78eab33525d08d6e5fb8d27136e95/9/1/913031550.jpg\n",
      "90 ./images/not_best_selling/090.jpg https://cdn.tous.com/media/catalog/product/cache/image/512x512/9df78eab33525d08d6e5fb8d27136e95/9/1/913001140.jpg\n",
      "91 ./images/not_best_selling/091.jpg https://cdn.tous.com/media/catalog/product/cache/image/512x512/9df78eab33525d08d6e5fb8d27136e95/9/1/913001120.jpg\n",
      "92 ./images/not_best_selling/092.jpg https://cdn.tous.com/media/catalog/product/cache/image/512x512/9df78eab33525d08d6e5fb8d27136e95/9/1/913001110.jpg\n",
      "93 ./images/not_best_selling/093.jpg https://cdn.tous.com/media/catalog/product/cache/image/512x512/9df78eab33525d08d6e5fb8d27136e95/9/1/913001100.jpg\n",
      "94 ./images/not_best_selling/094.jpg https://cdn.tous.com/media/catalog/product/cache/image/512x512/9df78eab33525d08d6e5fb8d27136e95/9/1/912721510.jpg\n",
      "95 ./images/not_best_selling/095.jpg https://cdn.tous.com/media/catalog/product/cache/image/512x512/9df78eab33525d08d6e5fb8d27136e95/9/1/912721500.jpg\n",
      "96 ./images/not_best_selling/096.jpg https://cdn.tous.com/media/catalog/product/cache/image/512x512/9df78eab33525d08d6e5fb8d27136e95/9/1/911901880.jpg\n",
      "97 ./images/not_best_selling/097.jpg https://cdn.tous.com/media/catalog/product/cache/image/512x512/9df78eab33525d08d6e5fb8d27136e95/C/9/C918565500.jpg\n",
      "98 ./images/not_best_selling/098.jpg https://cdn.tous.com/media/catalog/product/cache/image/512x512/9df78eab33525d08d6e5fb8d27136e95/C/9/C918565510.jpg\n",
      "99 ./images/not_best_selling/099.jpg https://cdn.tous.com/media/catalog/product/cache/image/512x512/9df78eab33525d08d6e5fb8d27136e95/C/9/C918585500.jpg\n",
      "100 ./images/not_best_selling/100.jpg https://cdn.tous.com/media/catalog/product/cache/image/512x512/9df78eab33525d08d6e5fb8d27136e95/C/9/C918455520.jpg\n",
      "101 ./images/not_best_selling/101.jpg https://cdn.tous.com/media/catalog/product/cache/image/512x512/9df78eab33525d08d6e5fb8d27136e95/C/9/C918455510.jpg\n",
      "102 ./images/not_best_selling/102.jpg https://cdn.tous.com/media/catalog/product/cache/image/512x512/9df78eab33525d08d6e5fb8d27136e95/C/9/C918455500.jpg\n",
      "103 ./images/not_best_selling/103.jpg https://cdn.tous.com/media/catalog/product/cache/image/512x512/9df78eab33525d08d6e5fb8d27136e95/C/9/C918575500.jpg\n",
      "104 ./images/not_best_selling/104.jpg https://cdn.tous.com/media/catalog/product/cache/image/512x512/9df78eab33525d08d6e5fb8d27136e95/C/9/C912725530.jpg\n",
      "105 ./images/not_best_selling/105.jpg https://cdn.tous.com/media/catalog/product/cache/image/512x512/9df78eab33525d08d6e5fb8d27136e95/C/9/C915305520.jpg\n",
      "106 ./images/not_best_selling/106.jpg https://cdn.tous.com/media/catalog/product/cache/image/512x512/9df78eab33525d08d6e5fb8d27136e95/C/9/C915305550.jpg\n",
      "107 ./images/not_best_selling/107.jpg https://cdn.tous.com/media/catalog/product/cache/image/512x512/9df78eab33525d08d6e5fb8d27136e95/C/1/C1001971312.jpg\n",
      "108 ./images/not_best_selling/108.jpg https://cdn.tous.com/media/catalog/product/cache/image/512x512/9df78eab33525d08d6e5fb8d27136e95/C/8/C812465560.jpg\n",
      "109 ./images/not_best_selling/109.jpg https://cdn.tous.com/media/catalog/product/cache/image/512x512/9df78eab33525d08d6e5fb8d27136e95/C/8/C812465550.jpg\n",
      "110 ./images/not_best_selling/110.jpg https://cdn.tous.com/media/catalog/product/cache/image/512x512/9df78eab33525d08d6e5fb8d27136e95/C/8/C812465540.jpg\n"
     ]
    },
    {
     "name": "stdout",
     "output_type": "stream",
     "text": [
      "111 ./images/not_best_selling/111.jpg https://cdn.tous.com/media/catalog/product/cache/image/512x512/9df78eab33525d08d6e5fb8d27136e95/C/8/C812465530.jpg\n",
      "112 ./images/not_best_selling/112.jpg https://cdn.tous.com/media/catalog/product/cache/image/512x512/9df78eab33525d08d6e5fb8d27136e95/C/8/C812465510.jpg\n",
      "113 ./images/not_best_selling/113.jpg https://cdn.tous.com/media/catalog/product/cache/image/512x512/9df78eab33525d08d6e5fb8d27136e95/C/8/C812465500.jpg\n",
      "114 ./images/not_best_selling/114.jpg https://cdn.tous.com/media/catalog/product/cache/image/512x512/9df78eab33525d08d6e5fb8d27136e95/C/8/C812465000.jpg\n",
      "115 ./images/not_best_selling/115.jpg https://cdn.tous.com/media/catalog/product/cache/image/512x512/9df78eab33525d08d6e5fb8d27136e95/C/8/C812455580.jpg\n",
      "116 ./images/not_best_selling/116.jpg https://cdn.tous.com/media/catalog/product/cache/image/512x512/9df78eab33525d08d6e5fb8d27136e95/C/8/C812455550.jpg\n",
      "117 ./images/not_best_selling/117.jpg https://cdn.tous.com/media/catalog/product/cache/image/512x512/9df78eab33525d08d6e5fb8d27136e95/C/8/C812455540.jpg\n",
      "118 ./images/not_best_selling/118.jpg https://cdn.tous.com/media/catalog/product/cache/image/512x512/9df78eab33525d08d6e5fb8d27136e95/C/8/C812455530.jpg\n",
      "119 ./images/not_best_selling/119.jpg https://cdn.tous.com/media/catalog/product/cache/image/512x512/9df78eab33525d08d6e5fb8d27136e95/C/8/C812455520.jpg\n",
      "120 ./images/not_best_selling/120.jpg https://cdn.tous.com/media/catalog/product/cache/image/512x512/9df78eab33525d08d6e5fb8d27136e95/C/8/C812455510.jpg\n",
      "121 ./images/not_best_selling/121.jpg https://cdn.tous.com/media/catalog/product/cache/image/512x512/9df78eab33525d08d6e5fb8d27136e95/C/8/C810405081.jpg\n",
      "122 ./images/not_best_selling/122.jpg https://cdn.tous.com/media/catalog/product/cache/image/512x512/9df78eab33525d08d6e5fb8d27136e95/C/8/C815535020.jpg\n",
      "123 ./images/not_best_selling/123.jpg https://cdn.tous.com/media/catalog/product/cache/image/512x512/9df78eab33525d08d6e5fb8d27136e95/C/8/C815535040.jpg\n",
      "124 ./images/not_best_selling/124.jpg https://cdn.tous.com/media/catalog/product/cache/image/512x512/9df78eab33525d08d6e5fb8d27136e95/C/8/C815535010.jpg\n",
      "125 ./images/not_best_selling/125.jpg https://cdn.tous.com/media/catalog/product/cache/image/512x512/9df78eab33525d08d6e5fb8d27136e95/C/8/C815535050.jpg\n",
      "126 ./images/not_best_selling/126.jpg https://cdn.tous.com/media/catalog/product/cache/image/512x512/9df78eab33525d08d6e5fb8d27136e95/C/8/C815535000.jpg\n",
      "127 ./images/not_best_selling/127.jpg https://cdn.tous.com/media/catalog/product/cache/image/512x512/9df78eab33525d08d6e5fb8d27136e95/C/8/C815535030.jpg\n",
      "128 ./images/not_best_selling/128.jpg https://cdn.tous.com/media/catalog/product/cache/image/512x512/9df78eab33525d08d6e5fb8d27136e95/C/8/C815435580.jpg\n",
      "129 ./images/not_best_selling/129.jpg https://cdn.tous.com/media/catalog/product/cache/image/512x512/9df78eab33525d08d6e5fb8d27136e95/C/8/C815435560.jpg\n",
      "130 ./images/not_best_selling/130.jpg https://cdn.tous.com/media/catalog/product/cache/image/512x512/9df78eab33525d08d6e5fb8d27136e95/C/8/C815435550.jpg\n",
      "131 ./images/not_best_selling/131.jpg https://cdn.tous.com/media/catalog/product/cache/image/512x512/9df78eab33525d08d6e5fb8d27136e95/C/8/C815435570.jpg\n",
      "132 ./images/not_best_selling/132.jpg https://cdn.tous.com/media/catalog/product/cache/image/512x512/9df78eab33525d08d6e5fb8d27136e95/C/8/C815435540.jpg\n",
      "133 ./images/not_best_selling/133.jpg https://cdn.tous.com/media/catalog/product/cache/image/512x512/9df78eab33525d08d6e5fb8d27136e95/C/8/C816685500.jpg\n",
      "134 ./images/not_best_selling/134.jpg https://cdn.tous.com/media/catalog/product/cache/image/512x512/9df78eab33525d08d6e5fb8d27136e95/C/8/C816685000.jpg\n",
      "135 ./images/not_best_selling/135.jpg https://cdn.tous.com/media/catalog/product/cache/image/512x512/9df78eab33525d08d6e5fb8d27136e95/C/8/C812405000.jpg\n",
      "136 ./images/not_best_selling/136.jpg https://cdn.tous.com/media/catalog/product/cache/image/512x512/9df78eab33525d08d6e5fb8d27136e95/C/8/C812405600.jpg\n",
      "137 ./images/not_best_selling/137.jpg https://cdn.tous.com/media/catalog/product/cache/image/512x512/9df78eab33525d08d6e5fb8d27136e95/C/8/C812405610.jpg\n",
      "138 ./images/not_best_selling/138.jpg https://cdn.tous.com/media/catalog/product/cache/image/512x512/9df78eab33525d08d6e5fb8d27136e95/C/8/C812405520.jpg\n",
      "139 ./images/not_best_selling/139.jpg https://cdn.tous.com/media/catalog/product/cache/image/512x512/9df78eab33525d08d6e5fb8d27136e95/C/8/C812405580.jpg\n",
      "140 ./images/not_best_selling/140.jpg https://cdn.tous.com/media/catalog/product/cache/image/512x512/9df78eab33525d08d6e5fb8d27136e95/C/8/C812405590.jpg\n",
      "141 ./images/not_best_selling/141.jpg https://cdn.tous.com/media/catalog/product/cache/image/512x512/9df78eab33525d08d6e5fb8d27136e95/C/8/C812405540.jpg\n",
      "142 ./images/not_best_selling/142.jpg https://cdn.tous.com/media/catalog/product/cache/image/512x512/9df78eab33525d08d6e5fb8d27136e95/C/8/C812405570.jpg\n",
      "143 ./images/not_best_selling/143.jpg https://cdn.tous.com/media/catalog/product/cache/image/512x512/9df78eab33525d08d6e5fb8d27136e95/C/8/C812405560.jpg\n",
      "144 ./images/not_best_selling/144.jpg https://cdn.tous.com/media/catalog/product/cache/image/512x512/9df78eab33525d08d6e5fb8d27136e95/C/8/C812405530.jpg\n",
      "145 ./images/not_best_selling/145.jpg https://cdn.tous.com/media/catalog/product/cache/image/512x512/9df78eab33525d08d6e5fb8d27136e95/3/1/315113560.jpg\n",
      "146 ./images/not_best_selling/146.jpg https://cdn.tous.com/media/catalog/product/cache/image/512x512/9df78eab33525d08d6e5fb8d27136e95/9/1/918523040_2.jpg\n",
      "147 ./images/not_best_selling/147.jpg https://cdn.tous.com/media/catalog/product/cache/image/512x512/9df78eab33525d08d6e5fb8d27136e95/9/1/918543590.jpg\n",
      "148 ./images/not_best_selling/148.jpg https://cdn.tous.com/media/catalog/product/cache/image/512x512/9df78eab33525d08d6e5fb8d27136e95/9/1/918543580_9.jpg\n",
      "149 ./images/not_best_selling/149.jpg https://cdn.tous.com/media/catalog/product/cache/image/512x512/9df78eab33525d08d6e5fb8d27136e95/9/1/918523020.jpg\n",
      "150 ./images/not_best_selling/150.jpg https://cdn.tous.com/media/catalog/product/cache/image/512x512/9df78eab33525d08d6e5fb8d27136e95/9/1/918523090.jpg\n",
      "151 ./images/not_best_selling/151.jpg https://cdn.tous.com/media/catalog/product/cache/image/512x512/9df78eab33525d08d6e5fb8d27136e95/9/1/918523100.jpg\n",
      "152 ./images/not_best_selling/152.jpg https://cdn.tous.com/media/catalog/product/cache/image/512x512/9df78eab33525d08d6e5fb8d27136e95/8/1/815603000.jpg\n",
      "153 ./images/not_best_selling/153.jpg https://cdn.tous.com/media/catalog/product/cache/image/512x512/9df78eab33525d08d6e5fb8d27136e95/8/1/815603010.jpg\n",
      "154 ./images/not_best_selling/154.jpg https://cdn.tous.com/media/catalog/product/cache/image/512x512/9df78eab33525d08d6e5fb8d27136e95/9/1/918563510.jpg\n",
      "155 ./images/not_best_selling/155.jpg https://cdn.tous.com/media/catalog/product/cache/image/512x512/9df78eab33525d08d6e5fb8d27136e95/9/1/918453500.jpg\n",
      "156 ./images/not_best_selling/156.jpg https://cdn.tous.com/media/catalog/product/cache/image/512x512/9df78eab33525d08d6e5fb8d27136e95/9/1/918533510.jpg\n",
      "157 ./images/not_best_selling/157.jpg https://cdn.tous.com/media/catalog/product/cache/image/512x512/9df78eab33525d08d6e5fb8d27136e95/7/1/712343580.jpg\n",
      "158 ./images/not_best_selling/158.jpg https://cdn.tous.com/media/catalog/product/cache/image/512x512/9df78eab33525d08d6e5fb8d27136e95/8/1/814643000.jpg\n",
      "159 ./images/not_best_selling/159.jpg https://cdn.tous.com/media/catalog/product/cache/image/512x512/9df78eab33525d08d6e5fb8d27136e95/8/1/812373500.jpg\n",
      "160 ./images/not_best_selling/160.jpg https://cdn.tous.com/media/catalog/product/cache/image/512x512/9df78eab33525d08d6e5fb8d27136e95/9/1/918453550.jpg\n",
      "161 ./images/not_best_selling/161.jpg https://cdn.tous.com/media/catalog/product/cache/image/512x512/9df78eab33525d08d6e5fb8d27136e95/9/1/918453590.jpg\n",
      "162 ./images/not_best_selling/162.jpg https://cdn.tous.com/media/catalog/product/cache/image/512x512/9df78eab33525d08d6e5fb8d27136e95/9/1/918453610.jpg\n",
      "163 ./images/not_best_selling/163.jpg https://cdn.tous.com/media/catalog/product/cache/image/512x512/9df78eab33525d08d6e5fb8d27136e95/9/1/918453530.jpg\n",
      "164 ./images/not_best_selling/164.jpg https://cdn.tous.com/media/catalog/product/cache/image/512x512/9df78eab33525d08d6e5fb8d27136e95/9/1/918453600.jpg\n"
     ]
    },
    {
     "name": "stdout",
     "output_type": "stream",
     "text": [
      "165 ./images/not_best_selling/165.jpg https://cdn.tous.com/media/catalog/product/cache/image/512x512/9df78eab33525d08d6e5fb8d27136e95/9/1/918453570.jpg\n",
      "166 ./images/not_best_selling/166.jpg https://cdn.tous.com/media/catalog/product/cache/image/512x512/9df78eab33525d08d6e5fb8d27136e95/9/1/918573580.jpg\n",
      "167 ./images/not_best_selling/167.jpg https://cdn.tous.com/media/catalog/product/cache/image/512x512/9df78eab33525d08d6e5fb8d27136e95/9/1/918563500.jpg\n",
      "168 ./images/not_best_selling/168.jpg https://cdn.tous.com/media/catalog/product/cache/image/512x512/9df78eab33525d08d6e5fb8d27136e95/9/1/918573510.jpg\n",
      "169 ./images/not_best_selling/169.jpg https://cdn.tous.com/media/catalog/product/cache/image/512x512/9df78eab33525d08d6e5fb8d27136e95/8/1/812453610.jpg\n",
      "170 ./images/not_best_selling/170.jpg https://cdn.tous.com/media/catalog/product/cache/image/512x512/9df78eab33525d08d6e5fb8d27136e95/8/1/812453590.jpg\n",
      "171 ./images/not_best_selling/171.jpg https://cdn.tous.com/media/catalog/product/cache/image/512x512/9df78eab33525d08d6e5fb8d27136e95/8/1/812453580.jpg\n",
      "172 ./images/not_best_selling/172.jpg https://cdn.tous.com/media/catalog/product/cache/image/512x512/9df78eab33525d08d6e5fb8d27136e95/8/1/812453570.jpg\n",
      "173 ./images/not_best_selling/173.jpg https://cdn.tous.com/media/catalog/product/cache/image/512x512/9df78eab33525d08d6e5fb8d27136e95/8/1/812453560.jpg\n",
      "174 ./images/not_best_selling/174.jpg https://cdn.tous.com/media/catalog/product/cache/image/512x512/9df78eab33525d08d6e5fb8d27136e95/8/1/812453550.jpg\n",
      "175 ./images/not_best_selling/175.jpg https://cdn.tous.com/media/catalog/product/cache/image/512x512/9df78eab33525d08d6e5fb8d27136e95/8/1/812453540.jpg\n",
      "176 ./images/not_best_selling/176.jpg https://cdn.tous.com/media/catalog/product/cache/image/512x512/9df78eab33525d08d6e5fb8d27136e95/8/1/812453530.jpg\n",
      "177 ./images/not_best_selling/177.jpg https://cdn.tous.com/media/catalog/product/cache/image/512x512/9df78eab33525d08d6e5fb8d27136e95/8/1/812453520.jpg\n",
      "178 ./images/not_best_selling/178.jpg https://cdn.tous.com/media/catalog/product/cache/image/512x512/9df78eab33525d08d6e5fb8d27136e95/8/1/812453510.jpg\n",
      "179 ./images/not_best_selling/179.jpg https://cdn.tous.com/media/catalog/product/cache/image/512x512/9df78eab33525d08d6e5fb8d27136e95/8/1/812453500.jpg\n",
      "180 ./images/not_best_selling/180.jpg https://cdn.tous.com/media/catalog/product/cache/image/512x512/9df78eab33525d08d6e5fb8d27136e95/8/1/812453000.jpg\n",
      "181 ./images/not_best_selling/181.jpg https://cdn.tous.com/media/catalog/product/cache/image/512x512/9df78eab33525d08d6e5fb8d27136e95/8/1/811143520.jpg\n",
      "182 ./images/not_best_selling/182.jpg https://cdn.tous.com/media/catalog/product/cache/image/512x512/9df78eab33525d08d6e5fb8d27136e95/4/1/415903592.jpg\n",
      "183 ./images/not_best_selling/183.jpg https://cdn.tous.com/media/catalog/product/cache/image/512x512/9df78eab33525d08d6e5fb8d27136e95/4/1/415903583.jpg\n",
      "184 ./images/not_best_selling/184.jpg https://cdn.tous.com/media/catalog/product/cache/image/512x512/9df78eab33525d08d6e5fb8d27136e95/8/1/815033510.jpg\n",
      "185 ./images/not_best_selling/185.jpg https://cdn.tous.com/media/catalog/product/cache/image/512x512/9df78eab33525d08d6e5fb8d27136e95/4/1/415903572.jpg\n",
      "186 ./images/not_best_selling/186.jpg https://cdn.tous.com/media/catalog/product/cache/image/512x512/9df78eab33525d08d6e5fb8d27136e95/8/1/812783060.jpg\n",
      "187 ./images/not_best_selling/187.jpg https://cdn.tous.com/media/catalog/product/cache/image/512x512/9df78eab33525d08d6e5fb8d27136e95/8/1/812783050.jpg\n",
      "188 ./images/not_best_selling/188.jpg https://cdn.tous.com/media/catalog/product/cache/image/512x512/9df78eab33525d08d6e5fb8d27136e95/8/1/816983500.jpg\n",
      "189 ./images/not_best_selling/189.jpg https://cdn.tous.com/media/catalog/product/cache/image/512x512/9df78eab33525d08d6e5fb8d27136e95/8/1/816683550.jpg\n",
      "190 ./images/not_best_selling/190.jpg https://cdn.tous.com/media/catalog/product/cache/image/512x512/9df78eab33525d08d6e5fb8d27136e95/8/1/815263000.jpg\n",
      "191 ./images/not_best_selling/191.jpg https://cdn.tous.com/media/catalog/product/cache/image/512x512/9df78eab33525d08d6e5fb8d27136e95/8/1/812453050.jpg\n",
      "192 ./images/not_best_selling/192.jpg https://cdn.tous.com/media/catalog/product/cache/image/512x512/9df78eab33525d08d6e5fb8d27136e95/8/1/812453040.jpg\n",
      "193 ./images/not_best_selling/193.jpg https://cdn.tous.com/media/catalog/product/cache/image/512x512/9df78eab33525d08d6e5fb8d27136e95/9/1/918522010.jpg\n",
      "194 ./images/not_best_selling/194.jpg https://cdn.tous.com/media/catalog/product/cache/image/512x512/9df78eab33525d08d6e5fb8d27136e95/9/1/918572530_9.jpg\n",
      "195 ./images/not_best_selling/195.jpg https://cdn.tous.com/media/catalog/product/cache/image/512x512/9df78eab33525d08d6e5fb8d27136e95/8/1/815604000.jpg\n",
      "196 ./images/not_best_selling/196.jpg https://cdn.tous.com/media/catalog/product/cache/image/512x512/9df78eab33525d08d6e5fb8d27136e95/8/1/815602000.jpg\n",
      "197 ./images/not_best_selling/197.jpg https://cdn.tous.com/media/catalog/product/cache/image/512x512/9df78eab33525d08d6e5fb8d27136e95/9/1/918562510.jpg\n",
      "198 ./images/not_best_selling/198.jpg https://cdn.tous.com/media/catalog/product/cache/image/512x512/9df78eab33525d08d6e5fb8d27136e95/9/1/918532500.jpg\n",
      "199 ./images/not_best_selling/199.jpg https://cdn.tous.com/media/catalog/product/cache/image/512x512/9df78eab33525d08d6e5fb8d27136e95/8/1/814644050.jpg\n",
      "200 ./images/not_best_selling/200.jpg https://cdn.tous.com/media/catalog/product/cache/image/512x512/9df78eab33525d08d6e5fb8d27136e95/9/1/918452520.jpg\n",
      "201 ./images/not_best_selling/201.jpg https://cdn.tous.com/media/catalog/product/cache/image/512x512/9df78eab33525d08d6e5fb8d27136e95/9/1/914154500.jpg\n",
      "202 ./images/not_best_selling/202.jpg https://cdn.tous.com/media/catalog/product/cache/image/512x512/9df78eab33525d08d6e5fb8d27136e95/9/1/914152500.jpg\n",
      "203 ./images/not_best_selling/203.jpg https://cdn.tous.com/media/catalog/product/cache/image/512x512/9df78eab33525d08d6e5fb8d27136e95/9/1/914152520.jpg\n",
      "204 ./images/not_best_selling/204.jpg https://cdn.tous.com/media/catalog/product/cache/image/512x512/9df78eab33525d08d6e5fb8d27136e95/9/1/918562500.jpg\n",
      "205 ./images/not_best_selling/205.jpg https://cdn.tous.com/media/catalog/product/cache/image/512x512/9df78eab33525d08d6e5fb8d27136e95/9/1/918572500.jpg\n",
      "206 ./images/not_best_selling/206.jpg https://cdn.tous.com/media/catalog/product/cache/image/512x512/9df78eab33525d08d6e5fb8d27136e95/9/1/918572510.jpg\n",
      "207 ./images/not_best_selling/207.jpg https://cdn.tous.com/media/catalog/product/cache/image/512x512/9df78eab33525d08d6e5fb8d27136e95/9/1/918532040.jpg\n",
      "208 ./images/not_best_selling/208.jpg https://cdn.tous.com/media/catalog/product/cache/image/512x512/9df78eab33525d08d6e5fb8d27136e95/9/1/912724540.jpg\n",
      "209 ./images/not_best_selling/209.jpg https://cdn.tous.com/media/catalog/product/cache/image/512x512/9df78eab33525d08d6e5fb8d27136e95/9/1/918522000.jpg\n",
      "210 ./images/not_best_selling/210.jpg https://cdn.tous.com/media/catalog/product/cache/image/512x512/9df78eab33525d08d6e5fb8d27136e95/9/1/915304570.jpg\n",
      "211 ./images/not_best_selling/211.jpg https://cdn.tous.com/media/catalog/product/cache/image/512x512/9df78eab33525d08d6e5fb8d27136e95/9/1/912722510.jpg\n",
      "212 ./images/not_best_selling/212.jpg https://cdn.tous.com/media/catalog/product/cache/image/512x512/9df78eab33525d08d6e5fb8d27136e95/9/1/912722500.jpg\n",
      "213 ./images/not_best_selling/213.jpg https://cdn.tous.com/media/catalog/product/cache/image/512x512/9df78eab33525d08d6e5fb8d27136e95/9/1/915304560.jpg\n",
      "214 ./images/not_best_selling/214.jpg https://cdn.tous.com/media/catalog/product/cache/image/512x512/9df78eab33525d08d6e5fb8d27136e95/9/1/915302530.jpg\n",
      "215 ./images/not_best_selling/215.jpg https://cdn.tous.com/media/catalog/product/cache/image/512x512/9df78eab33525d08d6e5fb8d27136e95/9/1/915302520.jpg\n",
      "216 ./images/not_best_selling/216.jpg https://cdn.tous.com/media/catalog/product/cache/image/512x512/9df78eab33525d08d6e5fb8d27136e95/9/1/915302510.jpg\n",
      "217 ./images/not_best_selling/217.jpg https://cdn.tous.com/media/catalog/product/cache/image/512x512/9df78eab33525d08d6e5fb8d27136e95/8/1/818022550.jpg\n",
      "218 ./images/not_best_selling/218.jpg https://cdn.tous.com/media/catalog/product/cache/image/512x512/9df78eab33525d08d6e5fb8d27136e95/8/1/818022500.jpg\n"
     ]
    },
    {
     "name": "stdout",
     "output_type": "stream",
     "text": [
      "219 ./images/not_best_selling/219.jpg https://cdn.tous.com/media/catalog/product/cache/image/512x512/9df78eab33525d08d6e5fb8d27136e95/8/1/818022570.jpg\n",
      "220 ./images/not_best_selling/220.jpg https://cdn.tous.com/media/catalog/product/cache/image/512x512/9df78eab33525d08d6e5fb8d27136e95/8/1/818022540.jpg\n",
      "221 ./images/not_best_selling/221.jpg https://cdn.tous.com/media/catalog/product/cache/image/512x512/9df78eab33525d08d6e5fb8d27136e95/8/1/815032500.jpg\n",
      "222 ./images/not_best_selling/222.jpg https://cdn.tous.com/media/catalog/product/cache/image/512x512/9df78eab33525d08d6e5fb8d27136e95/8/1/812442030.jpg\n",
      "223 ./images/not_best_selling/223.jpg https://cdn.tous.com/media/catalog/product/cache/image/512x512/9df78eab33525d08d6e5fb8d27136e95/8/1/812442160.jpg\n",
      "224 ./images/not_best_selling/224.jpg https://cdn.tous.com/media/catalog/product/cache/image/512x512/9df78eab33525d08d6e5fb8d27136e95/8/1/812442020.jpg\n",
      "225 ./images/not_best_selling/225.jpg https://cdn.tous.com/media/catalog/product/cache/image/512x512/9df78eab33525d08d6e5fb8d27136e95/8/1/812442130.jpg\n",
      "226 ./images/not_best_selling/226.jpg https://cdn.tous.com/media/catalog/product/cache/image/512x512/9df78eab33525d08d6e5fb8d27136e95/8/1/812442140.jpg\n",
      "227 ./images/not_best_selling/227.jpg https://cdn.tous.com/media/catalog/product/cache/image/512x512/9df78eab33525d08d6e5fb8d27136e95/8/1/812442000.jpg\n",
      "228 ./images/not_best_selling/228.jpg https://cdn.tous.com/media/catalog/product/cache/image/512x512/9df78eab33525d08d6e5fb8d27136e95/8/1/812442060.jpg\n",
      "229 ./images/not_best_selling/229.jpg https://cdn.tous.com/media/catalog/product/cache/image/512x512/9df78eab33525d08d6e5fb8d27136e95/8/1/812412500.jpg\n",
      "230 ./images/not_best_selling/230.jpg https://cdn.tous.com/media/catalog/product/cache/image/512x512/9df78eab33525d08d6e5fb8d27136e95/8/1/812412510.jpg\n",
      "231 ./images/not_best_selling/231.jpg https://cdn.tous.com/media/catalog/product/cache/image/512x512/9df78eab33525d08d6e5fb8d27136e95/8/1/812782030.jpg\n",
      "232 ./images/not_best_selling/232.jpg https://cdn.tous.com/media/catalog/product/cache/image/512x512/9df78eab33525d08d6e5fb8d27136e95/8/1/812782000.jpg\n",
      "233 ./images/not_best_selling/233.jpg https://cdn.tous.com/media/catalog/product/cache/image/512x512/9df78eab33525d08d6e5fb8d27136e95/8/1/812782020.jpg\n",
      "234 ./images/not_best_selling/234.jpg https://cdn.tous.com/media/catalog/product/cache/image/512x512/9df78eab33525d08d6e5fb8d27136e95/8/1/816682510.jpg\n",
      "235 ./images/not_best_selling/235.jpg https://cdn.tous.com/media/catalog/product/cache/image/512x512/9df78eab33525d08d6e5fb8d27136e95/8/1/814154530.jpg\n",
      "236 ./images/not_best_selling/236.jpg https://cdn.tous.com/media/catalog/product/cache/image/512x512/9df78eab33525d08d6e5fb8d27136e95/8/1/814154510.jpg\n",
      "237 ./images/not_best_selling/237.jpg https://cdn.tous.com/media/catalog/product/cache/image/512x512/9df78eab33525d08d6e5fb8d27136e95/8/1/814152000.jpg\n",
      "238 ./images/not_best_selling/238.jpg https://cdn.tous.com/media/catalog/product/cache/image/512x512/9df78eab33525d08d6e5fb8d27136e95/8/1/814152510.jpg\n",
      "239 ./images/not_best_selling/239.jpg https://cdn.tous.com/media/catalog/product/cache/image/512x512/9df78eab33525d08d6e5fb8d27136e95/8/1/814152500.jpg\n",
      "240 ./images/not_best_selling/240.jpg https://cdn.tous.com/media/catalog/product/cache/image/512x512/9df78eab33525d08d6e5fb8d27136e95/2/1/215612363.jpg\n",
      "241 ./images/not_best_selling/241.jpg https://cdn.tous.com/media/catalog/product/cache/image/512x512/9df78eab33525d08d6e5fb8d27136e95/9/1/918494500.jpg\n",
      "242 ./images/not_best_selling/242.jpg https://cdn.tous.com/media/catalog/product/cache/image/512x512/9df78eab33525d08d6e5fb8d27136e95/9/1/914174570.jpg\n",
      "243 ./images/not_best_selling/243.jpg https://cdn.tous.com/media/catalog/product/cache/image/512x512/9df78eab33525d08d6e5fb8d27136e95/9/1/914154510.jpg\n",
      "244 ./images/not_best_selling/244.jpg https://cdn.tous.com/media/catalog/product/cache/image/512x512/9df78eab33525d08d6e5fb8d27136e95/9/1/914154530.jpg\n",
      "245 ./images/not_best_selling/245.jpg https://cdn.tous.com/media/catalog/product/cache/image/512x512/9df78eab33525d08d6e5fb8d27136e95/9/1/914154540.jpg\n",
      "246 ./images/not_best_selling/246.jpg https://cdn.tous.com/media/catalog/product/cache/image/512x512/9df78eab33525d08d6e5fb8d27136e95/9/1/914154520.jpg\n",
      "247 ./images/not_best_selling/247.jpg https://cdn.tous.com/media/catalog/product/cache/image/512x512/9df78eab33525d08d6e5fb8d27136e95/9/1/914154000.jpg\n",
      "248 ./images/not_best_selling/248.jpg https://cdn.tous.com/media/catalog/product/cache/image/512x512/9df78eab33525d08d6e5fb8d27136e95/9/1/915114020.jpg\n",
      "249 ./images/not_best_selling/249.jpg https://cdn.tous.com/media/catalog/product/cache/image/512x512/9df78eab33525d08d6e5fb8d27136e95/9/1/912784540.jpg\n",
      "250 ./images/not_best_selling/250.jpg https://cdn.tous.com/media/catalog/product/cache/image/512x512/9df78eab33525d08d6e5fb8d27136e95/9/1/912784560.jpg\n",
      "251 ./images/not_best_selling/251.jpg https://cdn.tous.com/media/catalog/product/cache/image/512x512/9df78eab33525d08d6e5fb8d27136e95/9/1/912784520.jpg\n",
      "252 ./images/not_best_selling/252.jpg https://cdn.tous.com/media/catalog/product/cache/image/512x512/9df78eab33525d08d6e5fb8d27136e95/9/1/912784550.jpg\n",
      "253 ./images/not_best_selling/253.jpg https://cdn.tous.com/media/catalog/product/cache/image/512x512/9df78eab33525d08d6e5fb8d27136e95/9/1/912784530.jpg\n",
      "254 ./images/not_best_selling/254.jpg https://cdn.tous.com/media/catalog/product/cache/image/512x512/9df78eab33525d08d6e5fb8d27136e95/9/1/912784500.jpg\n",
      "255 ./images/not_best_selling/255.jpg https://cdn.tous.com/media/catalog/product/cache/image/512x512/9df78eab33525d08d6e5fb8d27136e95/9/1/918572520_2.jpg\n",
      "256 ./images/not_best_selling/256.jpg https://cdn.tous.com/media/catalog/product/cache/image/512x512/9df78eab33525d08d6e5fb8d27136e95/9/1/918564510.jpg\n",
      "257 ./images/not_best_selling/257.jpg https://cdn.tous.com/media/catalog/product/cache/image/512x512/9df78eab33525d08d6e5fb8d27136e95/9/1/918534500.jpg\n",
      "258 ./images/not_best_selling/258.jpg https://cdn.tous.com/media/catalog/product/cache/image/512x512/9df78eab33525d08d6e5fb8d27136e95/9/1/912314500.jpg\n",
      "259 ./images/not_best_selling/259.jpg https://cdn.tous.com/media/catalog/product/cache/image/512x512/9df78eab33525d08d6e5fb8d27136e95/9/1/912314520.jpg\n",
      "260 ./images/not_best_selling/260.jpg https://cdn.tous.com/media/catalog/product/cache/image/512x512/9df78eab33525d08d6e5fb8d27136e95/9/1/912314510.jpg\n",
      "261 ./images/not_best_selling/261.jpg https://cdn.tous.com/media/catalog/product/cache/image/512x512/9df78eab33525d08d6e5fb8d27136e95/9/1/918454500.jpg\n",
      "262 ./images/not_best_selling/262.jpg https://cdn.tous.com/media/catalog/product/cache/image/512x512/9df78eab33525d08d6e5fb8d27136e95/9/1/918564500.jpg\n",
      "263 ./images/not_best_selling/263.jpg https://cdn.tous.com/media/catalog/product/cache/image/512x512/9df78eab33525d08d6e5fb8d27136e95/9/1/918574510.jpg\n",
      "264 ./images/not_best_selling/264.jpg https://cdn.tous.com/media/catalog/product/cache/image/512x512/9df78eab33525d08d6e5fb8d27136e95/9/1/918574500.jpg\n",
      "265 ./images/not_best_selling/265.jpg https://cdn.tous.com/media/catalog/product/cache/image/512x512/9df78eab33525d08d6e5fb8d27136e95/8/1/812344010.jpg\n",
      "266 ./images/not_best_selling/266.jpg https://cdn.tous.com/media/catalog/product/cache/image/512x512/9df78eab33525d08d6e5fb8d27136e95/8/1/812344020.jpg\n",
      "267 ./images/not_best_selling/267.jpg https://cdn.tous.com/media/catalog/product/cache/image/512x512/9df78eab33525d08d6e5fb8d27136e95/8/1/812344530.jpg\n",
      "268 ./images/not_best_selling/268.jpg https://cdn.tous.com/media/catalog/product/cache/image/512x512/9df78eab33525d08d6e5fb8d27136e95/8/1/812344510.jpg\n",
      "269 ./images/not_best_selling/269.jpg https://cdn.tous.com/media/catalog/product/cache/image/512x512/9df78eab33525d08d6e5fb8d27136e95/8/1/812344520.jpg\n",
      "270 ./images/not_best_selling/270.jpg https://cdn.tous.com/media/catalog/product/cache/image/512x512/9df78eab33525d08d6e5fb8d27136e95/8/1/812344500.jpg\n",
      "271 ./images/not_best_selling/271.jpg https://cdn.tous.com/media/catalog/product/cache/image/512x512/9df78eab33525d08d6e5fb8d27136e95/8/1/812346580.jpg\n",
      "272 ./images/not_best_selling/272.jpg https://cdn.tous.com/media/catalog/product/cache/image/512x512/9df78eab33525d08d6e5fb8d27136e95/8/1/812314560.jpg\n"
     ]
    },
    {
     "name": "stdout",
     "output_type": "stream",
     "text": [
      "273 ./images/not_best_selling/273.jpg https://cdn.tous.com/media/catalog/product/cache/image/512x512/9df78eab33525d08d6e5fb8d27136e95/8/1/812314550.jpg\n",
      "274 ./images/not_best_selling/274.jpg https://cdn.tous.com/media/catalog/product/cache/image/512x512/9df78eab33525d08d6e5fb8d27136e95/8/1/812314570.jpg\n",
      "275 ./images/not_best_selling/275.jpg https://cdn.tous.com/media/catalog/product/cache/image/512x512/9df78eab33525d08d6e5fb8d27136e95/8/1/812314540.jpg\n",
      "276 ./images/not_best_selling/276.jpg https://cdn.tous.com/media/catalog/product/cache/image/512x512/9df78eab33525d08d6e5fb8d27136e95/8/1/812314520.jpg\n",
      "277 ./images/not_best_selling/277.jpg https://cdn.tous.com/media/catalog/product/cache/image/512x512/9df78eab33525d08d6e5fb8d27136e95/8/1/812314510.jpg\n",
      "278 ./images/not_best_selling/278.jpg https://cdn.tous.com/media/catalog/product/cache/image/512x512/9df78eab33525d08d6e5fb8d27136e95/8/1/812314530.jpg\n",
      "279 ./images/not_best_selling/279.jpg https://cdn.tous.com/media/catalog/product/cache/image/512x512/9df78eab33525d08d6e5fb8d27136e95/8/1/812314500.jpg\n",
      "280 ./images/not_best_selling/280.jpg https://cdn.tous.com/media/catalog/product/cache/image/512x512/9df78eab33525d08d6e5fb8d27136e95/8/1/815034020.jpg\n",
      "281 ./images/not_best_selling/281.jpg https://cdn.tous.com/media/catalog/product/cache/image/512x512/9df78eab33525d08d6e5fb8d27136e95/8/1/815034010.jpg\n",
      "282 ./images/not_best_selling/282.jpg https://cdn.tous.com/media/catalog/product/cache/image/512x512/9df78eab33525d08d6e5fb8d27136e95/8/1/815034000.jpg\n",
      "283 ./images/not_best_selling/283.jpg https://cdn.tous.com/media/catalog/product/cache/image/512x512/9df78eab33525d08d6e5fb8d27136e95/8/1/815034520.jpg\n",
      "284 ./images/not_best_selling/284.jpg https://cdn.tous.com/media/catalog/product/cache/image/512x512/9df78eab33525d08d6e5fb8d27136e95/8/1/815034510.jpg\n",
      "285 ./images/not_best_selling/285.jpg https://cdn.tous.com/media/catalog/product/cache/image/512x512/9df78eab33525d08d6e5fb8d27136e95/8/1/818024540.jpg\n",
      "286 ./images/not_best_selling/286.jpg https://cdn.tous.com/media/catalog/product/cache/image/512x512/9df78eab33525d08d6e5fb8d27136e95/8/1/818024510.jpg\n",
      "287 ./images/not_best_selling/287.jpg https://cdn.tous.com/media/catalog/product/cache/image/512x512/9df78eab33525d08d6e5fb8d27136e95/8/1/818024530.jpg\n",
      "288 ./images/not_best_selling/288.jpg https://cdn.tous.com/media/catalog/product/cache/image/512x512/9df78eab33525d08d6e5fb8d27136e95/8/1/818024550.jpg\n",
      "289 ./images/not_best_selling/289.jpg https://cdn.tous.com/media/catalog/product/cache/image/512x512/9df78eab33525d08d6e5fb8d27136e95/7/1/713102500.jpg\n",
      "290 ./images/not_best_selling/290.jpg https://cdn.tous.com/media/catalog/product/cache/image/512x512/9df78eab33525d08d6e5fb8d27136e95/7/1/713102510.jpg\n",
      "291 ./images/not_best_selling/291.jpg https://cdn.tous.com/media/catalog/product/cache/image/512x512/9df78eab33525d08d6e5fb8d27136e95/6/1/611902540.jpg\n",
      "292 ./images/not_best_selling/292.jpg https://cdn.tous.com/media/catalog/product/cache/image/512x512/9df78eab33525d08d6e5fb8d27136e95/6/1/611902530.jpg\n",
      "293 ./images/not_best_selling/293.jpg https://cdn.tous.com/media/catalog/product/cache/image/512x512/9df78eab33525d08d6e5fb8d27136e95/9/1/918502500.jpg\n",
      "294 ./images/not_best_selling/294.jpg https://cdn.tous.com/media/catalog/product/cache/image/512x512/9df78eab33525d08d6e5fb8d27136e95/8/1/812442050.jpg\n",
      "295 ./images/not_best_selling/295.jpg https://cdn.tous.com/media/catalog/product/cache/image/512x512/9df78eab33525d08d6e5fb8d27136e95/8/1/812442040.jpg\n",
      "296 ./images/not_best_selling/296.jpg https://cdn.tous.com/media/catalog/product/cache/image/512x512/9df78eab33525d08d6e5fb8d27136e95/8/1/812342610.jpg\n",
      "297 ./images/not_best_selling/297.jpg https://cdn.tous.com/media/catalog/product/cache/image/512x512/9df78eab33525d08d6e5fb8d27136e95/8/1/812342600.jpg\n",
      "298 ./images/not_best_selling/298.jpg https://cdn.tous.com/media/catalog/product/cache/image/512x512/9df78eab33525d08d6e5fb8d27136e95/8/1/812342590.jpg\n",
      "299 ./images/not_best_selling/299.jpg https://cdn.tous.com/media/catalog/product/cache/image/512x512/9df78eab33525d08d6e5fb8d27136e95/8/1/812342580.jpg\n",
      "300 ./images/not_best_selling/300.jpg https://cdn.tous.com/media/catalog/product/cache/image/512x512/9df78eab33525d08d6e5fb8d27136e95/8/1/812342510.jpg\n",
      "301 ./images/not_best_selling/301.jpg https://cdn.tous.com/media/catalog/product/cache/image/512x512/9df78eab33525d08d6e5fb8d27136e95/8/1/812342500.jpg\n",
      "302 ./images/not_best_selling/302.jpg https://cdn.tous.com/media/catalog/product/cache/image/512x512/9df78eab33525d08d6e5fb8d27136e95/8/1/811902590.jpg\n",
      "303 ./images/not_best_selling/303.jpg https://cdn.tous.com/media/catalog/product/cache/image/512x512/9df78eab33525d08d6e5fb8d27136e95/8/1/811902450.jpg\n",
      "304 ./images/not_best_selling/304.jpg https://cdn.tous.com/media/catalog/product/cache/image/512x512/9df78eab33525d08d6e5fb8d27136e95/8/1/811901342.jpg\n",
      "305 ./images/not_best_selling/305.jpg https://cdn.tous.com/media/catalog/product/cache/image/512x512/9df78eab33525d08d6e5fb8d27136e95/8/1/811901340.jpg\n",
      "306 ./images/not_best_selling/306.jpg https://cdn.tous.com/media/catalog/product/cache/image/512x512/9df78eab33525d08d6e5fb8d27136e95/8/1/811901330.jpg\n",
      "307 ./images/not_best_selling/307.jpg https://cdn.tous.com/media/catalog/product/cache/image/512x512/9df78eab33525d08d6e5fb8d27136e95/8/1/811802450.jpg\n",
      "308 ./images/not_best_selling/308.jpg https://cdn.tous.com/media/catalog/product/cache/image/512x512/9df78eab33525d08d6e5fb8d27136e95/8/1/811800122.jpg\n",
      "309 ./images/not_best_selling/309.jpg https://cdn.tous.com/media/catalog/product/cache/image/512x512/9df78eab33525d08d6e5fb8d27136e95/7/1/714008940.jpg\n",
      "310 ./images/not_best_selling/310.jpg https://cdn.tous.com/media/catalog/product/cache/image/512x512/9df78eab33525d08d6e5fb8d27136e95/7/1/714008930.jpg\n",
      "311 ./images/not_best_selling/311.jpg https://cdn.tous.com/media/catalog/product/cache/image/512x512/9df78eab33525d08d6e5fb8d27136e95/7/1/714008910.jpg\n",
      "312 ./images/not_best_selling/312.jpg https://cdn.tous.com/media/catalog/product/cache/image/512x512/9df78eab33525d08d6e5fb8d27136e95/7/1/714000840.jpg\n",
      "313 ./images/not_best_selling/313.jpg https://cdn.tous.com/media/catalog/product/cache/image/512x512/9df78eab33525d08d6e5fb8d27136e95/4/1/411902530.jpg\n",
      "314 ./images/not_best_selling/314.jpg https://cdn.tous.com/media/catalog/product/cache/image/512x512/9df78eab33525d08d6e5fb8d27136e95/3/1/316142011.jpg\n",
      "315 ./images/not_best_selling/315.jpg https://cdn.tous.com/media/catalog/product/cache/image/512x512/9df78eab33525d08d6e5fb8d27136e95/3/1/316142010.jpg\n",
      "316 ./images/not_best_selling/316.jpg https://cdn.tous.com/media/catalog/product/cache/image/512x512/9df78eab33525d08d6e5fb8d27136e95/3/1/316142001.jpg\n",
      "317 ./images/not_best_selling/317.jpg https://cdn.tous.com/media/catalog/product/cache/image/512x512/9df78eab33525d08d6e5fb8d27136e95/3/1/316142000.jpg\n",
      "318 ./images/not_best_selling/318.jpg https://cdn.tous.com/media/catalog/product/cache/image/512x512/9df78eab33525d08d6e5fb8d27136e95/3/1/314002020.jpg\n",
      "319 ./images/not_best_selling/319.jpg https://cdn.tous.com/media/catalog/product/cache/image/512x512/9df78eab33525d08d6e5fb8d27136e95/3/1/314002010.jpg\n",
      "320 ./images/not_best_selling/320.jpg https://cdn.tous.com/media/catalog/product/cache/image/512x512/9df78eab33525d08d6e5fb8d27136e95/3/1/314000851.jpg\n",
      "321 ./images/not_best_selling/321.jpg https://cdn.tous.com/media/catalog/product/cache/image/512x512/9df78eab33525d08d6e5fb8d27136e95/3/1/314000850.jpg\n",
      "322 ./images/not_best_selling/322.jpg https://cdn.tous.com/media/catalog/product/cache/image/512x512/9df78eab33525d08d6e5fb8d27136e95/3/1/311902930.jpg\n",
      "323 ./images/not_best_selling/323.jpg https://cdn.tous.com/media/catalog/product/cache/image/512x512/9df78eab33525d08d6e5fb8d27136e95/3/1/311902920.jpg\n",
      "324 ./images/not_best_selling/324.jpg https://cdn.tous.com/media/catalog/product/cache/image/512x512/9df78eab33525d08d6e5fb8d27136e95/3/1/311902910.jpg\n",
      "325 ./images/not_best_selling/325.jpg https://cdn.tous.com/media/catalog/product/cache/image/512x512/9df78eab33525d08d6e5fb8d27136e95/3/1/311902540.jpg\n",
      "326 ./images/not_best_selling/326.jpg https://cdn.tous.com/media/catalog/product/cache/image/512x512/9df78eab33525d08d6e5fb8d27136e95/3/1/311902530.jpg\n"
     ]
    },
    {
     "name": "stdout",
     "output_type": "stream",
     "text": [
      "327 ./images/not_best_selling/327.jpg https://cdn.tous.com/media/catalog/product/cache/image/512x512/9df78eab33525d08d6e5fb8d27136e95/3/1/311902520.jpg\n",
      "328 ./images/not_best_selling/328.jpg https://cdn.tous.com/media/catalog/product/cache/image/512x512/9df78eab33525d08d6e5fb8d27136e95/3/1/311901280.jpg\n",
      "329 ./images/not_best_selling/329.jpg https://cdn.tous.com/media/catalog/product/cache/image/512x512/9df78eab33525d08d6e5fb8d27136e95/2/1/218500440.jpg\n",
      "330 ./images/not_best_selling/330.jpg https://cdn.tous.com/media/catalog/product/cache/image/512x512/9df78eab33525d08d6e5fb8d27136e95/2/1/217092600.jpg\n",
      "331 ./images/not_best_selling/331.jpg https://cdn.tous.com/media/catalog/product/cache/image/512x512/9df78eab33525d08d6e5fb8d27136e95/2/1/216352540.jpg\n",
      "332 ./images/not_best_selling/332.jpg https://cdn.tous.com/media/catalog/product/cache/image/512x512/9df78eab33525d08d6e5fb8d27136e95/2/1/214002050.jpg\n",
      "333 ./images/not_best_selling/333.jpg https://cdn.tous.com/media/catalog/product/cache/image/512x512/9df78eab33525d08d6e5fb8d27136e95/2/1/214002040.jpg\n",
      "334 ./images/not_best_selling/334.jpg https://cdn.tous.com/media/catalog/product/cache/image/512x512/9df78eab33525d08d6e5fb8d27136e95/2/1/211902750.jpg\n",
      "335 ./images/not_best_selling/335.jpg https://cdn.tous.com/media/catalog/product/cache/image/512x512/9df78eab33525d08d6e5fb8d27136e95/2/1/211902670.jpg\n",
      "336 ./images/not_best_selling/336.jpg https://cdn.tous.com/media/catalog/product/cache/image/512x512/9df78eab33525d08d6e5fb8d27136e95/2/1/211902660.jpg\n"
     ]
    }
   ],
   "source": [
    "import urllib.request\n",
    "\n",
    "for index, row in data.iterrows():\n",
    "    img_link = row['image'].replace(\"['\", \"\").replace(\"']\", \"\")\n",
    "    img_path = \"{:03d}\".format(index) + \".jpg\"\n",
    "    #keras image preprocessing lib takes each foldor as a class label, thus we need to put them in different classes\n",
    "    if row['best_seller'] == 1:\n",
    "        print(index, \"./images/best_selling/\"+img_path, img_link)\n",
    "        urllib.request.urlretrieve(img_link, \"./images/best_selling/\"+img_path)\n",
    "        data.at[index, \"image_path\"] = \"./images/best_selling/\"+img_path\n",
    "    else:\n",
    "        print(index, \"./images/not_best_selling/\"+img_path, img_link)\n",
    "        urllib.request.urlretrieve(img_link, \"./images/not_best_selling/\"+img_path)\n",
    "        data.at[index, \"image_path\"] = \"./images/not_best_selling/\"+img_path"
   ]
  },
  {
   "cell_type": "markdown",
   "metadata": {},
   "source": [
    "Our dataframe will lool like this now:"
   ]
  },
  {
   "cell_type": "code",
   "execution_count": 20,
   "metadata": {
    "scrolled": true
   },
   "outputs": [
    {
     "data": {
      "text/html": [
       "<div>\n",
       "<style scoped>\n",
       "    .dataframe tbody tr th:only-of-type {\n",
       "        vertical-align: middle;\n",
       "    }\n",
       "\n",
       "    .dataframe tbody tr th {\n",
       "        vertical-align: top;\n",
       "    }\n",
       "\n",
       "    .dataframe thead th {\n",
       "        text-align: right;\n",
       "    }\n",
       "</style>\n",
       "<table border=\"1\" class=\"dataframe\">\n",
       "  <thead>\n",
       "    <tr style=\"text-align: right;\">\n",
       "      <th></th>\n",
       "      <th>best_seller</th>\n",
       "      <th>price</th>\n",
       "      <th>image</th>\n",
       "      <th>image_path</th>\n",
       "    </tr>\n",
       "  </thead>\n",
       "  <tbody>\n",
       "    <tr>\n",
       "      <th>0</th>\n",
       "      <td>1.0</td>\n",
       "      <td>485</td>\n",
       "      <td>['https://cdn.tous.com/media/catalog/product/c...</td>\n",
       "      <td>./images/best_selling/000.jpg</td>\n",
       "    </tr>\n",
       "    <tr>\n",
       "      <th>1</th>\n",
       "      <td>1.0</td>\n",
       "      <td>620</td>\n",
       "      <td>['https://cdn.tous.com/media/catalog/product/c...</td>\n",
       "      <td>./images/best_selling/001.jpg</td>\n",
       "    </tr>\n",
       "    <tr>\n",
       "      <th>2</th>\n",
       "      <td>1.0</td>\n",
       "      <td>370</td>\n",
       "      <td>['https://cdn.tous.com/media/catalog/product/c...</td>\n",
       "      <td>./images/best_selling/002.jpg</td>\n",
       "    </tr>\n",
       "    <tr>\n",
       "      <th>3</th>\n",
       "      <td>1.0</td>\n",
       "      <td>370</td>\n",
       "      <td>['https://cdn.tous.com/media/catalog/product/c...</td>\n",
       "      <td>./images/best_selling/003.jpg</td>\n",
       "    </tr>\n",
       "    <tr>\n",
       "      <th>4</th>\n",
       "      <td>1.0</td>\n",
       "      <td>1300</td>\n",
       "      <td>['https://cdn.tous.com/media/catalog/product/c...</td>\n",
       "      <td>./images/best_selling/004.jpg</td>\n",
       "    </tr>\n",
       "  </tbody>\n",
       "</table>\n",
       "</div>"
      ],
      "text/plain": [
       "   best_seller  price                                              image  \\\n",
       "0          1.0    485  ['https://cdn.tous.com/media/catalog/product/c...   \n",
       "1          1.0    620  ['https://cdn.tous.com/media/catalog/product/c...   \n",
       "2          1.0    370  ['https://cdn.tous.com/media/catalog/product/c...   \n",
       "3          1.0    370  ['https://cdn.tous.com/media/catalog/product/c...   \n",
       "4          1.0   1300  ['https://cdn.tous.com/media/catalog/product/c...   \n",
       "\n",
       "                      image_path  \n",
       "0  ./images/best_selling/000.jpg  \n",
       "1  ./images/best_selling/001.jpg  \n",
       "2  ./images/best_selling/002.jpg  \n",
       "3  ./images/best_selling/003.jpg  \n",
       "4  ./images/best_selling/004.jpg  "
      ]
     },
     "execution_count": 20,
     "metadata": {},
     "output_type": "execute_result"
    }
   ],
   "source": [
    "data.head()"
   ]
  },
  {
   "cell_type": "markdown",
   "metadata": {},
   "source": [
    "Lets explore some randome images from our dataser. We will pick two random images from each class.\n",
    "\n",
    "best sell class:"
   ]
  },
  {
   "cell_type": "code",
   "execution_count": 37,
   "metadata": {},
   "outputs": [
    {
     "data": {
      "image/png": "[encoded data removed]",
      "text/plain": [
       "<Figure size 432x288 with 1 Axes>"
      ]
     },
     "metadata": {
      "needs_background": "light"
     },
     "output_type": "display_data"
    },
    {
     "data": {
      "image/png": "[encoded data removed]",
      "text/plain": [
       "<Figure size 432x288 with 1 Axes>"
      ]
     },
     "metadata": {
      "needs_background": "light"
     },
     "output_type": "display_data"
    }
   ],
   "source": [
    "import random\n",
    "\n",
    "img_path = \"./images/best_selling/\"+\"{:03d}\".format(random.randrange(50)) + \".jpg\"\n",
    "img = plt.imread(img_path)\n",
    "plt.imshow(img)\n",
    "plt.xlabel(img_path)\n",
    "plt.show()\n",
    "\n",
    "img_path = \"./images/best_selling/\"+\"{:03d}\".format(random.randrange(50)) + \".jpg\"\n",
    "img = plt.imread(img_path)\n",
    "plt.imshow(img)\n",
    "plt.xlabel(img_path)\n",
    "plt.show()"
   ]
  },
  {
   "cell_type": "markdown",
   "metadata": {},
   "source": [
    "Not best-selling class:"
   ]
  },
  {
   "cell_type": "code",
   "execution_count": 39,
   "metadata": {},
   "outputs": [
    {
     "data": {
      "image/png": "[encoded data removed]",
      "text/plain": [
       "<Figure size 432x288 with 1 Axes>"
      ]
     },
     "metadata": {
      "needs_background": "light"
     },
     "output_type": "display_data"
    },
    {
     "data": {
      "image/png": "[encoded data removed]",
      "text/plain": [
       "<Figure size 432x288 with 1 Axes>"
      ]
     },
     "metadata": {
      "needs_background": "light"
     },
     "output_type": "display_data"
    }
   ],
   "source": [
    "import random\n",
    "\n",
    "img_path = \"./images/not_best_selling/\"+\"{:03d}\".format(random.randrange(49, 337)) + \".jpg\"\n",
    "img = plt.imread(img_path)\n",
    "plt.imshow(img)\n",
    "plt.xlabel(img_path)\n",
    "plt.show()\n",
    "\n",
    "img_path = \"./images/not_best_selling/\"+\"{:03d}\".format(random.randrange(49, 337)) + \".jpg\"\n",
    "img = plt.imread(img_path)\n",
    "plt.imshow(img)\n",
    "plt.xlabel(img_path)\n",
    "plt.show()"
   ]
  },
  {
   "cell_type": "markdown",
   "metadata": {},
   "source": [
    "### Summary\n",
    "\n",
    "We notice that the best-selling images have a sticker. Since we are doing CNN on these images, the model will identify this sticker as a pattern for best-selling images. This will results in a model with high variance, which we don't want. The task of the next section is to remove this sticker/tag from all images."
   ]
  },
  {
   "cell_type": "markdown",
   "metadata": {},
   "source": [
    "## OpenCv image preprocessing"
   ]
  },
  {
   "cell_type": "markdown",
   "metadata": {},
   "source": [
    "We have to remove the 'best seller' tag from the best-selling products, since it will affect our trainging. We use OpencCV for this task. The main mehtod used is template matching. \n",
    "\n",
    "We are going to imolement a modified Template Matching approach. Here's the overall strategy:\n",
    "\n",
    "- Load template, convert to grayscale, perform canny edge detection\n",
    "- Load original image, convert to grayscale\n",
    "- Continuously rescale image, apply template matching using edges, and keep track of the correlation coefficient (higher value means better match)\n",
    "- Find coordinates of best fit bounding box then erase unwanted ROI\n",
    "\n",
    "Much credits of this section go to @nathancy from Stackoverflow.com for his help.\n",
    "\n",
    "Resources:\n",
    "\n",
    "- https://docs.opencv.org/trunk/d4/dc6/tutorial_py_template_matching.html\n",
    "- https://docs.opencv.org/3.4/dd/d4d/tutorial_js_image_arithmetics.html\n",
    "- https://docs.opencv.org/3.4/d7/d4d/tutorial_py_thresholding.html\n",
    "- https://docs.opencv.org/master/df/d3d/tutorial_py_inpainting.html#gsc.tab=0"
   ]
  },
  {
   "cell_type": "markdown",
   "metadata": {},
   "source": [
    "Here's an example of an image with tag and the tag that we want to remove."
   ]
  },
  {
   "cell_type": "code",
   "execution_count": 43,
   "metadata": {
    "scrolled": false
   },
   "outputs": [
    {
     "data": {
      "image/png": "[encoded data removed]",
      "text/plain": [
       "<Figure size 432x288 with 1 Axes>"
      ]
     },
     "metadata": {
      "needs_background": "light"
     },
     "output_type": "display_data"
    },
    {
     "data": {
      "image/png": "[encoded data removed]",
      "text/plain": [
       "<Figure size 432x288 with 1 Axes>"
      ]
     },
     "metadata": {
      "needs_background": "light"
     },
     "output_type": "display_data"
    }
   ],
   "source": [
    "import numpy as np\n",
    "import cv2 as cv\n",
    "\n",
    "img = plt.imread('./images/001.jpg')\n",
    "plt.xlabel('Example of image with tag')\n",
    "plt.imshow(img)\n",
    "plt.show()\n",
    "\n",
    "\n",
    "sticker = plt.imread('./images/tag.png')\n",
    "plt.xlabel('The tag/object we want to remove')\n",
    "plt.imshow(sticker)\n",
    "plt.show()"
   ]
  },
  {
   "cell_type": "markdown",
   "metadata": {},
   "source": [
    "### Visual demo of Template Matching\n",
    "\n",
    "Visual demo of the modified Template Matching approach."
   ]
  },
  {
   "cell_type": "code",
   "execution_count": 186,
   "metadata": {},
   "outputs": [
    {
     "data": {
      "image/png": "[encoded data removed]",
      "text/plain": [
       "<Figure size 1280x1120 with 1 Axes>"
      ]
     },
     "metadata": {},
     "output_type": "display_data"
    }
   ],
   "source": [
    "from matplotlib.pyplot import figure\n",
    "\n",
    "img = plt.imread('./images/resize_detect_object.png')\n",
    "figure(num=None, figsize=(16, 14), dpi=80, facecolor='w', edgecolor='k')\n",
    "\n",
    "plt.xlabel('Visual demo of the modified Template Matching approach')\n",
    "plt.imshow(img)\n",
    "plt.show()\n"
   ]
  },
  {
   "cell_type": "markdown",
   "metadata": {},
   "source": [
    "### Define the resize method\n",
    "used to rescale the image"
   ]
  },
  {
   "cell_type": "code",
   "execution_count": 95,
   "metadata": {},
   "outputs": [],
   "source": [
    "import cv2\n",
    "import numpy as np\n",
    "\n",
    "# Resizes a image and maintains aspect ratio\n",
    "def maintain_aspect_ratio_resize(image, width=None, height=None, inter=cv2.INTER_AREA):\n",
    "    # Grab the image size and initialize dimensions\n",
    "    dim = None\n",
    "    (h, w) = image.shape[:2]\n",
    "\n",
    "    # Return original image if no need to resize\n",
    "    if width is None and height is None:\n",
    "        return image\n",
    "\n",
    "    # We are resizing height if width is none\n",
    "    if width is None:\n",
    "        # Calculate the ratio of the height and construct the dimensions\n",
    "        r = height / float(h)\n",
    "        dim = (int(w * r), height)\n",
    "    # We are resizing width if height is none\n",
    "    else:\n",
    "        # Calculate the ratio of the 0idth and construct the dimensions\n",
    "        r = width / float(w)\n",
    "        dim = (width, int(h * r))\n",
    "\n",
    "    # Return the resized image\n",
    "    return cv2.resize(image, dim, interpolation=inter)"
   ]
  },
  {
   "cell_type": "markdown",
   "metadata": {},
   "source": [
    "### Define the remove_tag method\n",
    "used for loading imag, loading tag, call the resize method, and remove tag"
   ]
  },
  {
   "cell_type": "code",
   "execution_count": 108,
   "metadata": {},
   "outputs": [],
   "source": [
    "def remove_tag(imag_path):\n",
    "    # Load template, convert to grayscale, perform canny edge detection\n",
    "    template = cv2.imread('./images/tag.png')\n",
    "    template = cv2.cvtColor(template, cv2.COLOR_BGR2GRAY)\n",
    "    template = cv2.Canny(template, 50, 200)\n",
    "    (tH, tW) = template.shape[:2]\n",
    "\n",
    "\n",
    "    # Load original image, convert to grayscale\n",
    "#     original_image = cv2.imread('./images/best_selling (copy)/036.jpg')\n",
    "    original_image = cv2.imread(imag_path)\n",
    "    final = original_image.copy()\n",
    "    gray = cv2.cvtColor(original_image, cv2.COLOR_BGR2GRAY)\n",
    "    found = None\n",
    "\n",
    "    # Dynamically rescale image for better template matching\n",
    "    for scale in np.linspace(0.2, 1.0, 20)[::-1]:\n",
    "\n",
    "        # Resize image to scale and keep track of ratio\n",
    "        resized = maintain_aspect_ratio_resize(gray, width=int(gray.shape[1] * scale))\n",
    "        r = gray.shape[1] / float(resized.shape[1])\n",
    "\n",
    "        # Stop if template image size is larger than resized image\n",
    "        if resized.shape[0] < tH or resized.shape[1] < tW:\n",
    "            break\n",
    "\n",
    "        # Detect edges in resized image and apply template matching\n",
    "        canny = cv2.Canny(resized, 50, 200)\n",
    "        detected = cv2.matchTemplate(canny, template, cv2.TM_CCOEFF)\n",
    "        (_, max_val, _, max_loc) = cv2.minMaxLoc(detected)\n",
    "\n",
    "        # Keep track of correlation value\n",
    "        # Higher correlation means better match\n",
    "        if found is None or max_val > found[0]:\n",
    "            found = (max_val, max_loc, r)\n",
    "\n",
    "    # Compute coordinates of bounding box\n",
    "    (_, max_loc, r) = found\n",
    "    (start_x, start_y) = (int(max_loc[0] * r), int(max_loc[1] * r))\n",
    "    (end_x, end_y) = (int((max_loc[0] + tW) * r), int((max_loc[1] + tH) * r))\n",
    "\n",
    "    # Draw bounding box on ROI to remove\n",
    "    cv2.rectangle(original_image, (start_x, start_y), (end_x, end_y), (0,255,0), 2)\n",
    "    # cv2.circle(original_image,(end_x, end_y),125, (0,255,0), 2)\n",
    "\n",
    "    # Erase unwanted ROI (Fill ROI with white)\n",
    "    cv2.rectangle(final, (start_x, start_y), (end_x, end_y), (255,255,255), -1)\n",
    "    # cv2.circle(original_image,(end_x, end_y),15, (255,255,255), -1)\n",
    "\n",
    "#     plt.imshow(final)\n",
    "#     plt.show()\n",
    "    cv2.imwrite(imag_path,final)\n",
    "    # cv2.waitKey(0)"
   ]
  },
  {
   "cell_type": "markdown",
   "metadata": {},
   "source": [
    "### Remove tags from images\n",
    "\n",
    "Iterate over the images and call the remove_tag mehtod"
   ]
  },
  {
   "cell_type": "code",
   "execution_count": 109,
   "metadata": {
    "scrolled": true
   },
   "outputs": [],
   "source": [
    "for i in range(50):\n",
    "    img_path = \"./images/best_selling/\"+\"{:03d}\".format(i) + \".jpg\"\n",
    "    remove_tag(img_path)"
   ]
  },
  {
   "cell_type": "markdown",
   "metadata": {},
   "source": [
    "Plotting random images after removing the tage:"
   ]
  },
  {
   "cell_type": "code",
   "execution_count": 110,
   "metadata": {},
   "outputs": [
    {
     "data": {
      "image/png": "[encoded data removed]",
      "text/plain": [
       "<Figure size 432x288 with 1 Axes>"
      ]
     },
     "metadata": {
      "needs_background": "light"
     },
     "output_type": "display_data"
    },
    {
     "data": {
      "image/png": "[encoded data removed]",
      "text/plain": [
       "<Figure size 432x288 with 1 Axes>"
      ]
     },
     "metadata": {
      "needs_background": "light"
     },
     "output_type": "display_data"
    }
   ],
   "source": [
    "import random\n",
    "\n",
    "img_path = \"./images/best_selling/\"+\"{:03d}\".format(random.randrange(50)) + \".jpg\"\n",
    "img = plt.imread(img_path)\n",
    "plt.imshow(img)\n",
    "plt.xlabel(img_path)\n",
    "plt.show()\n",
    "\n",
    "img_path = \"./images/best_selling/\"+\"{:03d}\".format(random.randrange(50)) + \".jpg\"\n",
    "img = plt.imread(img_path)\n",
    "plt.imshow(img)\n",
    "plt.xlabel(img_path)\n",
    "plt.show()"
   ]
  },
  {
   "cell_type": "markdown",
   "metadata": {},
   "source": [
    "### Summary\n",
    "\n",
    "We succeded at removing all tags from the best-selling images. In the next section we continue doing image processing but with Keras image processing libraries. The next step is more focused on how we should feed the images to the model."
   ]
  },
  {
   "cell_type": "markdown",
   "metadata": {},
   "source": [
    "## CNN image classifier\n",
    "\n",
    "We will build a model that classifies images whether they are of best-selling products or not. We first perform some Keras preprocessing on the images, like scaling and validation split. Secondly, we build a simole CNN classifier using the configurations given by the documentation. Thirdly, we carry one empirical experiments, knowen as sequential experiments, to optimize our model. We finally pick the model of the mos optimized experiment and plot the loss function of all experiments."
   ]
  },
  {
   "cell_type": "markdown",
   "metadata": {},
   "source": [
    "### Keras image preprocessnig"
   ]
  },
  {
   "cell_type": "markdown",
   "metadata": {},
   "source": [
    "Resources for this section and the following sections:\n",
    "- https://medium.com/@vijayabhaskar96/tutorial-on-keras-flow-from-dataframe-1fd4493d237c\n",
    "- https://medium.com/@vijayabhaskar96/tutorial-image-classification-with-keras-flow-from-directory-and-generators-95f75ebe5720\n",
    "- https://keras.io/preprocessing/image/#flow_from_dataframe"
   ]
  },
  {
   "cell_type": "code",
   "execution_count": 115,
   "metadata": {
    "scrolled": true
   },
   "outputs": [
    {
     "name": "stderr",
     "output_type": "stream",
     "text": [
      "Using TensorFlow backend.\n"
     ]
    }
   ],
   "source": [
    "#Import from keras_preprocessing not from keras.preprocessing\n",
    "\n",
    "from keras_preprocessing.image import ImageDataGenerator\n",
    "from keras.layers import Dense, Activation, Flatten, Dropout, BatchNormalization\n",
    "from keras.layers import Conv2D, MaxPooling2D\n",
    "from keras import regularizers, optimizers\n",
    "import pandas as pd\n",
    "import numpy as np\n",
    "\n",
    "\n",
    "datagen=ImageDataGenerator(rescale=1./255.,validation_split=0.25)"
   ]
  },
  {
   "cell_type": "code",
   "execution_count": 117,
   "metadata": {
    "scrolled": false
   },
   "outputs": [],
   "source": [
    "#the datagem.flow_from_dataframe method deals with categories as string\n",
    "data['best_seller'] = data['best_seller'].astype(str)"
   ]
  },
  {
   "cell_type": "code",
   "execution_count": 119,
   "metadata": {},
   "outputs": [
    {
     "data": {
      "text/html": [
       "<div>\n",
       "<style scoped>\n",
       "    .dataframe tbody tr th:only-of-type {\n",
       "        vertical-align: middle;\n",
       "    }\n",
       "\n",
       "    .dataframe tbody tr th {\n",
       "        vertical-align: top;\n",
       "    }\n",
       "\n",
       "    .dataframe thead th {\n",
       "        text-align: right;\n",
       "    }\n",
       "</style>\n",
       "<table border=\"1\" class=\"dataframe\">\n",
       "  <thead>\n",
       "    <tr style=\"text-align: right;\">\n",
       "      <th></th>\n",
       "      <th>best_seller</th>\n",
       "      <th>price</th>\n",
       "      <th>image</th>\n",
       "      <th>image_path</th>\n",
       "    </tr>\n",
       "  </thead>\n",
       "  <tbody>\n",
       "    <tr>\n",
       "      <th>0</th>\n",
       "      <td>1.0</td>\n",
       "      <td>485</td>\n",
       "      <td>['https://cdn.tous.com/media/catalog/product/c...</td>\n",
       "      <td>./images/best_selling/000.jpg</td>\n",
       "    </tr>\n",
       "    <tr>\n",
       "      <th>1</th>\n",
       "      <td>1.0</td>\n",
       "      <td>620</td>\n",
       "      <td>['https://cdn.tous.com/media/catalog/product/c...</td>\n",
       "      <td>./images/best_selling/001.jpg</td>\n",
       "    </tr>\n",
       "    <tr>\n",
       "      <th>2</th>\n",
       "      <td>1.0</td>\n",
       "      <td>370</td>\n",
       "      <td>['https://cdn.tous.com/media/catalog/product/c...</td>\n",
       "      <td>./images/best_selling/002.jpg</td>\n",
       "    </tr>\n",
       "    <tr>\n",
       "      <th>3</th>\n",
       "      <td>1.0</td>\n",
       "      <td>370</td>\n",
       "      <td>['https://cdn.tous.com/media/catalog/product/c...</td>\n",
       "      <td>./images/best_selling/003.jpg</td>\n",
       "    </tr>\n",
       "    <tr>\n",
       "      <th>4</th>\n",
       "      <td>1.0</td>\n",
       "      <td>1300</td>\n",
       "      <td>['https://cdn.tous.com/media/catalog/product/c...</td>\n",
       "      <td>./images/best_selling/004.jpg</td>\n",
       "    </tr>\n",
       "  </tbody>\n",
       "</table>\n",
       "</div>"
      ],
      "text/plain": [
       "  best_seller  price                                              image  \\\n",
       "0         1.0    485  ['https://cdn.tous.com/media/catalog/product/c...   \n",
       "1         1.0    620  ['https://cdn.tous.com/media/catalog/product/c...   \n",
       "2         1.0    370  ['https://cdn.tous.com/media/catalog/product/c...   \n",
       "3         1.0    370  ['https://cdn.tous.com/media/catalog/product/c...   \n",
       "4         1.0   1300  ['https://cdn.tous.com/media/catalog/product/c...   \n",
       "\n",
       "                      image_path  \n",
       "0  ./images/best_selling/000.jpg  \n",
       "1  ./images/best_selling/001.jpg  \n",
       "2  ./images/best_selling/002.jpg  \n",
       "3  ./images/best_selling/003.jpg  \n",
       "4  ./images/best_selling/004.jpg  "
      ]
     },
     "execution_count": 119,
     "metadata": {},
     "output_type": "execute_result"
    }
   ],
   "source": [
    "data.head()"
   ]
  },
  {
   "cell_type": "code",
   "execution_count": 132,
   "metadata": {
    "scrolled": true
   },
   "outputs": [
    {
     "name": "stdout",
     "output_type": "stream",
     "text": [
      "Found 253 validated image filenames belonging to 2 classes.\n",
      "Found 84 validated image filenames belonging to 2 classes.\n"
     ]
    }
   ],
   "source": [
    "\n",
    "\n",
    "train_generator=datagen.flow_from_dataframe(\n",
    "dataframe=data,\n",
    "directory=\"\",\n",
    "x_col=\"image_path\",\n",
    "y_col=\"best_seller\",\n",
    "subset=\"training\",\n",
    "batch_size=32,\n",
    "seed=42,\n",
    "shuffle=True,\n",
    "class_mode=\"categorical\",\n",
    "target_size=(32,32))\n",
    "\n",
    "valid_generator=datagen.flow_from_dataframe(\n",
    "dataframe=data,\n",
    "directory=\"\",\n",
    "x_col=\"image_path\",\n",
    "y_col=\"best_seller\",\n",
    "subset=\"validation\",\n",
    "batch_size=32,\n",
    "seed=42,\n",
    "shuffle=True,\n",
    "class_mode=\"categorical\",\n",
    "target_size=(32,32))"
   ]
  },
  {
   "cell_type": "markdown",
   "metadata": {},
   "source": [
    "### CNN classification model\n",
    "\n",
    "In this section we build the first CNN classifcation model usning the deafualt configurations given by Keras tutorials. Later we optimize our model using sequential experiments methodology."
   ]
  },
  {
   "cell_type": "code",
   "execution_count": 133,
   "metadata": {},
   "outputs": [],
   "source": [
    "from keras.models import Sequential\n",
    "\n",
    "model = Sequential()\n",
    "model.add(Conv2D(32, (3, 3), padding='same',\n",
    "                 input_shape=(32,32,3)))\n",
    "model.add(Activation('relu'))\n",
    "model.add(Conv2D(32, (3, 3)))\n",
    "model.add(Activation('relu'))\n",
    "model.add(MaxPooling2D(pool_size=(2, 2)))\n",
    "model.add(Dropout(0.25))\n",
    "\n",
    "model.add(Conv2D(64, (3, 3), padding='same'))\n",
    "model.add(Activation('relu'))\n",
    "model.add(Conv2D(64, (3, 3)))\n",
    "model.add(Activation('relu'))\n",
    "model.add(MaxPooling2D(pool_size=(2, 2)))\n",
    "model.add(Dropout(0.25))\n",
    "\n",
    "model.add(Flatten())\n",
    "model.add(Dense(512))\n",
    "model.add(Activation('relu'))\n",
    "model.add(Dropout(0.5))\n",
    "model.add(Dense(2, activation='softmax'))\n",
    "\n",
    "model.compile(optimizers.rmsprop(lr=0.0001, decay=1e-6),loss=\"categorical_crossentropy\",metrics=[\"accuracy\"])"
   ]
  },
  {
   "cell_type": "code",
   "execution_count": 134,
   "metadata": {},
   "outputs": [
    {
     "name": "stdout",
     "output_type": "stream",
     "text": [
      "_________________________________________________________________\n",
      "Layer (type)                 Output Shape              Param #   \n",
      "=================================================================\n",
      "conv2d_13 (Conv2D)           (None, 32, 32, 32)        896       \n",
      "_________________________________________________________________\n",
      "activation_16 (Activation)   (None, 32, 32, 32)        0         \n",
      "_________________________________________________________________\n",
      "conv2d_14 (Conv2D)           (None, 30, 30, 32)        9248      \n",
      "_________________________________________________________________\n",
      "activation_17 (Activation)   (None, 30, 30, 32)        0         \n",
      "_________________________________________________________________\n",
      "max_pooling2d_7 (MaxPooling2 (None, 15, 15, 32)        0         \n",
      "_________________________________________________________________\n",
      "dropout_10 (Dropout)         (None, 15, 15, 32)        0         \n",
      "_________________________________________________________________\n",
      "conv2d_15 (Conv2D)           (None, 15, 15, 64)        18496     \n",
      "_________________________________________________________________\n",
      "activation_18 (Activation)   (None, 15, 15, 64)        0         \n",
      "_________________________________________________________________\n",
      "conv2d_16 (Conv2D)           (None, 13, 13, 64)        36928     \n",
      "_________________________________________________________________\n",
      "activation_19 (Activation)   (None, 13, 13, 64)        0         \n",
      "_________________________________________________________________\n",
      "max_pooling2d_8 (MaxPooling2 (None, 6, 6, 64)          0         \n",
      "_________________________________________________________________\n",
      "dropout_11 (Dropout)         (None, 6, 6, 64)          0         \n",
      "_________________________________________________________________\n",
      "flatten_4 (Flatten)          (None, 2304)              0         \n",
      "_________________________________________________________________\n",
      "dense_7 (Dense)              (None, 512)               1180160   \n",
      "_________________________________________________________________\n",
      "activation_20 (Activation)   (None, 512)               0         \n",
      "_________________________________________________________________\n",
      "dropout_12 (Dropout)         (None, 512)               0         \n",
      "_________________________________________________________________\n",
      "dense_8 (Dense)              (None, 2)                 1026      \n",
      "=================================================================\n",
      "Total params: 1,246,754\n",
      "Trainable params: 1,246,754\n",
      "Non-trainable params: 0\n",
      "_________________________________________________________________\n"
     ]
    }
   ],
   "source": [
    "model.summary()"
   ]
  },
  {
   "cell_type": "code",
   "execution_count": 135,
   "metadata": {
    "scrolled": false
   },
   "outputs": [
    {
     "name": "stdout",
     "output_type": "stream",
     "text": [
      "Epoch 1/10\n",
      "7/7 [==============================] - 3s 392ms/step - loss: 0.1485 - acc: 0.9241 - val_loss: 2.0470 - val_acc: 0.3750\n",
      "Epoch 2/10\n",
      "7/7 [==============================] - 1s 120ms/step - loss: 0.0046 - acc: 1.0000 - val_loss: 2.2962 - val_acc: 0.4423\n",
      "Epoch 3/10\n",
      "7/7 [==============================] - 2s 273ms/step - loss: 0.0015 - acc: 1.0000 - val_loss: 2.7219 - val_acc: 0.4423\n",
      "Epoch 4/10\n",
      "7/7 [==============================] - 2s 233ms/step - loss: 5.4139e-04 - acc: 1.0000 - val_loss: 3.1787 - val_acc: 0.4062\n",
      "Epoch 5/10\n",
      "7/7 [==============================] - 3s 426ms/step - loss: 2.9671e-04 - acc: 1.0000 - val_loss: 3.2441 - val_acc: 0.4423\n",
      "Epoch 6/10\n",
      "7/7 [==============================] - 3s 456ms/step - loss: 1.7683e-04 - acc: 1.0000 - val_loss: 3.7646 - val_acc: 0.4038\n",
      "Epoch 7/10\n",
      "7/7 [==============================] - 2s 317ms/step - loss: 8.3059e-05 - acc: 1.0000 - val_loss: 3.7784 - val_acc: 0.4375\n",
      "Epoch 8/10\n",
      "7/7 [==============================] - 2s 258ms/step - loss: 5.0855e-05 - acc: 1.0000 - val_loss: 4.2017 - val_acc: 0.4038\n",
      "Epoch 9/10\n",
      "7/7 [==============================] - 2s 305ms/step - loss: 3.0165e-05 - acc: 1.0000 - val_loss: 4.4590 - val_acc: 0.4038\n",
      "Epoch 10/10\n",
      "7/7 [==============================] - 2s 316ms/step - loss: 1.7999e-05 - acc: 1.0000 - val_loss: 4.6384 - val_acc: 0.4062\n"
     ]
    }
   ],
   "source": [
    "STEP_SIZE_TRAIN=train_generator.n//train_generator.batch_size\n",
    "STEP_SIZE_VALID=valid_generator.n//valid_generator.batch_size\n",
    "# STEP_SIZE_TEST=test_generator.n//test_generator.batch_size\n",
    "result = model.fit_generator(generator=train_generator,\n",
    "                    steps_per_epoch=STEP_SIZE_TRAIN,\n",
    "                    validation_data=valid_generator,\n",
    "                    validation_steps=STEP_SIZE_VALID,\n",
    "                    epochs=10\n",
    ")"
   ]
  },
  {
   "cell_type": "markdown",
   "metadata": {},
   "source": [
    "We will resample the validation set and evaluate our model based on it. "
   ]
  },
  {
   "cell_type": "code",
   "execution_count": 137,
   "metadata": {},
   "outputs": [
    {
     "data": {
      "text/plain": [
       "[4.764006614685059, 0.390625]"
      ]
     },
     "execution_count": 137,
     "metadata": {},
     "output_type": "execute_result"
    }
   ],
   "source": [
    "model.evaluate_generator(generator=valid_generator,\n",
    "steps=STEP_SIZE_VALID)"
   ]
  },
  {
   "cell_type": "code",
   "execution_count": 138,
   "metadata": {},
   "outputs": [
    {
     "data": {
      "text/plain": [
       "<matplotlib.legend.Legend at 0x7fb40f3922e8>"
      ]
     },
     "execution_count": 138,
     "metadata": {},
     "output_type": "execute_result"
    },
    {
     "data": {
      "image/png": "[encoded data removed]",
      "text/plain": [
       "<Figure size 432x288 with 1 Axes>"
      ]
     },
     "metadata": {
      "needs_background": "light"
     },
     "output_type": "display_data"
    }
   ],
   "source": [
    "## plot loss function\n",
    "test_loss = result.history['val_loss']\n",
    "train_loss = result.history['loss']\n",
    "\n",
    "plt.plot(train_loss, label='Training loss')\n",
    "plt.plot(test_loss, label='Testing loss')\n",
    "plt.legend()"
   ]
  },
  {
   "cell_type": "markdown",
   "metadata": {},
   "source": [
    "##### Results of CNN best-selling class\n",
    "The resulted loss func is 4.7, and the accuracy is 0.39. This medicore results could be advanced with larger data or emprically trying different hyperparameters. Also, loss function for the validation set keeps increasing leanearly. "
   ]
  },
  {
   "cell_type": "markdown",
   "metadata": {},
   "source": [
    "#### CNN classifier model with early stopping\n",
    "\n",
    "Here we try to maximize the validation accuracy by increasing the number of times the model runs, epoch, wile implementing an early stop. We will use the same model's layers."
   ]
  },
  {
   "cell_type": "code",
   "execution_count": 140,
   "metadata": {
    "scrolled": false
   },
   "outputs": [
    {
     "name": "stdout",
     "output_type": "stream",
     "text": [
      "Epoch 1/10\n",
      "7/7 [==============================] - 2s 317ms/step - loss: 1.1921e-07 - acc: 1.0000 - val_loss: 9.9188 - val_acc: 0.3846\n",
      "Epoch 2/10\n",
      "7/7 [==============================] - 2s 322ms/step - loss: 1.1921e-07 - acc: 1.0000 - val_loss: 9.2989 - val_acc: 0.4231\n",
      "Epoch 3/10\n",
      "7/7 [==============================] - 2s 341ms/step - loss: 1.1921e-07 - acc: 1.0000 - val_loss: 10.0738 - val_acc: 0.3750\n",
      "Epoch 4/10\n",
      "7/7 [==============================] - 2s 279ms/step - loss: 1.1921e-07 - acc: 1.0000 - val_loss: 8.3690 - val_acc: 0.4808\n",
      "Epoch 5/10\n",
      "7/7 [==============================] - 2s 298ms/step - loss: 1.1921e-07 - acc: 1.0000 - val_loss: 9.6089 - val_acc: 0.4038\n",
      "Epoch 6/10\n",
      "7/7 [==============================] - 2s 324ms/step - loss: 1.1921e-07 - acc: 1.0000 - val_loss: 9.3183 - val_acc: 0.4219\n"
     ]
    }
   ],
   "source": [
    "# Import EarlyStopping\n",
    "from keras.callbacks import EarlyStopping\n",
    "\n",
    "# Define early_stopping_monitor\n",
    "early_stopping_monitor = EarlyStopping(patience=2)\n",
    "\n",
    "\n",
    "results_early_stop = model.fit_generator(generator=train_generator,\n",
    "                    steps_per_epoch=STEP_SIZE_TRAIN,\n",
    "                    validation_data=valid_generator,\n",
    "                    validation_steps=STEP_SIZE_VALID,\n",
    "                    epochs=10,\n",
    "                    callbacks=[early_stopping_monitor]\n",
    ")"
   ]
  },
  {
   "cell_type": "markdown",
   "metadata": {},
   "source": [
    "Let's evaluate our model performance and plot the loss function:"
   ]
  },
  {
   "cell_type": "code",
   "execution_count": 141,
   "metadata": {},
   "outputs": [
    {
     "data": {
      "text/plain": [
       "[9.821964740753174, 0.390625]"
      ]
     },
     "execution_count": 141,
     "metadata": {},
     "output_type": "execute_result"
    }
   ],
   "source": [
    "model.evaluate_generator(generator=valid_generator,\n",
    "steps=STEP_SIZE_VALID)"
   ]
  },
  {
   "cell_type": "code",
   "execution_count": 142,
   "metadata": {},
   "outputs": [
    {
     "data": {
      "text/plain": [
       "<matplotlib.legend.Legend at 0x7fb40f28fef0>"
      ]
     },
     "execution_count": 142,
     "metadata": {},
     "output_type": "execute_result"
    },
    {
     "data": {
      "image/png": "[encoded data removed]",
      "text/plain": [
       "<Figure size 432x288 with 1 Axes>"
      ]
     },
     "metadata": {
      "needs_background": "light"
     },
     "output_type": "display_data"
    }
   ],
   "source": [
    "## plot loss function\n",
    "test_loss = results_early_stop.history['val_loss']\n",
    "train_loss = results_early_stop.history['loss']\n",
    "\n",
    "plt.plot(train_loss, label='Training loss')\n",
    "plt.plot(test_loss, label='Testing loss')\n",
    "plt.legend()"
   ]
  },
  {
   "cell_type": "markdown",
   "metadata": {},
   "source": [
    "##### Results of CNN classifier with early stop\n",
    "\n",
    "The resulted loss func is 9.8, and the accuracy is 0.39. The model run less times than without implementing early stop. There's no significat improvement in the accuracy."
   ]
  },
  {
   "cell_type": "markdown",
   "metadata": {},
   "source": [
    "### Sequential experiments optimization\n",
    "\n",
    "The aim is to use Sequential expreiments approach to optimize CNN classifier model\n",
    "\n",
    "Tunning hyperparameters of CNN models is an empirical process. Here we carry on multiple experiements to arrive to the optimal hyperparameters. We use the accuracy meteric to compare our results."
   ]
  },
  {
   "cell_type": "markdown",
   "metadata": {},
   "source": [
    "#### 1st experiment"
   ]
  },
  {
   "cell_type": "code",
   "execution_count": 149,
   "metadata": {},
   "outputs": [
    {
     "data": {
      "text/plain": [
       "[6.343092203140259, 0.375]"
      ]
     },
     "execution_count": 149,
     "metadata": {},
     "output_type": "execute_result"
    }
   ],
   "source": [
    "#1st experiment\n",
    "\n",
    "model = Sequential()\n",
    "model.add(Conv2D(32, (3, 3), padding='same',\n",
    "                 input_shape=(32,32,3)))\n",
    "model.add(Activation('relu'))\n",
    "\n",
    "model.add(MaxPooling2D(pool_size=(2, 2)))\n",
    "model.add(Dropout(0.25))\n",
    "\n",
    "model.add(Flatten())\n",
    "\n",
    "model.add(Dense(512))\n",
    "model.add(Activation('relu'))\n",
    "model.add(Dropout(0.5))\n",
    "\n",
    "model.add(Dense(2, activation='softmax'))\n",
    "\n",
    "model.compile(optimizers.rmsprop(lr=0.0001, decay=1e-6),loss=\"categorical_crossentropy\",metrics=[\"accuracy\"])\n",
    "\n",
    "results_exper_1 = model.fit_generator(generator=train_generator,\n",
    "                    steps_per_epoch=STEP_SIZE_TRAIN,\n",
    "                    validation_data=valid_generator,\n",
    "                    validation_steps=STEP_SIZE_VALID,\n",
    "                    epochs=500,\n",
    "                    callbacks=[early_stopping_monitor],\n",
    "                    verbose=False                                   \n",
    ")\n",
    "\n",
    "model.evaluate_generator(generator=valid_generator,\n",
    "steps=STEP_SIZE_VALID)"
   ]
  },
  {
   "cell_type": "markdown",
   "metadata": {},
   "source": [
    "We will increase capacity in second experiment by incrasing number of nodes to 64 at the same layer.\n",
    "\n",
    "#### 2nd experiment"
   ]
  },
  {
   "cell_type": "code",
   "execution_count": 150,
   "metadata": {},
   "outputs": [
    {
     "data": {
      "text/plain": [
       "[8.361176160665659, 0.4038461492611812]"
      ]
     },
     "execution_count": 150,
     "metadata": {},
     "output_type": "execute_result"
    }
   ],
   "source": [
    "#2nd experiment\n",
    "\n",
    "model = Sequential()\n",
    "model.add(Conv2D(64, (3, 3), padding='same',\n",
    "                 input_shape=(32,32,3)))\n",
    "model.add(Activation('relu'))\n",
    "\n",
    "model.add(MaxPooling2D(pool_size=(2, 2)))\n",
    "model.add(Dropout(0.25))\n",
    "\n",
    "\n",
    "model.add(Flatten())\n",
    "\n",
    "model.add(Dense(512))\n",
    "model.add(Activation('relu'))\n",
    "model.add(Dropout(0.5))\n",
    "\n",
    "model.add(Dense(2, activation='softmax'))\n",
    "\n",
    "model.compile(optimizers.rmsprop(lr=0.0001, decay=1e-6),loss=\"categorical_crossentropy\",metrics=[\"accuracy\"])\n",
    "\n",
    "results_exper_2 = model.fit_generator(generator=train_generator,\n",
    "                    steps_per_epoch=STEP_SIZE_TRAIN,\n",
    "                    validation_data=valid_generator,\n",
    "                    validation_steps=STEP_SIZE_VALID,\n",
    "                    epochs=500,\n",
    "                    callbacks=[early_stopping_monitor],\n",
    "                    verbose=False                                   \n",
    ")\n",
    "\n",
    "model.evaluate_generator(generator=valid_generator,\n",
    "steps=STEP_SIZE_VALID)"
   ]
  },
  {
   "cell_type": "markdown",
   "metadata": {},
   "source": [
    "Since the accuracy has increased in the 2nd experiement, we will keep the number of nodes unchanged and we will increase capacity through adding one more layer of 64 nodes.\n",
    "\n",
    "#### 3rd experiment"
   ]
  },
  {
   "cell_type": "code",
   "execution_count": 152,
   "metadata": {},
   "outputs": [
    {
     "data": {
      "text/plain": [
       "[6.287987929124099, 0.4038461515536675]"
      ]
     },
     "execution_count": 152,
     "metadata": {},
     "output_type": "execute_result"
    }
   ],
   "source": [
    "### 3rd experiment\n",
    "\n",
    "model = Sequential()\n",
    "model.add(Conv2D(64, (3, 3), padding='same',\n",
    "                 input_shape=(32,32,3)))\n",
    "model.add(Activation('relu'))\n",
    "\n",
    "model.add(Conv2D(64, (3, 3)))\n",
    "model.add(Activation('relu'))\n",
    "\n",
    "model.add(MaxPooling2D(pool_size=(2, 2)))\n",
    "model.add(Dropout(0.25))\n",
    "\n",
    "model.add(Flatten())\n",
    "\n",
    "model.add(Dense(512))\n",
    "model.add(Activation('relu'))\n",
    "model.add(Dropout(0.5))\n",
    "\n",
    "model.add(Dense(2, activation='softmax'))\n",
    "\n",
    "model.compile(optimizers.rmsprop(lr=0.0001, decay=1e-6),loss=\"categorical_crossentropy\",metrics=[\"accuracy\"])\n",
    "\n",
    "results_exper_3 = model.fit_generator(generator=train_generator,\n",
    "                    steps_per_epoch=STEP_SIZE_TRAIN,\n",
    "                    validation_data=valid_generator,\n",
    "                    validation_steps=STEP_SIZE_VALID,\n",
    "                    epochs=500,\n",
    "                    callbacks=[early_stopping_monitor],\n",
    "                    verbose=False                                   \n",
    ")\n",
    "\n",
    "model.evaluate_generator(generator=valid_generator,\n",
    "steps=STEP_SIZE_VALID)"
   ]
  },
  {
   "cell_type": "markdown",
   "metadata": {},
   "source": [
    "Accuracy has not changed. We increase capacity through adding an extra layer.\n",
    "\n",
    "#### 4th experiment"
   ]
  },
  {
   "cell_type": "code",
   "execution_count": 155,
   "metadata": {},
   "outputs": [
    {
     "data": {
      "text/plain": [
       "[3.0577508302835317, 0.38461538003041196]"
      ]
     },
     "execution_count": 155,
     "metadata": {},
     "output_type": "execute_result"
    }
   ],
   "source": [
    "### 4th experiment\n",
    "\n",
    "model = Sequential()\n",
    "model.add(Conv2D(64, (3, 3), padding='same',\n",
    "                 input_shape=(32,32,3)))\n",
    "model.add(Activation('relu'))\n",
    "\n",
    "model.add(Conv2D(64, (3, 3)))\n",
    "model.add(Activation('relu'))\n",
    "\n",
    "model.add(MaxPooling2D(pool_size=(2, 2)))\n",
    "model.add(Dropout(0.25))\n",
    "\n",
    "model.add(Conv2D(64, (3, 3), padding='same'))\n",
    "model.add(Activation('relu'))\n",
    "\n",
    "model.add(MaxPooling2D(pool_size=(2, 2)))\n",
    "model.add(Dropout(0.25))\n",
    "\n",
    "model.add(Flatten())\n",
    "\n",
    "model.add(Dense(512))\n",
    "model.add(Activation('relu'))\n",
    "model.add(Dropout(0.5))\n",
    "\n",
    "model.add(Dense(2, activation='softmax'))\n",
    "\n",
    "model.compile(optimizers.rmsprop(lr=0.0001, decay=1e-6),loss=\"categorical_crossentropy\",metrics=[\"accuracy\"])\n",
    "\n",
    "results_exper_4 = model.fit_generator(generator=train_generator,\n",
    "                    steps_per_epoch=STEP_SIZE_TRAIN,\n",
    "                    validation_data=valid_generator,\n",
    "                    validation_steps=STEP_SIZE_VALID,\n",
    "                    epochs=500,\n",
    "                    callbacks=[early_stopping_monitor],\n",
    "                    verbose=False                                   \n",
    ")\n",
    "\n",
    "model.evaluate_generator(generator=valid_generator,\n",
    "steps=STEP_SIZE_VALID)"
   ]
  },
  {
   "cell_type": "markdown",
   "metadata": {},
   "source": [
    "The accurace of experiment 4 decreased, so we will revoke this step and we we will increase capacity through adding more nodes than previouse.\n",
    "\n",
    "#### 5th experiment"
   ]
  },
  {
   "cell_type": "code",
   "execution_count": 156,
   "metadata": {},
   "outputs": [
    {
     "data": {
      "text/plain": [
       "[3.1784549951553345, 0.46875]"
      ]
     },
     "execution_count": 156,
     "metadata": {},
     "output_type": "execute_result"
    }
   ],
   "source": [
    "### 5th experiment\n",
    "\n",
    "model = Sequential()\n",
    "model.add(Conv2D(64, (3, 3), padding='same',\n",
    "                 input_shape=(32,32,3)))\n",
    "model.add(Activation('relu'))\n",
    "\n",
    "model.add(Conv2D(64, (3, 3)))\n",
    "model.add(Activation('relu'))\n",
    "\n",
    "model.add(MaxPooling2D(pool_size=(2, 2)))\n",
    "model.add(Dropout(0.25))\n",
    "\n",
    "model.add(Conv2D(128, (3, 3), padding='same'))\n",
    "model.add(Activation('relu'))\n",
    "\n",
    "model.add(MaxPooling2D(pool_size=(2, 2)))\n",
    "model.add(Dropout(0.25))\n",
    "\n",
    "model.add(Flatten())\n",
    "\n",
    "model.add(Dense(512))\n",
    "model.add(Activation('relu'))\n",
    "model.add(Dropout(0.5))\n",
    "\n",
    "model.add(Dense(2, activation='softmax'))\n",
    "\n",
    "model.compile(optimizers.rmsprop(lr=0.0001, decay=1e-6),loss=\"categorical_crossentropy\",metrics=[\"accuracy\"])\n",
    "\n",
    "results_exper_5 = model.fit_generator(generator=train_generator,\n",
    "                    steps_per_epoch=STEP_SIZE_TRAIN,\n",
    "                    validation_data=valid_generator,\n",
    "                    validation_steps=STEP_SIZE_VALID,\n",
    "                    epochs=500,\n",
    "                    callbacks=[early_stopping_monitor],\n",
    "                    verbose=False                                   \n",
    ")\n",
    "\n",
    "model.evaluate_generator(generator=valid_generator,\n",
    "steps=STEP_SIZE_VALID)"
   ]
  },
  {
   "cell_type": "markdown",
   "metadata": {},
   "source": [
    "The accuracy increases, we are in the right way. Let's add more nodes to the same layer.\n",
    "\n",
    "#### 6th experiment\n"
   ]
  },
  {
   "cell_type": "code",
   "execution_count": 157,
   "metadata": {},
   "outputs": [
    {
     "data": {
      "text/plain": [
       "[3.5343935673053446, 0.42307692078443676]"
      ]
     },
     "execution_count": 157,
     "metadata": {},
     "output_type": "execute_result"
    }
   ],
   "source": [
    "### 5th experiment\n",
    "\n",
    "model = Sequential()\n",
    "model.add(Conv2D(64, (3, 3), padding='same',\n",
    "                 input_shape=(32,32,3)))\n",
    "model.add(Activation('relu'))\n",
    "\n",
    "model.add(Conv2D(64, (3, 3)))\n",
    "model.add(Activation('relu'))\n",
    "\n",
    "model.add(MaxPooling2D(pool_size=(2, 2)))\n",
    "model.add(Dropout(0.25))\n",
    "\n",
    "model.add(Conv2D(264, (3, 3), padding='same'))\n",
    "model.add(Activation('relu'))\n",
    "\n",
    "model.add(MaxPooling2D(pool_size=(2, 2)))\n",
    "model.add(Dropout(0.25))\n",
    "\n",
    "model.add(Flatten())\n",
    "\n",
    "model.add(Dense(512))\n",
    "model.add(Activation('relu'))\n",
    "model.add(Dropout(0.5))\n",
    "\n",
    "model.add(Dense(2, activation='softmax'))\n",
    "\n",
    "model.compile(optimizers.rmsprop(lr=0.0001, decay=1e-6),loss=\"categorical_crossentropy\",metrics=[\"accuracy\"])\n",
    "\n",
    "results_exper_6 = model.fit_generator(generator=train_generator,\n",
    "                    steps_per_epoch=STEP_SIZE_TRAIN,\n",
    "                    validation_data=valid_generator,\n",
    "                    validation_steps=STEP_SIZE_VALID,\n",
    "                    epochs=500,\n",
    "                    callbacks=[early_stopping_monitor],\n",
    "                    verbose=False                                   \n",
    ")\n",
    "\n",
    "model.evaluate_generator(generator=valid_generator,\n",
    "steps=STEP_SIZE_VALID)"
   ]
  },
  {
   "cell_type": "markdown",
   "metadata": {},
   "source": [
    "Accuracy decreases. Revoke this step and add extra layer of the same number of nodes, 128.\n",
    "\n",
    "#### 7th experiment"
   ]
  },
  {
   "cell_type": "code",
   "execution_count": 158,
   "metadata": {},
   "outputs": [
    {
     "data": {
      "text/plain": [
       "[3.4715550312629113, 0.4423076923076923]"
      ]
     },
     "execution_count": 158,
     "metadata": {},
     "output_type": "execute_result"
    }
   ],
   "source": [
    "### 5th experiment\n",
    "\n",
    "model = Sequential()\n",
    "model.add(Conv2D(64, (3, 3), padding='same',\n",
    "                 input_shape=(32,32,3)))\n",
    "model.add(Activation('relu'))\n",
    "\n",
    "model.add(Conv2D(64, (3, 3)))\n",
    "model.add(Activation('relu'))\n",
    "\n",
    "model.add(MaxPooling2D(pool_size=(2, 2)))\n",
    "model.add(Dropout(0.25))\n",
    "\n",
    "model.add(Conv2D(128, (3, 3), padding='same'))\n",
    "model.add(Activation('relu'))\n",
    "\n",
    "model.add(Conv2D(128, (3, 3)))\n",
    "model.add(Activation('relu'))\n",
    "\n",
    "model.add(MaxPooling2D(pool_size=(2, 2)))\n",
    "model.add(Dropout(0.25))\n",
    "\n",
    "model.add(Flatten())\n",
    "\n",
    "model.add(Dense(512))\n",
    "model.add(Activation('relu'))\n",
    "model.add(Dropout(0.5))\n",
    "\n",
    "model.add(Dense(2, activation='softmax'))\n",
    "\n",
    "model.compile(optimizers.rmsprop(lr=0.0001, decay=1e-6),loss=\"categorical_crossentropy\",metrics=[\"accuracy\"])\n",
    "\n",
    "results_exper_7 = model.fit_generator(generator=train_generator,\n",
    "                    steps_per_epoch=STEP_SIZE_TRAIN,\n",
    "                    validation_data=valid_generator,\n",
    "                    validation_steps=STEP_SIZE_VALID,\n",
    "                    epochs=500,\n",
    "                    callbacks=[early_stopping_monitor],\n",
    "                    verbose=False                                   \n",
    ")\n",
    "\n",
    "model.evaluate_generator(generator=valid_generator,\n",
    "steps=STEP_SIZE_VALID)"
   ]
  },
  {
   "cell_type": "markdown",
   "metadata": {},
   "source": [
    "#### Conclusion \n",
    "Accuracy still less than of experiment 5; we revoke this step and we decide on the model of experiment 5 to be the optimal."
   ]
  },
  {
   "cell_type": "markdown",
   "metadata": {},
   "source": [
    "#### Summary table of sequenatial experiments\n",
    "\n",
    "| Hidden Layers | Nodes Per Layer | Accuracy | Next Step                    |\n",
    "|---------------|-----------------|----------|------------------------------|\n",
    "| 1             | 32              | 0.37     | Increase Capacity            |\n",
    "| 1             | 64              | 0.4      | Increase Capacity            |\n",
    "| 2             | 64              | 0.4      | Increase Capacity            |\n",
    "| 3             | 64              | 0.38     | Revoke and increase capacity |\n",
    "| 3             | 128             | 0.46     | Increase Capacity            |\n",
    "| 3             | 264             | 0.42     | Revoke and increase capacity |\n",
    "| 4             | 128             | 0.44     | Done                         |"
   ]
  },
  {
   "cell_type": "markdown",
   "metadata": {},
   "source": [
    "#### Plot loss function of differnt experiments"
   ]
  },
  {
   "cell_type": "code",
   "execution_count": 172,
   "metadata": {},
   "outputs": [
    {
     "data": {
      "image/png": "[encoded data removed]",
      "text/plain": [
       "<Figure size 800x480 with 1 Axes>"
      ]
     },
     "metadata": {},
     "output_type": "display_data"
    }
   ],
   "source": [
    "from matplotlib.pyplot import figure\n",
    "figure(num=None, figsize=(10, 6), dpi=80, facecolor='w', edgecolor='k')\n",
    "\n",
    "plt.plot(results_exper_1.history['val_loss'], label=\"results_exper_1\")\n",
    "plt.plot(results_exper_2.history['val_loss'], label=\"results_exper_2\")\n",
    "plt.plot(results_exper_3.history['val_loss'], label=\"results_exper_3\")\n",
    "plt.plot(results_exper_4.history['val_loss'], label=\"results_exper_4\")\n",
    "plt.plot(results_exper_5.history['val_loss'], label=\"results_exper_5\")\n",
    "plt.plot(results_exper_6.history['val_loss'], label=\"results_exper_6\")\n",
    "plt.plot(results_exper_7.history['val_loss'], label=\"results_exper_7\")\n",
    "\n",
    "# Place a legend to the right of this smaller subplot.\n",
    "plt.legend(bbox_to_anchor=(1.05, 1), loc=2, borderaxespad=0.)\n",
    "\n",
    "plt.show()\n"
   ]
  },
  {
   "cell_type": "markdown",
   "metadata": {},
   "source": [
    "### Exporting CNN classifier model"
   ]
  },
  {
   "cell_type": "markdown",
   "metadata": {},
   "source": [
    "The best model is of experiemnt 5, we will run it again and then save it."
   ]
  },
  {
   "cell_type": "code",
   "execution_count": 176,
   "metadata": {},
   "outputs": [
    {
     "data": {
      "text/plain": [
       "[3.6767412699185886, 0.4423076923076923]"
      ]
     },
     "execution_count": 176,
     "metadata": {},
     "output_type": "execute_result"
    }
   ],
   "source": [
    "### 5th experiment\n",
    "model = Sequential()\n",
    "model.add(Conv2D(64, (3, 3), padding='same',\n",
    "                 input_shape=(32,32,3)))\n",
    "model.add(Activation('relu'))\n",
    "\n",
    "model.add(Conv2D(64, (3, 3)))\n",
    "model.add(Activation('relu'))\n",
    "\n",
    "model.add(MaxPooling2D(pool_size=(2, 2)))\n",
    "model.add(Dropout(0.25))\n",
    "\n",
    "model.add(Conv2D(128, (3, 3), padding='same'))\n",
    "model.add(Activation('relu'))\n",
    "\n",
    "model.add(MaxPooling2D(pool_size=(2, 2)))\n",
    "model.add(Dropout(0.25))\n",
    "\n",
    "model.add(Flatten())\n",
    "\n",
    "model.add(Dense(512))\n",
    "model.add(Activation('relu'))\n",
    "model.add(Dropout(0.5))\n",
    "\n",
    "model.add(Dense(2, activation='softmax'))\n",
    "\n",
    "model.compile(optimizers.rmsprop(lr=0.0001, decay=1e-6),loss=\"categorical_crossentropy\",metrics=[\"accuracy\"])\n",
    "\n",
    "results_exper_5 = model.fit_generator(generator=train_generator,\n",
    "                    steps_per_epoch=STEP_SIZE_TRAIN,\n",
    "                    validation_data=valid_generator,\n",
    "                    validation_steps=STEP_SIZE_VALID,\n",
    "                    epochs=500,\n",
    "                    callbacks=[early_stopping_monitor],\n",
    "                    verbose=False                                   \n",
    ")\n",
    "\n",
    "model.evaluate_generator(generator=valid_generator,\n",
    "steps=STEP_SIZE_VALID)"
   ]
  },
  {
   "cell_type": "code",
   "execution_count": 180,
   "metadata": {},
   "outputs": [],
   "source": [
    "from keras.models import load_model\n",
    "model.save('CNN_classifier_bestselling.h5')"
   ]
  },
  {
   "cell_type": "markdown",
   "metadata": {},
   "source": [
    "## CNN image regression (Extra)"
   ]
  },
  {
   "cell_type": "markdown",
   "metadata": {},
   "source": [
    "We will build a CNN regression model to predict prices of each product based on it image. We first do the required Keras preprocessing to feed the model, and then we configure two models. This section has been added for experimental purposes. No optimization has been carried on."
   ]
  },
  {
   "cell_type": "markdown",
   "metadata": {},
   "source": [
    "### Keras image preprocessnig"
   ]
  },
  {
   "cell_type": "markdown",
   "metadata": {},
   "source": [
    "Resources for this section:\n",
    "- https://medium.com/@vijayabhaskar96/tutorial-on-keras-imagedatagenerator-with-flow-from-dataframe-8bd5776e45c1"
   ]
  },
  {
   "cell_type": "code",
   "execution_count": 161,
   "metadata": {},
   "outputs": [
    {
     "data": {
      "text/plain": [
       "best_seller     object\n",
       "price          float64\n",
       "image_path      object\n",
       "dtype: object"
      ]
     },
     "execution_count": 161,
     "metadata": {},
     "output_type": "execute_result"
    }
   ],
   "source": [
    "data_cnn.dtypes"
   ]
  },
  {
   "cell_type": "code",
   "execution_count": 125,
   "metadata": {
    "scrolled": true
   },
   "outputs": [
    {
     "name": "stdout",
     "output_type": "stream",
     "text": [
      "Found 253 validated image filenames.\n",
      "Found 84 validated image filenames.\n"
     ]
    }
   ],
   "source": [
    "\n",
    "\n",
    "train_generator=datagen.flow_from_dataframe(\n",
    "dataframe=data,\n",
    "directory=\"\",\n",
    "x_col=\"image_path\",\n",
    "y_col=\"price\",\n",
    "subset=\"training\",\n",
    "batch_size=32,\n",
    "seed=42,\n",
    "shuffle=True,\n",
    "class_mode=\"other\", #other type since it's regression\n",
    "target_size=(32,32))\n",
    "\n",
    "valid_generator=datagen.flow_from_dataframe(\n",
    "dataframe=data,\n",
    "directory=\"\",\n",
    "x_col=\"image_path\",\n",
    "y_col=\"price\",\n",
    "subset=\"validation\",\n",
    "batch_size=32,\n",
    "seed=42,\n",
    "shuffle=True,\n",
    "class_mode=\"other\", #other type since it's regression\n",
    "target_size=(32,32))"
   ]
  },
  {
   "cell_type": "markdown",
   "metadata": {},
   "source": [
    "### CNN regression model"
   ]
  },
  {
   "cell_type": "code",
   "execution_count": 126,
   "metadata": {
    "scrolled": false
   },
   "outputs": [
    {
     "name": "stdout",
     "output_type": "stream",
     "text": [
      "_________________________________________________________________\n",
      "Layer (type)                 Output Shape              Param #   \n",
      "=================================================================\n",
      "conv2d_5 (Conv2D)            (None, 32, 32, 32)        896       \n",
      "_________________________________________________________________\n",
      "activation_6 (Activation)    (None, 32, 32, 32)        0         \n",
      "_________________________________________________________________\n",
      "conv2d_6 (Conv2D)            (None, 30, 30, 32)        9248      \n",
      "_________________________________________________________________\n",
      "activation_7 (Activation)    (None, 30, 30, 32)        0         \n",
      "_________________________________________________________________\n",
      "max_pooling2d_3 (MaxPooling2 (None, 15, 15, 32)        0         \n",
      "_________________________________________________________________\n",
      "dropout_4 (Dropout)          (None, 15, 15, 32)        0         \n",
      "_________________________________________________________________\n",
      "conv2d_7 (Conv2D)            (None, 15, 15, 64)        18496     \n",
      "_________________________________________________________________\n",
      "activation_8 (Activation)    (None, 15, 15, 64)        0         \n",
      "_________________________________________________________________\n",
      "conv2d_8 (Conv2D)            (None, 13, 13, 64)        36928     \n",
      "_________________________________________________________________\n",
      "activation_9 (Activation)    (None, 13, 13, 64)        0         \n",
      "_________________________________________________________________\n",
      "max_pooling2d_4 (MaxPooling2 (None, 6, 6, 64)          0         \n",
      "_________________________________________________________________\n",
      "dropout_5 (Dropout)          (None, 6, 6, 64)          0         \n",
      "_________________________________________________________________\n",
      "flatten_2 (Flatten)          (None, 2304)              0         \n",
      "_________________________________________________________________\n",
      "dense_3 (Dense)              (None, 512)               1180160   \n",
      "_________________________________________________________________\n",
      "activation_10 (Activation)   (None, 512)               0         \n",
      "_________________________________________________________________\n",
      "dropout_6 (Dropout)          (None, 512)               0         \n",
      "_________________________________________________________________\n",
      "dense_4 (Dense)              (None, 1)                 513       \n",
      "=================================================================\n",
      "Total params: 1,246,241\n",
      "Trainable params: 1,246,241\n",
      "Non-trainable params: 0\n",
      "_________________________________________________________________\n"
     ]
    }
   ],
   "source": [
    "from keras.models import Sequential\n",
    "\n",
    "model = Sequential()\n",
    "model.add(Conv2D(32, (3, 3), padding='same',\n",
    "                 input_shape=(32,32,3)))\n",
    "model.add(Activation('relu'))\n",
    "model.add(Conv2D(32, (3, 3)))\n",
    "model.add(Activation('relu'))\n",
    "model.add(MaxPooling2D(pool_size=(2, 2)))\n",
    "model.add(Dropout(0.25))\n",
    "\n",
    "model.add(Conv2D(64, (3, 3), padding='same'))\n",
    "model.add(Activation('relu'))\n",
    "model.add(Conv2D(64, (3, 3)))\n",
    "model.add(Activation('relu'))\n",
    "model.add(MaxPooling2D(pool_size=(2, 2)))\n",
    "model.add(Dropout(0.25))\n",
    "\n",
    "model.add(Flatten())\n",
    "model.add(Dense(512))\n",
    "model.add(Activation('relu'))\n",
    "model.add(Dropout(0.5))\n",
    "# model.add(Dense(2, activation='softmax'))\n",
    "model.add(Dense(1)) #the last hidden layer, it's only one\n",
    "model.summary()\n"
   ]
  },
  {
   "cell_type": "code",
   "execution_count": 165,
   "metadata": {},
   "outputs": [],
   "source": [
    "#implementing metrics for the CNN regression\n",
    "from keras import backend\n",
    " \n",
    "def rmse(y_true, y_pred):\n",
    "    return backend.sqrt(backend.mean(backend.square(y_pred - y_true), axis=-1))"
   ]
  },
  {
   "cell_type": "code",
   "execution_count": 166,
   "metadata": {},
   "outputs": [],
   "source": [
    "# model.compile(optimizers.rmsprop(lr=0.0001, decay=1e-6),loss=\"categorical_crossentropy\",metrics=[\"accuracy\"])\n",
    "model.compile(loss='mean_squared_error', optimizer='adam', metrics=[rmse])"
   ]
  },
  {
   "cell_type": "code",
   "execution_count": 168,
   "metadata": {},
   "outputs": [
    {
     "name": "stdout",
     "output_type": "stream",
     "text": [
      "Epoch 1/10\n",
      "7/7 [==============================] - 2s 338ms/step - loss: 90180.9571 - rmse: 255.2051 - val_loss: 90598.5156 - val_rmse: 241.6827\n",
      "Epoch 2/10\n",
      "7/7 [==============================] - 4s 551ms/step - loss: 88544.2592 - rmse: 256.0247 - val_loss: 110294.2067 - val_rmse: 258.1575\n",
      "Epoch 3/10\n",
      "7/7 [==============================] - 2s 286ms/step - loss: 85601.1265 - rmse: 255.0347 - val_loss: 115000.9940 - val_rmse: 271.2849\n",
      "Epoch 4/10\n",
      "7/7 [==============================] - 2s 301ms/step - loss: 88694.3818 - rmse: 252.9188 - val_loss: 87134.5820 - val_rmse: 222.7198\n",
      "Epoch 5/10\n",
      "7/7 [==============================] - 3s 469ms/step - loss: 88914.9965 - rmse: 256.4169 - val_loss: 113182.4712 - val_rmse: 278.5800\n",
      "Epoch 6/10\n",
      "7/7 [==============================] - 4s 500ms/step - loss: 91068.3022 - rmse: 261.9643 - val_loss: 91681.4243 - val_rmse: 237.4661\n",
      "Epoch 7/10\n",
      "7/7 [==============================] - 2s 355ms/step - loss: 87825.1166 - rmse: 254.5939 - val_loss: 93101.6602 - val_rmse: 236.8403\n",
      "Epoch 8/10\n",
      "7/7 [==============================] - 2s 312ms/step - loss: 88875.3103 - rmse: 257.9990 - val_loss: 106397.8930 - val_rmse: 259.0747\n",
      "Epoch 9/10\n",
      "7/7 [==============================] - 3s 466ms/step - loss: 87683.6673 - rmse: 254.5664 - val_loss: 96931.0054 - val_rmse: 248.5858\n",
      "Epoch 10/10\n",
      "7/7 [==============================] - 2s 288ms/step - loss: 88053.3471 - rmse: 255.0814 - val_loss: 87965.5156 - val_rmse: 228.4584\n"
     ]
    }
   ],
   "source": [
    "STEP_SIZE_TRAIN=train_generator.n//train_generator.batch_size\n",
    "STEP_SIZE_VALID=valid_generator.n//valid_generator.batch_size\n",
    "\n",
    "results = model.fit_generator(generator=train_generator,\n",
    "                    steps_per_epoch=STEP_SIZE_TRAIN,\n",
    "                    validation_data=valid_generator,\n",
    "                    validation_steps=STEP_SIZE_VALID,\n",
    "                    epochs=10)"
   ]
  },
  {
   "cell_type": "code",
   "execution_count": 169,
   "metadata": {},
   "outputs": [
    {
     "data": {
      "text/plain": [
       "<matplotlib.legend.Legend at 0x7ff23cb57780>"
      ]
     },
     "execution_count": 169,
     "metadata": {},
     "output_type": "execute_result"
    },
    {
     "data": {
      "image/png": "[encoded data removed]",
      "text/plain": [
       "<Figure size 432x288 with 1 Axes>"
      ]
     },
     "metadata": {
      "needs_background": "light"
     },
     "output_type": "display_data"
    }
   ],
   "source": [
    "## plot loss function\n",
    "test_loss = results.history['val_loss']\n",
    "train_loss = results.history['loss']\n",
    "\n",
    "plt.plot(train_loss, label='Training loss')\n",
    "plt.plot(test_loss, label='Testing loss')\n",
    "plt.legend()\n"
   ]
  },
  {
   "cell_type": "markdown",
   "metadata": {},
   "source": [
    "We can see that the results are not good enough, so now we are going to increase the epoch value and see how the model performs. The picked values of hyperparameters are chosed randomly; arriving to the best hyperparameters is an emprical process!"
   ]
  },
  {
   "cell_type": "code",
   "execution_count": 170,
   "metadata": {
    "scrolled": true
   },
   "outputs": [
    {
     "name": "stdout",
     "output_type": "stream",
     "text": [
      "Epoch 1/500\n",
      "7/7 [==============================] - 2s 331ms/step - loss: 88291.0412 - rmse: 254.9990 - val_loss: 68412.6309 - val_rmse: 202.8245\n",
      "Epoch 2/500\n",
      "7/7 [==============================] - 2s 332ms/step - loss: 90816.7782 - rmse: 255.7474 - val_loss: 155025.7416 - val_rmse: 321.1970\n",
      "Epoch 3/500\n",
      "7/7 [==============================] - 2s 292ms/step - loss: 100321.4881 - rmse: 271.8574 - val_loss: 76970.6806 - val_rmse: 207.8256\n",
      "Epoch 4/500\n",
      "7/7 [==============================] - 2s 294ms/step - loss: 88022.7613 - rmse: 252.0680 - val_loss: 117473.4883 - val_rmse: 277.6836\n",
      "Epoch 5/500\n",
      "7/7 [==============================] - 3s 454ms/step - loss: 88782.7000 - rmse: 256.3097 - val_loss: 88682.0120 - val_rmse: 224.4193\n",
      "Epoch 6/500\n",
      "7/7 [==============================] - 3s 484ms/step - loss: 86742.2064 - rmse: 255.2806 - val_loss: 108474.1538 - val_rmse: 268.4040\n",
      "Epoch 7/500\n",
      "7/7 [==============================] - 3s 477ms/step - loss: 88816.4263 - rmse: 257.1012 - val_loss: 108427.6797 - val_rmse: 266.1878\n",
      "Epoch 8/500\n",
      "7/7 [==============================] - 2s 287ms/step - loss: 94092.5067 - rmse: 266.8070 - val_loss: 97796.0913 - val_rmse: 241.4094\n",
      "Epoch 9/500\n",
      "7/7 [==============================] - 3s 454ms/step - loss: 78661.6581 - rmse: 239.5343 - val_loss: 109152.0421 - val_rmse: 266.0159\n",
      "Epoch 10/500\n",
      "7/7 [==============================] - 3s 473ms/step - loss: 100219.7765 - rmse: 274.5079 - val_loss: 97359.0625 - val_rmse: 247.3739\n",
      "Epoch 11/500\n",
      "7/7 [==============================] - 2s 298ms/step - loss: 92995.3825 - rmse: 263.8768 - val_loss: 135894.3852 - val_rmse: 302.6682\n",
      "Epoch 12/500\n",
      "7/7 [==============================] - 3s 471ms/step - loss: 87647.6990 - rmse: 249.9585 - val_loss: 69005.8906 - val_rmse: 202.6349\n",
      "Epoch 13/500\n",
      "7/7 [==============================] - 3s 471ms/step - loss: 87849.7160 - rmse: 256.3649 - val_loss: 109725.0938 - val_rmse: 263.0014\n",
      "Epoch 14/500\n",
      "7/7 [==============================] - 3s 432ms/step - loss: 85189.4599 - rmse: 248.9840 - val_loss: 82760.9135 - val_rmse: 228.3604\n",
      "Epoch 15/500\n",
      "7/7 [==============================] - 2s 288ms/step - loss: 87077.5056 - rmse: 253.1243 - val_loss: 119037.2121 - val_rmse: 279.9089\n",
      "Epoch 16/500\n",
      "7/7 [==============================] - 2s 283ms/step - loss: 87245.6418 - rmse: 255.4466 - val_loss: 124127.1406 - val_rmse: 290.2298\n",
      "Epoch 17/500\n",
      "7/7 [==============================] - 2s 311ms/step - loss: 89565.5389 - rmse: 253.1548 - val_loss: 85033.3960 - val_rmse: 229.6557\n",
      "Epoch 18/500\n",
      "7/7 [==============================] - 2s 309ms/step - loss: 91884.0211 - rmse: 263.1327 - val_loss: 102078.0998 - val_rmse: 256.0389\n",
      "Epoch 19/500\n",
      "7/7 [==============================] - 2s 300ms/step - loss: 85793.3594 - rmse: 249.3053 - val_loss: 96778.2812 - val_rmse: 251.0844\n",
      "Epoch 20/500\n",
      "7/7 [==============================] - 2s 281ms/step - loss: 83337.8033 - rmse: 250.9012 - val_loss: 95948.4315 - val_rmse: 235.1690\n",
      "Epoch 21/500\n",
      "7/7 [==============================] - 2s 295ms/step - loss: 91055.2893 - rmse: 262.7061 - val_loss: 104568.2380 - val_rmse: 272.0102\n",
      "Epoch 22/500\n",
      "7/7 [==============================] - 2s 283ms/step - loss: 83809.8752 - rmse: 246.3237 - val_loss: 100946.7891 - val_rmse: 256.5400\n",
      "Epoch 23/500\n",
      "7/7 [==============================] - 2s 307ms/step - loss: 89685.3850 - rmse: 255.7648 - val_loss: 79975.5349 - val_rmse: 223.4406\n",
      "Epoch 24/500\n",
      "7/7 [==============================] - 2s 308ms/step - loss: 83705.2114 - rmse: 249.4529 - val_loss: 128517.3942 - val_rmse: 298.5713\n",
      "Epoch 25/500\n",
      "7/7 [==============================] - 2s 295ms/step - loss: 88237.4061 - rmse: 253.9257 - val_loss: 78667.0742 - val_rmse: 223.7819\n",
      "Epoch 26/500\n",
      "7/7 [==============================] - 2s 300ms/step - loss: 82705.8415 - rmse: 247.1799 - val_loss: 122176.9832 - val_rmse: 275.1053\n",
      "Epoch 27/500\n",
      "7/7 [==============================] - 2s 294ms/step - loss: 87188.1058 - rmse: 255.3219 - val_loss: 97143.7722 - val_rmse: 257.4055\n",
      "Epoch 28/500\n",
      "7/7 [==============================] - 2s 323ms/step - loss: 88369.9883 - rmse: 252.5519 - val_loss: 68660.8086 - val_rmse: 205.0487\n",
      "Epoch 29/500\n",
      "7/7 [==============================] - 2s 297ms/step - loss: 87947.8549 - rmse: 254.6457 - val_loss: 130366.2764 - val_rmse: 298.7428\n",
      "Epoch 30/500\n",
      "7/7 [==============================] - 2s 292ms/step - loss: 88917.6065 - rmse: 254.7319 - val_loss: 94575.8311 - val_rmse: 245.9104\n",
      "Epoch 31/500\n",
      "7/7 [==============================] - 2s 285ms/step - loss: 85138.3806 - rmse: 250.7635 - val_loss: 97487.5898 - val_rmse: 252.2311\n",
      "Epoch 32/500\n",
      "7/7 [==============================] - 2s 320ms/step - loss: 88521.5855 - rmse: 254.8921 - val_loss: 89449.2500 - val_rmse: 235.4096\n",
      "Epoch 33/500\n",
      "7/7 [==============================] - 2s 253ms/step - loss: 82083.5290 - rmse: 242.8226 - val_loss: 100477.1923 - val_rmse: 260.2175\n",
      "Epoch 34/500\n",
      "7/7 [==============================] - 2s 308ms/step - loss: 94613.5934 - rmse: 262.8735 - val_loss: 113650.1953 - val_rmse: 277.6113\n",
      "Epoch 35/500\n",
      "7/7 [==============================] - 2s 306ms/step - loss: 83606.3152 - rmse: 245.8869 - val_loss: 94681.1833 - val_rmse: 246.2412\n",
      "Epoch 36/500\n",
      "7/7 [==============================] - 2s 279ms/step - loss: 85767.9209 - rmse: 252.6068 - val_loss: 100114.0204 - val_rmse: 251.0457\n",
      "Epoch 37/500\n",
      "7/7 [==============================] - 2s 324ms/step - loss: 85888.9635 - rmse: 254.8227 - val_loss: 107898.7773 - val_rmse: 264.2747\n",
      "Epoch 38/500\n",
      "7/7 [==============================] - 2s 305ms/step - loss: 83611.3955 - rmse: 245.8195 - val_loss: 94897.1400 - val_rmse: 251.8422\n",
      "Epoch 39/500\n",
      "7/7 [==============================] - 2s 336ms/step - loss: 82394.2600 - rmse: 244.0070 - val_loss: 124191.8065 - val_rmse: 292.6387\n",
      "Epoch 40/500\n",
      "7/7 [==============================] - 2s 321ms/step - loss: 95832.2116 - rmse: 264.9058 - val_loss: 94380.0977 - val_rmse: 244.8262\n",
      "Epoch 41/500\n",
      "7/7 [==============================] - 2s 314ms/step - loss: 87306.3636 - rmse: 251.8256 - val_loss: 92545.4459 - val_rmse: 247.1878\n",
      "Epoch 42/500\n",
      "7/7 [==============================] - 2s 306ms/step - loss: 81985.1488 - rmse: 246.0137 - val_loss: 101836.5487 - val_rmse: 260.7809\n",
      "Epoch 43/500\n",
      "7/7 [==============================] - 2s 293ms/step - loss: 79153.4987 - rmse: 233.5676 - val_loss: 101007.9180 - val_rmse: 257.7330\n",
      "Epoch 44/500\n",
      "7/7 [==============================] - 2s 282ms/step - loss: 89098.5568 - rmse: 256.1175 - val_loss: 90590.8450 - val_rmse: 244.3205\n",
      "Epoch 45/500\n",
      "7/7 [==============================] - 2s 317ms/step - loss: 85569.1359 - rmse: 249.5584 - val_loss: 112047.2272 - val_rmse: 271.3827\n",
      "Epoch 46/500\n",
      "7/7 [==============================] - 2s 318ms/step - loss: 82424.4343 - rmse: 247.7592 - val_loss: 98869.0547 - val_rmse: 252.2115\n",
      "Epoch 47/500\n",
      "7/7 [==============================] - 2s 304ms/step - loss: 81298.6462 - rmse: 239.8368 - val_loss: 102516.1142 - val_rmse: 263.0430\n",
      "Epoch 48/500\n",
      "7/7 [==============================] - 2s 286ms/step - loss: 83987.4573 - rmse: 246.8655 - val_loss: 120584.3035 - val_rmse: 289.7140\n",
      "Epoch 49/500\n",
      "7/7 [==============================] - 2s 281ms/step - loss: 85676.5434 - rmse: 240.7916 - val_loss: 87866.2773 - val_rmse: 237.1023\n",
      "Epoch 50/500\n",
      "7/7 [==============================] - 2s 323ms/step - loss: 89912.7702 - rmse: 258.0712 - val_loss: 156909.1899 - val_rmse: 329.8480\n",
      "Epoch 51/500\n",
      "7/7 [==============================] - 2s 321ms/step - loss: 82493.5948 - rmse: 242.3864 - val_loss: 70471.4276 - val_rmse: 207.1580\n",
      "Epoch 52/500\n",
      "7/7 [==============================] - 2s 279ms/step - loss: 81233.6061 - rmse: 240.9566 - val_loss: 145299.5664 - val_rmse: 316.5829\n",
      "Epoch 53/500\n",
      "7/7 [==============================] - 2s 333ms/step - loss: 87413.4329 - rmse: 246.6866 - val_loss: 59026.7849 - val_rmse: 183.3464\n",
      "Epoch 54/500\n",
      "7/7 [==============================] - 2s 302ms/step - loss: 85258.0955 - rmse: 250.0548 - val_loss: 156258.3221 - val_rmse: 337.3357\n",
      "Epoch 55/500\n",
      "7/7 [==============================] - 2s 343ms/step - loss: 91016.5430 - rmse: 256.1034 - val_loss: 91968.2930 - val_rmse: 241.6462\n",
      "Epoch 56/500\n",
      "7/7 [==============================] - 2s 343ms/step - loss: 86927.6046 - rmse: 243.7066 - val_loss: 110164.8546 - val_rmse: 275.0180\n"
     ]
    },
    {
     "name": "stdout",
     "output_type": "stream",
     "text": [
      "Epoch 57/500\n",
      "7/7 [==============================] - 2s 329ms/step - loss: 85025.0813 - rmse: 248.4658 - val_loss: 97814.2079 - val_rmse: 243.0663\n",
      "Epoch 58/500\n",
      "7/7 [==============================] - 2s 329ms/step - loss: 92726.8608 - rmse: 260.9100 - val_loss: 103913.0977 - val_rmse: 263.2867\n",
      "Epoch 59/500\n",
      "7/7 [==============================] - 2s 324ms/step - loss: 78049.8303 - rmse: 237.1547 - val_loss: 125325.6466 - val_rmse: 288.8563\n",
      "Epoch 60/500\n",
      "7/7 [==============================] - 2s 333ms/step - loss: 83364.3445 - rmse: 247.0928 - val_loss: 102575.4387 - val_rmse: 262.0108\n",
      "Epoch 61/500\n",
      "7/7 [==============================] - 3s 406ms/step - loss: 88753.4611 - rmse: 255.7525 - val_loss: 99543.1367 - val_rmse: 260.3408\n",
      "Epoch 62/500\n",
      "7/7 [==============================] - 2s 333ms/step - loss: 85001.4092 - rmse: 247.7205 - val_loss: 82291.2542 - val_rmse: 227.1792\n",
      "Epoch 63/500\n",
      "7/7 [==============================] - 2s 352ms/step - loss: 88255.5893 - rmse: 254.8967 - val_loss: 107567.5114 - val_rmse: 255.2170\n",
      "Epoch 64/500\n",
      "7/7 [==============================] - 2s 314ms/step - loss: 80077.6559 - rmse: 240.1332 - val_loss: 93638.5859 - val_rmse: 249.6535\n",
      "Epoch 65/500\n",
      "7/7 [==============================] - 3s 394ms/step - loss: 74198.2263 - rmse: 230.3850 - val_loss: 137105.1815 - val_rmse: 294.1209\n",
      "Epoch 66/500\n",
      "7/7 [==============================] - 2s 320ms/step - loss: 94334.7725 - rmse: 265.7035 - val_loss: 84571.8990 - val_rmse: 239.0256\n",
      "Epoch 67/500\n",
      "7/7 [==============================] - 3s 361ms/step - loss: 76823.1183 - rmse: 238.8436 - val_loss: 139174.0508 - val_rmse: 310.0676\n",
      "Epoch 68/500\n",
      "7/7 [==============================] - 2s 329ms/step - loss: 89529.1719 - rmse: 252.8389 - val_loss: 80039.1773 - val_rmse: 221.2949\n",
      "Epoch 69/500\n",
      "7/7 [==============================] - 3s 360ms/step - loss: 83200.9930 - rmse: 242.3994 - val_loss: 109202.3798 - val_rmse: 266.5134\n",
      "Epoch 70/500\n",
      "7/7 [==============================] - 2s 274ms/step - loss: 81191.2709 - rmse: 242.4912 - val_loss: 108490.4688 - val_rmse: 264.5474\n",
      "Epoch 71/500\n",
      "7/7 [==============================] - 2s 349ms/step - loss: 84124.5647 - rmse: 246.5859 - val_loss: 98404.5288 - val_rmse: 251.3719\n",
      "Epoch 72/500\n",
      "7/7 [==============================] - 3s 379ms/step - loss: 79907.6072 - rmse: 238.7581 - val_loss: 104255.1538 - val_rmse: 257.6771\n",
      "Epoch 73/500\n",
      "7/7 [==============================] - 2s 335ms/step - loss: 82166.5136 - rmse: 243.9422 - val_loss: 114231.3164 - val_rmse: 279.9411\n",
      "Epoch 74/500\n",
      "7/7 [==============================] - 3s 362ms/step - loss: 87429.6358 - rmse: 252.5467 - val_loss: 98806.1647 - val_rmse: 240.4507\n",
      "Epoch 75/500\n",
      "7/7 [==============================] - 3s 360ms/step - loss: 78253.6899 - rmse: 237.5775 - val_loss: 131680.6815 - val_rmse: 301.1861\n",
      "Epoch 76/500\n",
      "7/7 [==============================] - 3s 385ms/step - loss: 80015.3703 - rmse: 237.3567 - val_loss: 102239.7461 - val_rmse: 251.6249\n",
      "Epoch 77/500\n",
      "7/7 [==============================] - 3s 376ms/step - loss: 83895.5742 - rmse: 244.1711 - val_loss: 132676.1082 - val_rmse: 312.4572\n",
      "Epoch 78/500\n",
      "7/7 [==============================] - 3s 359ms/step - loss: 80683.9902 - rmse: 242.3142 - val_loss: 95048.6779 - val_rmse: 235.9791\n",
      "Epoch 79/500\n",
      "7/7 [==============================] - 2s 347ms/step - loss: 78905.2567 - rmse: 238.9147 - val_loss: 128231.0000 - val_rmse: 299.7766\n",
      "Epoch 80/500\n",
      "7/7 [==============================] - 3s 365ms/step - loss: 85580.3030 - rmse: 247.3649 - val_loss: 77668.7416 - val_rmse: 224.0034\n",
      "Epoch 81/500\n",
      "7/7 [==============================] - 2s 336ms/step - loss: 79778.8322 - rmse: 236.2981 - val_loss: 139771.3774 - val_rmse: 294.1007\n",
      "Epoch 82/500\n",
      "7/7 [==============================] - 3s 386ms/step - loss: 86992.4583 - rmse: 255.7082 - val_loss: 138938.9453 - val_rmse: 299.9637\n",
      "Epoch 83/500\n",
      "7/7 [==============================] - 2s 329ms/step - loss: 79960.0566 - rmse: 238.1127 - val_loss: 69438.7984 - val_rmse: 213.3203\n",
      "Epoch 84/500\n",
      "7/7 [==============================] - 2s 341ms/step - loss: 80106.3407 - rmse: 235.3756 - val_loss: 140936.6899 - val_rmse: 307.2634\n",
      "Epoch 85/500\n",
      "7/7 [==============================] - 2s 323ms/step - loss: 80951.8526 - rmse: 242.9551 - val_loss: 118233.4922 - val_rmse: 275.0010\n",
      "Epoch 86/500\n",
      "7/7 [==============================] - 2s 312ms/step - loss: 82592.0542 - rmse: 244.0247 - val_loss: 140727.7079 - val_rmse: 306.3841\n",
      "Epoch 87/500\n",
      "7/7 [==============================] - 3s 373ms/step - loss: 83575.3002 - rmse: 246.7123 - val_loss: 84820.7422 - val_rmse: 231.8002\n",
      "Epoch 88/500\n",
      "7/7 [==============================] - 3s 362ms/step - loss: 81355.6792 - rmse: 241.8691 - val_loss: 122636.5234 - val_rmse: 289.3417\n",
      "Epoch 89/500\n",
      "7/7 [==============================] - 3s 460ms/step - loss: 78129.3230 - rmse: 241.3400 - val_loss: 94153.9525 - val_rmse: 226.7843\n",
      "Epoch 90/500\n",
      "7/7 [==============================] - 3s 406ms/step - loss: 82463.4227 - rmse: 243.3393 - val_loss: 165801.1154 - val_rmse: 344.8008\n",
      "Epoch 91/500\n",
      "7/7 [==============================] - 3s 361ms/step - loss: 75603.3807 - rmse: 228.4575 - val_loss: 89508.9023 - val_rmse: 232.2890\n",
      "Epoch 92/500\n",
      "7/7 [==============================] - 2s 328ms/step - loss: 79840.5687 - rmse: 240.4548 - val_loss: 147315.9832 - val_rmse: 305.3565\n",
      "Epoch 93/500\n",
      "7/7 [==============================] - 2s 352ms/step - loss: 82947.6166 - rmse: 245.0257 - val_loss: 105465.8666 - val_rmse: 261.0341\n",
      "Epoch 94/500\n",
      "7/7 [==============================] - 2s 315ms/step - loss: 80861.7332 - rmse: 242.6094 - val_loss: 131473.1875 - val_rmse: 294.8876\n",
      "Epoch 95/500\n",
      "7/7 [==============================] - 3s 385ms/step - loss: 78076.3996 - rmse: 237.5697 - val_loss: 110892.5439 - val_rmse: 260.2206\n",
      "Epoch 96/500\n",
      "7/7 [==============================] - 2s 328ms/step - loss: 82732.7839 - rmse: 242.9424 - val_loss: 137422.8005 - val_rmse: 294.2097\n",
      "Epoch 97/500\n",
      "7/7 [==============================] - 2s 305ms/step - loss: 82197.0785 - rmse: 241.5259 - val_loss: 114852.4492 - val_rmse: 267.5516\n",
      "Epoch 98/500\n",
      "7/7 [==============================] - 2s 355ms/step - loss: 76247.3008 - rmse: 231.6553 - val_loss: 116570.9856 - val_rmse: 269.4495\n",
      "Epoch 99/500\n",
      "7/7 [==============================] - 2s 346ms/step - loss: 82701.0471 - rmse: 240.9057 - val_loss: 146162.6370 - val_rmse: 303.9672\n",
      "Epoch 100/500\n",
      "7/7 [==============================] - 3s 384ms/step - loss: 79389.3035 - rmse: 239.0587 - val_loss: 111058.2344 - val_rmse: 266.8215\n",
      "Epoch 101/500\n",
      "7/7 [==============================] - 3s 390ms/step - loss: 75961.4164 - rmse: 231.0799 - val_loss: 120114.4748 - val_rmse: 263.4152\n",
      "Epoch 102/500\n",
      "7/7 [==============================] - 3s 359ms/step - loss: 77842.0326 - rmse: 236.3254 - val_loss: 147114.6887 - val_rmse: 315.3152\n",
      "Epoch 103/500\n",
      "7/7 [==============================] - 2s 333ms/step - loss: 83904.3225 - rmse: 244.7447 - val_loss: 133238.0156 - val_rmse: 295.2002\n",
      "Epoch 104/500\n",
      "7/7 [==============================] - 3s 389ms/step - loss: 74485.8363 - rmse: 229.4442 - val_loss: 112616.3780 - val_rmse: 265.9492\n",
      "Epoch 105/500\n",
      "7/7 [==============================] - 2s 351ms/step - loss: 76289.0205 - rmse: 232.9524 - val_loss: 146034.6875 - val_rmse: 298.3976\n",
      "Epoch 106/500\n",
      "7/7 [==============================] - 3s 382ms/step - loss: 83479.3287 - rmse: 243.8901 - val_loss: 107323.5039 - val_rmse: 256.3524\n",
      "Epoch 107/500\n",
      "7/7 [==============================] - 2s 312ms/step - loss: 69137.0617 - rmse: 221.9558 - val_loss: 172420.4591 - val_rmse: 351.8920\n",
      "Epoch 108/500\n",
      "7/7 [==============================] - 2s 330ms/step - loss: 80578.4495 - rmse: 230.9019 - val_loss: 102072.0325 - val_rmse: 243.2564\n",
      "Epoch 109/500\n",
      "7/7 [==============================] - 2s 337ms/step - loss: 76206.2467 - rmse: 236.4127 - val_loss: 122941.7461 - val_rmse: 283.4013\n",
      "Epoch 110/500\n",
      "7/7 [==============================] - 2s 334ms/step - loss: 76531.9193 - rmse: 230.2200 - val_loss: 146534.9639 - val_rmse: 302.8075\n",
      "Epoch 111/500\n",
      "7/7 [==============================] - 2s 353ms/step - loss: 80263.3549 - rmse: 236.7621 - val_loss: 151035.5499 - val_rmse: 312.0768\n",
      "Epoch 112/500\n",
      "7/7 [==============================] - 3s 388ms/step - loss: 78205.9875 - rmse: 234.7398 - val_loss: 135159.3828 - val_rmse: 291.5318\n"
     ]
    },
    {
     "name": "stdout",
     "output_type": "stream",
     "text": [
      "Epoch 113/500\n",
      "7/7 [==============================] - 2s 322ms/step - loss: 81635.1029 - rmse: 246.5559 - val_loss: 136308.7578 - val_rmse: 296.6431\n",
      "Epoch 114/500\n",
      "7/7 [==============================] - 2s 307ms/step - loss: 76733.4066 - rmse: 228.1336 - val_loss: 106001.4087 - val_rmse: 245.1857\n",
      "Epoch 115/500\n",
      "7/7 [==============================] - 3s 386ms/step - loss: 72913.3361 - rmse: 222.6858 - val_loss: 147799.4297 - val_rmse: 316.7296\n",
      "Epoch 116/500\n",
      "7/7 [==============================] - 3s 447ms/step - loss: 86776.2248 - rmse: 252.5891 - val_loss: 110411.4050 - val_rmse: 246.9128\n",
      "Epoch 117/500\n",
      "7/7 [==============================] - 4s 523ms/step - loss: 83507.5076 - rmse: 240.5637 - val_loss: 186916.8125 - val_rmse: 360.9114\n",
      "Epoch 118/500\n",
      "7/7 [==============================] - 3s 461ms/step - loss: 82550.6322 - rmse: 241.8846 - val_loss: 102279.3906 - val_rmse: 244.3746\n",
      "Epoch 119/500\n",
      "7/7 [==============================] - 3s 407ms/step - loss: 86828.4855 - rmse: 250.9588 - val_loss: 185312.2716 - val_rmse: 355.1719\n",
      "Epoch 120/500\n",
      "7/7 [==============================] - 3s 390ms/step - loss: 76134.7606 - rmse: 231.2990 - val_loss: 118097.7206 - val_rmse: 273.6876\n",
      "Epoch 121/500\n",
      "7/7 [==============================] - 2s 349ms/step - loss: 74145.1488 - rmse: 224.5554 - val_loss: 131719.5742 - val_rmse: 282.0116\n",
      "Epoch 122/500\n",
      "7/7 [==============================] - 3s 449ms/step - loss: 84938.3171 - rmse: 246.5535 - val_loss: 156415.5583 - val_rmse: 327.1201\n",
      "Epoch 123/500\n",
      "7/7 [==============================] - 3s 389ms/step - loss: 70751.4279 - rmse: 220.5675 - val_loss: 105320.6046 - val_rmse: 243.9543\n",
      "Epoch 124/500\n",
      "7/7 [==============================] - 3s 404ms/step - loss: 77622.3120 - rmse: 232.2914 - val_loss: 164619.3477 - val_rmse: 323.4644\n",
      "Epoch 125/500\n",
      "7/7 [==============================] - 2s 345ms/step - loss: 72753.2555 - rmse: 223.2446 - val_loss: 79638.6544 - val_rmse: 223.9418\n",
      "Epoch 126/500\n",
      "7/7 [==============================] - 3s 391ms/step - loss: 68967.5882 - rmse: 221.3580 - val_loss: 187417.2236 - val_rmse: 349.6521\n",
      "Epoch 127/500\n",
      "7/7 [==============================] - 3s 372ms/step - loss: 79630.9442 - rmse: 237.5613 - val_loss: 147912.9844 - val_rmse: 309.0426\n",
      "Epoch 128/500\n",
      "7/7 [==============================] - 2s 336ms/step - loss: 74229.0734 - rmse: 232.9253 - val_loss: 112818.6400 - val_rmse: 255.9550\n",
      "Epoch 129/500\n",
      "7/7 [==============================] - 2s 298ms/step - loss: 75931.5175 - rmse: 231.1909 - val_loss: 145805.4483 - val_rmse: 301.0936\n",
      "Epoch 130/500\n",
      "7/7 [==============================] - 2s 346ms/step - loss: 68525.3002 - rmse: 215.9200 - val_loss: 140176.8047 - val_rmse: 301.1348\n",
      "Epoch 131/500\n",
      "7/7 [==============================] - 3s 360ms/step - loss: 71859.2592 - rmse: 225.9427 - val_loss: 154723.6322 - val_rmse: 316.2778\n",
      "Epoch 132/500\n",
      "7/7 [==============================] - 2s 353ms/step - loss: 67411.6073 - rmse: 214.5356 - val_loss: 146123.5974 - val_rmse: 292.8616\n",
      "Epoch 133/500\n",
      "7/7 [==============================] - 3s 383ms/step - loss: 74625.9143 - rmse: 232.1190 - val_loss: 138271.3594 - val_rmse: 288.8494\n",
      "Epoch 134/500\n",
      "7/7 [==============================] - 2s 339ms/step - loss: 71966.5703 - rmse: 224.7783 - val_loss: 150792.9111 - val_rmse: 305.4359\n",
      "Epoch 135/500\n",
      "7/7 [==============================] - 2s 339ms/step - loss: 66727.2121 - rmse: 215.3306 - val_loss: 162831.9471 - val_rmse: 319.9512\n",
      "Epoch 136/500\n",
      "7/7 [==============================] - 2s 356ms/step - loss: 70270.1211 - rmse: 219.5801 - val_loss: 155456.3906 - val_rmse: 310.5715\n",
      "Epoch 137/500\n",
      "7/7 [==============================] - 3s 396ms/step - loss: 78091.0750 - rmse: 228.3734 - val_loss: 177325.8966 - val_rmse: 345.6308\n",
      "Epoch 138/500\n",
      "7/7 [==============================] - 2s 320ms/step - loss: 78175.5130 - rmse: 231.6889 - val_loss: 117638.3341 - val_rmse: 262.5067\n",
      "Epoch 139/500\n",
      "7/7 [==============================] - 2s 300ms/step - loss: 65866.0013 - rmse: 216.2758 - val_loss: 173331.3594 - val_rmse: 324.1680\n",
      "Epoch 140/500\n",
      "7/7 [==============================] - 2s 323ms/step - loss: 75368.6083 - rmse: 227.0813 - val_loss: 105941.1923 - val_rmse: 251.4789\n",
      "Epoch 141/500\n",
      "7/7 [==============================] - 3s 360ms/step - loss: 69666.0532 - rmse: 216.1044 - val_loss: 158249.4026 - val_rmse: 306.7425\n",
      "Epoch 142/500\n",
      "7/7 [==============================] - 2s 349ms/step - loss: 69445.0241 - rmse: 219.3766 - val_loss: 158076.0234 - val_rmse: 311.2466\n",
      "Epoch 143/500\n",
      "7/7 [==============================] - 3s 388ms/step - loss: 70883.9224 - rmse: 221.3413 - val_loss: 121381.7200 - val_rmse: 269.7846\n",
      "Epoch 144/500\n",
      "7/7 [==============================] - 2s 351ms/step - loss: 60898.9008 - rmse: 204.8649 - val_loss: 173504.0288 - val_rmse: 331.3499\n",
      "Epoch 145/500\n",
      "7/7 [==============================] - 2s 338ms/step - loss: 73577.5266 - rmse: 227.8079 - val_loss: 152099.5781 - val_rmse: 310.4358\n",
      "Epoch 146/500\n",
      "7/7 [==============================] - 3s 411ms/step - loss: 63110.8147 - rmse: 207.9846 - val_loss: 139251.7632 - val_rmse: 300.3439\n",
      "Epoch 147/500\n",
      "7/7 [==============================] - 2s 302ms/step - loss: 65902.7738 - rmse: 211.5161 - val_loss: 161981.3041 - val_rmse: 313.6567\n",
      "Epoch 148/500\n",
      "7/7 [==============================] - 3s 361ms/step - loss: 67846.9148 - rmse: 218.0137 - val_loss: 168722.1797 - val_rmse: 329.7393\n",
      "Epoch 149/500\n",
      "7/7 [==============================] - 2s 338ms/step - loss: 63247.1285 - rmse: 202.9169 - val_loss: 169476.3606 - val_rmse: 336.4715\n",
      "Epoch 150/500\n",
      "7/7 [==============================] - 3s 374ms/step - loss: 62516.8392 - rmse: 207.0652 - val_loss: 147490.1316 - val_rmse: 291.3427\n",
      "Epoch 151/500\n",
      "7/7 [==============================] - 3s 416ms/step - loss: 64896.2567 - rmse: 209.0506 - val_loss: 177265.5781 - val_rmse: 340.5071\n",
      "Epoch 152/500\n",
      "7/7 [==============================] - 3s 392ms/step - loss: 60648.3232 - rmse: 199.3155 - val_loss: 111644.9760 - val_rmse: 247.7635\n",
      "Epoch 153/500\n",
      "7/7 [==============================] - 2s 319ms/step - loss: 58482.0558 - rmse: 202.7661 - val_loss: 210259.6070 - val_rmse: 382.1266\n",
      "Epoch 154/500\n",
      "7/7 [==============================] - 2s 348ms/step - loss: 69241.1754 - rmse: 216.4307 - val_loss: 185420.2578 - val_rmse: 348.8828\n",
      "Epoch 155/500\n",
      "7/7 [==============================] - 2s 328ms/step - loss: 58368.4463 - rmse: 197.1054 - val_loss: 164106.1827 - val_rmse: 319.7692\n",
      "Epoch 156/500\n",
      "7/7 [==============================] - 2s 333ms/step - loss: 64012.4621 - rmse: 209.4468 - val_loss: 143111.6839 - val_rmse: 290.7564\n",
      "Epoch 157/500\n",
      "7/7 [==============================] - 2s 304ms/step - loss: 54450.7049 - rmse: 197.8312 - val_loss: 192586.1328 - val_rmse: 362.8475\n",
      "Epoch 158/500\n",
      "7/7 [==============================] - 2s 318ms/step - loss: 67145.6771 - rmse: 210.2774 - val_loss: 156982.4399 - val_rmse: 331.3116\n",
      "Epoch 159/500\n",
      "7/7 [==============================] - 3s 362ms/step - loss: 61994.7600 - rmse: 203.6100 - val_loss: 168304.7175 - val_rmse: 324.5516\n",
      "Epoch 160/500\n",
      "7/7 [==============================] - 2s 319ms/step - loss: 70630.7463 - rmse: 214.2890 - val_loss: 181617.4414 - val_rmse: 336.1800\n",
      "Epoch 161/500\n",
      "7/7 [==============================] - 2s 309ms/step - loss: 68968.1361 - rmse: 219.6442 - val_loss: 176076.1202 - val_rmse: 350.4324\n",
      "Epoch 162/500\n",
      "7/7 [==============================] - 2s 330ms/step - loss: 56270.0265 - rmse: 196.3763 - val_loss: 146543.8558 - val_rmse: 293.7305\n",
      "Epoch 163/500\n",
      "7/7 [==============================] - 2s 322ms/step - loss: 58646.7026 - rmse: 190.0946 - val_loss: 168102.5391 - val_rmse: 323.6611\n",
      "Epoch 164/500\n",
      "7/7 [==============================] - 3s 366ms/step - loss: 64275.5398 - rmse: 206.5970 - val_loss: 171584.7212 - val_rmse: 314.2150\n",
      "Epoch 165/500\n",
      "7/7 [==============================] - 2s 355ms/step - loss: 56693.1865 - rmse: 192.4631 - val_loss: 155682.1815 - val_rmse: 337.4909\n",
      "Epoch 166/500\n",
      "7/7 [==============================] - 2s 354ms/step - loss: 53445.9817 - rmse: 186.1039 - val_loss: 212485.2969 - val_rmse: 374.6832\n",
      "Epoch 167/500\n",
      "7/7 [==============================] - 2s 350ms/step - loss: 54936.3242 - rmse: 188.1524 - val_loss: 158725.8690 - val_rmse: 321.3669\n",
      "Epoch 168/500\n",
      "7/7 [==============================] - 2s 307ms/step - loss: 59699.0066 - rmse: 199.5633 - val_loss: 166753.3522 - val_rmse: 328.4473\n",
      "Epoch 169/500\n",
      "7/7 [==============================] - 2s 343ms/step - loss: 53268.8536 - rmse: 191.2402 - val_loss: 174526.6172 - val_rmse: 336.8477\n",
      "Epoch 170/500\n",
      "7/7 [==============================] - 2s 331ms/step - loss: 51597.2660 - rmse: 184.9652 - val_loss: 145517.6815 - val_rmse: 287.1339\n",
      "Epoch 171/500\n",
      "7/7 [==============================] - 2s 299ms/step - loss: 59835.7233 - rmse: 197.6755 - val_loss: 189272.8834 - val_rmse: 369.1000\n",
      "Epoch 172/500\n",
      "7/7 [==============================] - 2s 336ms/step - loss: 57150.8016 - rmse: 196.3231 - val_loss: 195203.5469 - val_rmse: 365.9335\n",
      "Epoch 173/500\n",
      "7/7 [==============================] - 2s 328ms/step - loss: 54143.3712 - rmse: 188.3983 - val_loss: 121455.0054 - val_rmse: 259.1541\n",
      "Epoch 174/500\n",
      "7/7 [==============================] - 2s 332ms/step - loss: 50616.3314 - rmse: 183.3154 - val_loss: 188627.1082 - val_rmse: 352.9601\n",
      "Epoch 175/500\n",
      "7/7 [==============================] - 3s 358ms/step - loss: 51972.2885 - rmse: 180.2182 - val_loss: 173760.7500 - val_rmse: 336.8074\n",
      "Epoch 176/500\n",
      "7/7 [==============================] - 2s 326ms/step - loss: 49066.8809 - rmse: 177.9479 - val_loss: 199409.1779 - val_rmse: 372.0133\n",
      "Epoch 177/500\n",
      "7/7 [==============================] - 3s 376ms/step - loss: 43246.0063 - rmse: 172.7520 - val_loss: 161432.3365 - val_rmse: 321.6955\n",
      "Epoch 178/500\n",
      "7/7 [==============================] - 3s 361ms/step - loss: 53232.3335 - rmse: 182.7507 - val_loss: 172097.4766 - val_rmse: 337.9845\n",
      "Epoch 179/500\n",
      "7/7 [==============================] - 2s 352ms/step - loss: 49666.0916 - rmse: 177.6417 - val_loss: 149925.6581 - val_rmse: 310.8556\n",
      "Epoch 180/500\n",
      "7/7 [==============================] - 2s 289ms/step - loss: 44478.4253 - rmse: 173.2005 - val_loss: 182887.0042 - val_rmse: 343.9686\n",
      "Epoch 181/500\n",
      "7/7 [==============================] - 2s 339ms/step - loss: 49639.4790 - rmse: 180.2518 - val_loss: 171011.7422 - val_rmse: 334.8568\n",
      "Epoch 182/500\n",
      "7/7 [==============================] - 2s 335ms/step - loss: 47256.9910 - rmse: 175.1095 - val_loss: 202734.8257 - val_rmse: 363.7645\n",
      "Epoch 183/500\n",
      "7/7 [==============================] - 2s 340ms/step - loss: 40538.7003 - rmse: 161.4541 - val_loss: 170764.4135 - val_rmse: 343.2804\n",
      "Epoch 184/500\n",
      "7/7 [==============================] - 2s 340ms/step - loss: 54764.7046 - rmse: 189.5642 - val_loss: 159729.0547 - val_rmse: 324.5593\n",
      "Epoch 185/500\n",
      "7/7 [==============================] - 2s 315ms/step - loss: 47042.8770 - rmse: 175.2626 - val_loss: 243496.3281 - val_rmse: 414.9858\n",
      "Epoch 186/500\n",
      "7/7 [==============================] - 2s 305ms/step - loss: 43122.5889 - rmse: 163.6956 - val_loss: 144730.5300 - val_rmse: 301.2967\n",
      "Epoch 187/500\n",
      "7/7 [==============================] - 2s 355ms/step - loss: 52264.5090 - rmse: 192.5635 - val_loss: 200463.9844 - val_rmse: 378.4063\n",
      "Epoch 188/500\n",
      "7/7 [==============================] - 2s 340ms/step - loss: 51119.6907 - rmse: 177.2946 - val_loss: 178339.2849 - val_rmse: 339.1601\n",
      "Epoch 189/500\n",
      "7/7 [==============================] - 2s 337ms/step - loss: 41489.1530 - rmse: 165.2605 - val_loss: 157793.3257 - val_rmse: 319.4441\n",
      "Epoch 190/500\n",
      "7/7 [==============================] - 2s 343ms/step - loss: 44109.0190 - rmse: 172.0699 - val_loss: 152779.2031 - val_rmse: 304.3013\n",
      "Epoch 191/500\n",
      "7/7 [==============================] - 2s 330ms/step - loss: 47428.5223 - rmse: 172.8581 - val_loss: 171245.8341 - val_rmse: 339.3667\n",
      "Epoch 192/500\n",
      "7/7 [==============================] - 2s 321ms/step - loss: 44418.1665 - rmse: 167.3435 - val_loss: 207191.3714 - val_rmse: 377.5693\n",
      "Epoch 193/500\n",
      "7/7 [==============================] - 2s 345ms/step - loss: 44783.1119 - rmse: 169.4826 - val_loss: 161548.3125 - val_rmse: 314.7281\n",
      "Epoch 194/500\n",
      "7/7 [==============================] - 3s 372ms/step - loss: 41723.1211 - rmse: 166.3735 - val_loss: 167072.4808 - val_rmse: 339.4892\n",
      "Epoch 195/500\n",
      "7/7 [==============================] - 3s 369ms/step - loss: 43175.4929 - rmse: 165.3800 - val_loss: 178287.4459 - val_rmse: 344.5084\n",
      "Epoch 196/500\n",
      "7/7 [==============================] - 2s 307ms/step - loss: 41437.7240 - rmse: 160.8542 - val_loss: 172281.5703 - val_rmse: 338.6365\n",
      "Epoch 197/500\n",
      "7/7 [==============================] - 2s 312ms/step - loss: 37868.2735 - rmse: 151.9719 - val_loss: 239467.0024 - val_rmse: 412.3778\n",
      "Epoch 198/500\n",
      "7/7 [==============================] - 2s 340ms/step - loss: 41016.2360 - rmse: 161.9107 - val_loss: 124222.5361 - val_rmse: 284.2942\n",
      "Epoch 199/500\n",
      "7/7 [==============================] - 2s 346ms/step - loss: 38313.7603 - rmse: 155.1886 - val_loss: 187398.6797 - val_rmse: 353.4111\n",
      "Epoch 200/500\n",
      "7/7 [==============================] - 3s 397ms/step - loss: 37899.0442 - rmse: 158.1093 - val_loss: 137576.9976 - val_rmse: 304.7565\n",
      "Epoch 201/500\n",
      "7/7 [==============================] - 2s 309ms/step - loss: 41447.6994 - rmse: 161.7056 - val_loss: 209190.1731 - val_rmse: 374.3587\n",
      "Epoch 202/500\n",
      "7/7 [==============================] - 3s 400ms/step - loss: 38261.2201 - rmse: 154.8615 - val_loss: 211400.8438 - val_rmse: 378.6181\n",
      "Epoch 203/500\n",
      "7/7 [==============================] - 3s 422ms/step - loss: 32944.7061 - rmse: 146.8090 - val_loss: 160072.4706 - val_rmse: 332.8057\n",
      "Epoch 204/500\n",
      "7/7 [==============================] - 3s 474ms/step - loss: 38839.5301 - rmse: 155.4384 - val_loss: 175743.3990 - val_rmse: 317.2695\n",
      "Epoch 205/500\n",
      "7/7 [==============================] - 3s 443ms/step - loss: 38221.8949 - rmse: 159.2066 - val_loss: 199440.1797 - val_rmse: 375.5230\n",
      "Epoch 206/500\n",
      "7/7 [==============================] - 4s 522ms/step - loss: 39075.6789 - rmse: 156.9303 - val_loss: 181413.4904 - val_rmse: 356.0539\n",
      "Epoch 207/500\n",
      "7/7 [==============================] - 2s 349ms/step - loss: 36635.3142 - rmse: 153.6026 - val_loss: 168184.4050 - val_rmse: 322.1792\n",
      "Epoch 208/500\n",
      "7/7 [==============================] - 2s 352ms/step - loss: 35669.4497 - rmse: 149.7387 - val_loss: 215709.7188 - val_rmse: 394.5945\n",
      "Epoch 209/500\n",
      "7/7 [==============================] - 3s 419ms/step - loss: 37956.5991 - rmse: 155.8829 - val_loss: 135645.3185 - val_rmse: 287.7541\n",
      "Epoch 210/500\n",
      "7/7 [==============================] - 2s 351ms/step - loss: 33768.3399 - rmse: 150.2207 - val_loss: 186081.9399 - val_rmse: 340.8989\n",
      "Epoch 211/500\n",
      "7/7 [==============================] - 2s 320ms/step - loss: 36280.7802 - rmse: 143.4977 - val_loss: 193623.6562 - val_rmse: 356.2238\n",
      "Epoch 212/500\n",
      "7/7 [==============================] - 3s 400ms/step - loss: 36961.6989 - rmse: 150.3722 - val_loss: 155505.4609 - val_rmse: 322.3817\n",
      "Epoch 213/500\n",
      "7/7 [==============================] - 3s 385ms/step - loss: 35209.7125 - rmse: 148.1944 - val_loss: 193078.8546 - val_rmse: 348.4975\n",
      "Epoch 214/500\n",
      "7/7 [==============================] - 3s 439ms/step - loss: 35594.4252 - rmse: 147.6807 - val_loss: 173163.9727 - val_rmse: 333.2720\n",
      "Epoch 215/500\n",
      "7/7 [==============================] - 2s 355ms/step - loss: 32576.4766 - rmse: 143.1393 - val_loss: 217787.4255 - val_rmse: 377.9812\n",
      "Epoch 216/500\n",
      "7/7 [==============================] - 3s 383ms/step - loss: 33375.3859 - rmse: 142.2403 - val_loss: 168182.4207 - val_rmse: 332.8426\n",
      "Epoch 217/500\n",
      "7/7 [==============================] - 3s 363ms/step - loss: 32254.0318 - rmse: 145.3960 - val_loss: 156976.4102 - val_rmse: 321.3536\n",
      "Epoch 218/500\n",
      "7/7 [==============================] - 3s 381ms/step - loss: 35659.3079 - rmse: 149.8879 - val_loss: 191400.5601 - val_rmse: 347.0359\n",
      "Epoch 219/500\n",
      "7/7 [==============================] - 2s 307ms/step - loss: 31241.2974 - rmse: 139.9321 - val_loss: 196348.2668 - val_rmse: 359.5535\n",
      "Epoch 220/500\n",
      "7/7 [==============================] - 2s 342ms/step - loss: 33056.2048 - rmse: 147.6108 - val_loss: 181735.4766 - val_rmse: 351.5238\n",
      "Epoch 221/500\n",
      "7/7 [==============================] - 3s 396ms/step - loss: 33262.4249 - rmse: 145.0256 - val_loss: 158287.0192 - val_rmse: 322.2663\n",
      "Epoch 222/500\n",
      "7/7 [==============================] - 3s 415ms/step - loss: 30863.0280 - rmse: 137.2582 - val_loss: 212967.7788 - val_rmse: 367.8853\n",
      "Epoch 223/500\n"
     ]
    },
    {
     "name": "stdout",
     "output_type": "stream",
     "text": [
      "7/7 [==============================] - 3s 375ms/step - loss: 31488.0273 - rmse: 139.9259 - val_loss: 196458.9688 - val_rmse: 356.3300\n",
      "Epoch 224/500\n",
      "7/7 [==============================] - 3s 372ms/step - loss: 28285.3317 - rmse: 133.3068 - val_loss: 184919.3462 - val_rmse: 359.2304\n",
      "Epoch 225/500\n",
      "7/7 [==============================] - 3s 375ms/step - loss: 33266.9409 - rmse: 139.6040 - val_loss: 155368.0769 - val_rmse: 307.8599\n",
      "Epoch 226/500\n",
      "7/7 [==============================] - 2s 330ms/step - loss: 28902.7831 - rmse: 134.6438 - val_loss: 156921.8438 - val_rmse: 313.6660\n",
      "Epoch 227/500\n",
      "7/7 [==============================] - 2s 316ms/step - loss: 28817.0469 - rmse: 135.1696 - val_loss: 215502.9904 - val_rmse: 381.2114\n",
      "Epoch 228/500\n",
      "7/7 [==============================] - 2s 327ms/step - loss: 31137.7397 - rmse: 138.1687 - val_loss: 177587.4050 - val_rmse: 328.8945\n",
      "Epoch 229/500\n",
      "7/7 [==============================] - 2s 356ms/step - loss: 29918.0339 - rmse: 137.4115 - val_loss: 234565.2969 - val_rmse: 408.6534\n",
      "Epoch 230/500\n",
      "7/7 [==============================] - 2s 329ms/step - loss: 32111.9592 - rmse: 134.6369 - val_loss: 165460.7133 - val_rmse: 321.0570\n",
      "Epoch 231/500\n",
      "7/7 [==============================] - 2s 341ms/step - loss: 27579.8527 - rmse: 126.7334 - val_loss: 150577.4435 - val_rmse: 311.2815\n",
      "Epoch 232/500\n",
      "7/7 [==============================] - 3s 368ms/step - loss: 26157.7260 - rmse: 127.8757 - val_loss: 149793.6562 - val_rmse: 308.4400\n",
      "Epoch 233/500\n",
      "7/7 [==============================] - 2s 313ms/step - loss: 28647.1467 - rmse: 128.9486 - val_loss: 218362.8101 - val_rmse: 381.1711\n",
      "Epoch 234/500\n",
      "7/7 [==============================] - 2s 315ms/step - loss: 27238.6033 - rmse: 127.6373 - val_loss: 186015.4603 - val_rmse: 345.5906\n",
      "Epoch 235/500\n",
      "7/7 [==============================] - 2s 318ms/step - loss: 27652.9122 - rmse: 130.3456 - val_loss: 184952.5156 - val_rmse: 344.8759\n",
      "Epoch 236/500\n",
      "7/7 [==============================] - 2s 323ms/step - loss: 31350.1097 - rmse: 139.0295 - val_loss: 163831.0264 - val_rmse: 326.5521\n",
      "Epoch 237/500\n",
      "7/7 [==============================] - 2s 311ms/step - loss: 27889.7874 - rmse: 131.1652 - val_loss: 185250.4555 - val_rmse: 348.1746\n",
      "Epoch 238/500\n",
      "7/7 [==============================] - 2s 324ms/step - loss: 30563.0250 - rmse: 135.7695 - val_loss: 195720.5703 - val_rmse: 354.4684\n",
      "Epoch 239/500\n",
      "7/7 [==============================] - 3s 373ms/step - loss: 29400.9487 - rmse: 133.1524 - val_loss: 189628.1779 - val_rmse: 361.8028\n",
      "Epoch 240/500\n",
      "7/7 [==============================] - 3s 367ms/step - loss: 25943.6367 - rmse: 128.6923 - val_loss: 152218.4333 - val_rmse: 315.1379\n",
      "Epoch 241/500\n",
      "7/7 [==============================] - 3s 364ms/step - loss: 29102.3827 - rmse: 130.5854 - val_loss: 175646.9844 - val_rmse: 336.9925\n",
      "Epoch 242/500\n",
      "7/7 [==============================] - 2s 340ms/step - loss: 30149.2514 - rmse: 140.2389 - val_loss: 172146.2200 - val_rmse: 330.2883\n",
      "Epoch 243/500\n",
      "7/7 [==============================] - 2s 332ms/step - loss: 22218.8887 - rmse: 116.7235 - val_loss: 165677.3714 - val_rmse: 321.8421\n",
      "Epoch 244/500\n",
      "7/7 [==============================] - 2s 342ms/step - loss: 25700.2528 - rmse: 124.8164 - val_loss: 175612.4062 - val_rmse: 340.0858\n",
      "Epoch 245/500\n",
      "7/7 [==============================] - 2s 342ms/step - loss: 23541.3599 - rmse: 117.3157 - val_loss: 181932.1082 - val_rmse: 347.7368\n",
      "Epoch 246/500\n",
      "7/7 [==============================] - 2s 343ms/step - loss: 25988.0391 - rmse: 125.7291 - val_loss: 165464.3642 - val_rmse: 328.2545\n",
      "Epoch 247/500\n",
      "7/7 [==============================] - 2s 350ms/step - loss: 28923.9958 - rmse: 132.6234 - val_loss: 189393.3828 - val_rmse: 356.8374\n",
      "Epoch 248/500\n",
      "7/7 [==============================] - 2s 317ms/step - loss: 23127.6979 - rmse: 118.0395 - val_loss: 185966.4495 - val_rmse: 343.0740\n",
      "Epoch 249/500\n",
      "7/7 [==============================] - 3s 381ms/step - loss: 28022.5670 - rmse: 129.5123 - val_loss: 170714.7704 - val_rmse: 329.7171\n",
      "Epoch 250/500\n",
      "7/7 [==============================] - 3s 402ms/step - loss: 23704.9005 - rmse: 118.4046 - val_loss: 170467.7969 - val_rmse: 332.8405\n",
      "Epoch 251/500\n",
      "7/7 [==============================] - 3s 377ms/step - loss: 26990.3730 - rmse: 128.7663 - val_loss: 147672.4339 - val_rmse: 299.9064\n",
      "Epoch 252/500\n",
      "7/7 [==============================] - 2s 320ms/step - loss: 21450.0917 - rmse: 115.1442 - val_loss: 201992.4002 - val_rmse: 363.7016\n",
      "Epoch 253/500\n",
      "7/7 [==============================] - 3s 379ms/step - loss: 25471.8810 - rmse: 126.4989 - val_loss: 143224.8750 - val_rmse: 306.7872\n",
      "Epoch 254/500\n",
      "7/7 [==============================] - 2s 353ms/step - loss: 22983.6766 - rmse: 117.2434 - val_loss: 208389.4471 - val_rmse: 359.8398\n",
      "Epoch 255/500\n",
      "7/7 [==============================] - 2s 344ms/step - loss: 22005.2374 - rmse: 112.2881 - val_loss: 188598.1178 - val_rmse: 357.7642\n",
      "Epoch 256/500\n",
      "7/7 [==============================] - 3s 420ms/step - loss: 25281.4512 - rmse: 115.8702 - val_loss: 180374.4453 - val_rmse: 338.9960\n",
      "Epoch 257/500\n",
      "7/7 [==============================] - 3s 372ms/step - loss: 20905.3569 - rmse: 114.3603 - val_loss: 205840.3834 - val_rmse: 371.4148\n",
      "Epoch 258/500\n",
      "7/7 [==============================] - 2s 329ms/step - loss: 20991.6430 - rmse: 110.7177 - val_loss: 160836.4255 - val_rmse: 322.4201\n",
      "Epoch 259/500\n",
      "7/7 [==============================] - 2s 319ms/step - loss: 19912.8039 - rmse: 110.1094 - val_loss: 176653.7578 - val_rmse: 341.2128\n",
      "Epoch 260/500\n",
      "7/7 [==============================] - 2s 322ms/step - loss: 24746.1714 - rmse: 122.5075 - val_loss: 162321.2764 - val_rmse: 318.6305\n",
      "Epoch 261/500\n",
      "7/7 [==============================] - 2s 336ms/step - loss: 21429.8939 - rmse: 113.8323 - val_loss: 225130.7308 - val_rmse: 393.4585\n",
      "Epoch 262/500\n",
      "7/7 [==============================] - 2s 316ms/step - loss: 24036.0676 - rmse: 120.4689 - val_loss: 195776.1328 - val_rmse: 346.7371\n",
      "Epoch 263/500\n",
      "7/7 [==============================] - 2s 355ms/step - loss: 20682.4039 - rmse: 110.5231 - val_loss: 158830.1803 - val_rmse: 335.6566\n",
      "Epoch 264/500\n",
      "7/7 [==============================] - 2s 346ms/step - loss: 21854.4969 - rmse: 114.7847 - val_loss: 189513.5493 - val_rmse: 347.7764\n",
      "Epoch 265/500\n",
      "7/7 [==============================] - 2s 310ms/step - loss: 24929.2346 - rmse: 121.7233 - val_loss: 218916.0391 - val_rmse: 383.4803\n",
      "Epoch 266/500\n",
      "7/7 [==============================] - 3s 404ms/step - loss: 20664.5211 - rmse: 109.7934 - val_loss: 117783.3041 - val_rmse: 258.3893\n",
      "Epoch 267/500\n",
      "7/7 [==============================] - 3s 396ms/step - loss: 21300.5917 - rmse: 113.8654 - val_loss: 203524.5841 - val_rmse: 374.1632\n",
      "Epoch 268/500\n",
      "7/7 [==============================] - 2s 346ms/step - loss: 22340.8741 - rmse: 112.7791 - val_loss: 195730.5469 - val_rmse: 357.5840\n",
      "Epoch 269/500\n",
      "7/7 [==============================] - 3s 367ms/step - loss: 21213.6729 - rmse: 114.4641 - val_loss: 181527.9940 - val_rmse: 344.4765\n",
      "Epoch 270/500\n",
      "7/7 [==============================] - 2s 339ms/step - loss: 24602.3684 - rmse: 125.2007 - val_loss: 169229.7380 - val_rmse: 339.6937\n",
      "Epoch 271/500\n",
      "7/7 [==============================] - 2s 290ms/step - loss: 21574.1323 - rmse: 113.5759 - val_loss: 155570.9766 - val_rmse: 312.2477\n",
      "Epoch 272/500\n",
      "7/7 [==============================] - 2s 308ms/step - loss: 22843.2828 - rmse: 115.9216 - val_loss: 200484.6899 - val_rmse: 361.0115\n",
      "Epoch 273/500\n",
      "7/7 [==============================] - 3s 399ms/step - loss: 18661.5164 - rmse: 104.9415 - val_loss: 186459.7392 - val_rmse: 352.4348\n",
      "Epoch 274/500\n",
      "7/7 [==============================] - 2s 326ms/step - loss: 17877.5182 - rmse: 102.5812 - val_loss: 185227.7812 - val_rmse: 342.7200\n",
      "Epoch 275/500\n",
      "7/7 [==============================] - 3s 385ms/step - loss: 20175.7589 - rmse: 111.5836 - val_loss: 172925.5697 - val_rmse: 336.3761\n",
      "Epoch 276/500\n",
      "7/7 [==============================] - 2s 345ms/step - loss: 19342.1062 - rmse: 104.3317 - val_loss: 194867.5757 - val_rmse: 367.8905\n",
      "Epoch 277/500\n",
      "7/7 [==============================] - 3s 365ms/step - loss: 16791.3557 - rmse: 102.7258 - val_loss: 160981.5781 - val_rmse: 323.0260\n",
      "Epoch 278/500\n",
      "7/7 [==============================] - 3s 370ms/step - loss: 20462.5840 - rmse: 104.5658 - val_loss: 215007.6683 - val_rmse: 380.6279\n",
      "Epoch 279/500\n",
      "7/7 [==============================] - 2s 331ms/step - loss: 20614.8387 - rmse: 107.0322 - val_loss: 195296.2440 - val_rmse: 350.1339\n",
      "Epoch 280/500\n",
      "7/7 [==============================] - 2s 350ms/step - loss: 23191.4115 - rmse: 112.8387 - val_loss: 206689.4844 - val_rmse: 370.2376\n",
      "Epoch 281/500\n",
      "7/7 [==============================] - 2s 356ms/step - loss: 15954.5821 - rmse: 100.1918 - val_loss: 134788.2103 - val_rmse: 290.6112\n",
      "Epoch 282/500\n",
      "7/7 [==============================] - 2s 347ms/step - loss: 18173.3640 - rmse: 104.5085 - val_loss: 235010.9603 - val_rmse: 404.2042\n",
      "Epoch 283/500\n",
      "7/7 [==============================] - 3s 383ms/step - loss: 16846.3864 - rmse: 100.9748 - val_loss: 205053.3047 - val_rmse: 362.7430\n",
      "Epoch 284/500\n",
      "7/7 [==============================] - 2s 343ms/step - loss: 19910.1066 - rmse: 105.9931 - val_loss: 146699.3462 - val_rmse: 324.7094\n",
      "Epoch 285/500\n",
      "7/7 [==============================] - 2s 354ms/step - loss: 19826.1595 - rmse: 110.0517 - val_loss: 207289.6418 - val_rmse: 365.1570\n",
      "Epoch 286/500\n",
      "7/7 [==============================] - 2s 316ms/step - loss: 18678.7240 - rmse: 106.5740 - val_loss: 189121.8516 - val_rmse: 350.6879\n",
      "Epoch 287/500\n",
      "7/7 [==============================] - 2s 326ms/step - loss: 17439.2458 - rmse: 105.0012 - val_loss: 198595.4832 - val_rmse: 374.2229\n",
      "Epoch 288/500\n",
      "7/7 [==============================] - 2s 304ms/step - loss: 19568.4133 - rmse: 103.8291 - val_loss: 150860.5036 - val_rmse: 303.4133\n",
      "Epoch 289/500\n",
      "7/7 [==============================] - 2s 345ms/step - loss: 17023.2056 - rmse: 96.4535 - val_loss: 196016.0547 - val_rmse: 367.6548\n",
      "Epoch 290/500\n",
      "7/7 [==============================] - 2s 342ms/step - loss: 15211.7942 - rmse: 94.0107 - val_loss: 135327.2380 - val_rmse: 285.3383\n",
      "Epoch 291/500\n",
      "7/7 [==============================] - 2s 307ms/step - loss: 18774.6882 - rmse: 102.3243 - val_loss: 206627.1851 - val_rmse: 364.4595\n",
      "Epoch 292/500\n",
      "7/7 [==============================] - 2s 299ms/step - loss: 17798.0780 - rmse: 105.1179 - val_loss: 190061.0195 - val_rmse: 356.5528\n",
      "Epoch 293/500\n",
      "7/7 [==============================] - 2s 325ms/step - loss: 18606.6740 - rmse: 104.3819 - val_loss: 198056.8570 - val_rmse: 359.6184\n",
      "Epoch 294/500\n",
      "7/7 [==============================] - 2s 347ms/step - loss: 17497.2131 - rmse: 98.4712 - val_loss: 163518.7668 - val_rmse: 319.8008\n",
      "Epoch 295/500\n",
      "7/7 [==============================] - 3s 392ms/step - loss: 16811.0963 - rmse: 97.7683 - val_loss: 173330.5625 - val_rmse: 332.0095\n",
      "Epoch 296/500\n",
      "7/7 [==============================] - 2s 335ms/step - loss: 16236.0883 - rmse: 95.4454 - val_loss: 226836.0577 - val_rmse: 403.5647\n",
      "Epoch 297/500\n",
      "7/7 [==============================] - 2s 340ms/step - loss: 18485.9853 - rmse: 105.9890 - val_loss: 153738.6707 - val_rmse: 314.3672\n",
      "Epoch 298/500\n",
      "7/7 [==============================] - 3s 372ms/step - loss: 15278.9055 - rmse: 94.6120 - val_loss: 169587.6211 - val_rmse: 339.0052\n",
      "Epoch 299/500\n",
      "7/7 [==============================] - 2s 311ms/step - loss: 20134.3044 - rmse: 108.7973 - val_loss: 150179.7825 - val_rmse: 290.8736\n",
      "Epoch 300/500\n",
      "7/7 [==============================] - 2s 332ms/step - loss: 19784.8225 - rmse: 110.3258 - val_loss: 237242.9471 - val_rmse: 417.6285\n",
      "Epoch 301/500\n",
      "7/7 [==============================] - 2s 326ms/step - loss: 18687.9138 - rmse: 103.5746 - val_loss: 164829.6797 - val_rmse: 319.0724\n",
      "Epoch 302/500\n",
      "7/7 [==============================] - 2s 311ms/step - loss: 16053.9434 - rmse: 103.2691 - val_loss: 179720.7476 - val_rmse: 351.5531\n",
      "Epoch 303/500\n",
      "7/7 [==============================] - 2s 334ms/step - loss: 16381.1124 - rmse: 94.8238 - val_loss: 205283.1226 - val_rmse: 366.1891\n",
      "Epoch 304/500\n",
      "7/7 [==============================] - 2s 351ms/step - loss: 17086.6368 - rmse: 98.4825 - val_loss: 218783.7812 - val_rmse: 383.4411\n",
      "Epoch 305/500\n",
      "7/7 [==============================] - 2s 324ms/step - loss: 18562.6637 - rmse: 102.0149 - val_loss: 150130.0781 - val_rmse: 302.2509\n",
      "Epoch 306/500\n",
      "7/7 [==============================] - 2s 316ms/step - loss: 16526.2716 - rmse: 99.0845 - val_loss: 212223.0733 - val_rmse: 379.6308\n",
      "Epoch 307/500\n",
      "7/7 [==============================] - 2s 347ms/step - loss: 15468.8041 - rmse: 97.1748 - val_loss: 173653.8359 - val_rmse: 330.5165\n",
      "Epoch 308/500\n",
      "7/7 [==============================] - 2s 341ms/step - loss: 15123.5203 - rmse: 97.5503 - val_loss: 190321.5168 - val_rmse: 363.7377\n",
      "Epoch 309/500\n",
      "7/7 [==============================] - 2s 344ms/step - loss: 16019.2198 - rmse: 94.6843 - val_loss: 211813.9339 - val_rmse: 364.3357\n",
      "Epoch 310/500\n",
      "7/7 [==============================] - 2s 336ms/step - loss: 14768.9743 - rmse: 92.0228 - val_loss: 195853.0234 - val_rmse: 354.6996\n",
      "Epoch 311/500\n",
      "7/7 [==============================] - 2s 310ms/step - loss: 14753.3549 - rmse: 92.8954 - val_loss: 161572.8870 - val_rmse: 331.2131\n",
      "Epoch 312/500\n",
      "7/7 [==============================] - 2s 312ms/step - loss: 14783.5365 - rmse: 93.9565 - val_loss: 214186.8702 - val_rmse: 373.9132\n",
      "Epoch 313/500\n",
      "7/7 [==============================] - 2s 289ms/step - loss: 17819.9893 - rmse: 102.2827 - val_loss: 203485.8594 - val_rmse: 366.6517\n",
      "Epoch 314/500\n",
      "7/7 [==============================] - 2s 300ms/step - loss: 17064.5758 - rmse: 100.1019 - val_loss: 182052.7716 - val_rmse: 330.6899\n",
      "Epoch 315/500\n",
      "7/7 [==============================] - 3s 374ms/step - loss: 17396.4844 - rmse: 99.7248 - val_loss: 211532.7837 - val_rmse: 393.9983\n",
      "Epoch 316/500\n",
      "7/7 [==============================] - 2s 315ms/step - loss: 19173.7163 - rmse: 105.4170 - val_loss: 196648.4453 - val_rmse: 349.7103\n",
      "Epoch 317/500\n",
      "7/7 [==============================] - 2s 345ms/step - loss: 15973.5736 - rmse: 96.9515 - val_loss: 204214.9111 - val_rmse: 370.5537\n",
      "Epoch 318/500\n",
      "7/7 [==============================] - 2s 322ms/step - loss: 16531.0217 - rmse: 100.1787 - val_loss: 179305.5144 - val_rmse: 332.1663\n",
      "Epoch 319/500\n",
      "7/7 [==============================] - 2s 347ms/step - loss: 15325.0918 - rmse: 96.6148 - val_loss: 181969.5859 - val_rmse: 345.0881\n",
      "Epoch 320/500\n",
      "7/7 [==============================] - 3s 377ms/step - loss: 17663.4656 - rmse: 103.1860 - val_loss: 203171.7296 - val_rmse: 358.3166\n",
      "Epoch 321/500\n",
      "7/7 [==============================] - 2s 352ms/step - loss: 14388.8127 - rmse: 93.0906 - val_loss: 202645.5180 - val_rmse: 369.4260\n",
      "Epoch 322/500\n",
      "7/7 [==============================] - 2s 348ms/step - loss: 13715.7631 - rmse: 89.8205 - val_loss: 197737.0703 - val_rmse: 362.7540\n",
      "Epoch 323/500\n",
      "7/7 [==============================] - 3s 391ms/step - loss: 13802.6215 - rmse: 92.0429 - val_loss: 192000.2764 - val_rmse: 353.2806\n",
      "Epoch 324/500\n",
      "7/7 [==============================] - 2s 338ms/step - loss: 13902.1769 - rmse: 89.8893 - val_loss: 169019.2716 - val_rmse: 331.2132\n",
      "Epoch 325/500\n",
      "7/7 [==============================] - 2s 353ms/step - loss: 13607.9788 - rmse: 91.6333 - val_loss: 207875.3203 - val_rmse: 367.2565\n",
      "Epoch 326/500\n",
      "7/7 [==============================] - 2s 326ms/step - loss: 11903.2296 - rmse: 84.7451 - val_loss: 200642.1238 - val_rmse: 357.6951\n",
      "Epoch 327/500\n",
      "7/7 [==============================] - 2s 351ms/step - loss: 15834.8952 - rmse: 94.3162 - val_loss: 167087.2428 - val_rmse: 331.4512\n",
      "Epoch 328/500\n",
      "7/7 [==============================] - 2s 333ms/step - loss: 15858.6537 - rmse: 96.8876 - val_loss: 166537.6875 - val_rmse: 326.1967\n",
      "Epoch 329/500\n",
      "7/7 [==============================] - 2s 345ms/step - loss: 12863.9237 - rmse: 89.0818 - val_loss: 198249.8438 - val_rmse: 362.8227\n",
      "Epoch 330/500\n",
      "7/7 [==============================] - 2s 325ms/step - loss: 15373.5522 - rmse: 93.9849 - val_loss: 205571.0769 - val_rmse: 363.5987\n",
      "Epoch 331/500\n",
      "7/7 [==============================] - 3s 371ms/step - loss: 14574.1330 - rmse: 93.6405 - val_loss: 201746.9141 - val_rmse: 360.1770\n",
      "Epoch 332/500\n",
      "7/7 [==============================] - 2s 344ms/step - loss: 12384.1278 - rmse: 84.1686 - val_loss: 204312.6959 - val_rmse: 358.3669\n",
      "Epoch 333/500\n",
      "7/7 [==============================] - 3s 372ms/step - loss: 13019.3843 - rmse: 86.2790 - val_loss: 156674.7656 - val_rmse: 318.7431\n"
     ]
    },
    {
     "name": "stdout",
     "output_type": "stream",
     "text": [
      "Epoch 334/500\n",
      "7/7 [==============================] - 3s 366ms/step - loss: 11932.6794 - rmse: 84.1484 - val_loss: 193287.5156 - val_rmse: 362.6814\n",
      "Epoch 335/500\n",
      "7/7 [==============================] - 2s 352ms/step - loss: 13505.1068 - rmse: 83.4590 - val_loss: 229675.9928 - val_rmse: 383.1266\n",
      "Epoch 336/500\n",
      "7/7 [==============================] - 3s 384ms/step - loss: 12801.2946 - rmse: 89.3904 - val_loss: 154725.0373 - val_rmse: 315.2130\n",
      "Epoch 337/500\n",
      "7/7 [==============================] - 2s 351ms/step - loss: 14811.2353 - rmse: 94.2439 - val_loss: 192220.9219 - val_rmse: 349.3060\n",
      "Epoch 338/500\n",
      "7/7 [==============================] - 2s 301ms/step - loss: 12429.2189 - rmse: 85.1888 - val_loss: 217267.1587 - val_rmse: 381.9220\n",
      "Epoch 339/500\n",
      "7/7 [==============================] - 2s 349ms/step - loss: 11725.3668 - rmse: 80.3249 - val_loss: 164489.7716 - val_rmse: 320.8774\n",
      "Epoch 340/500\n",
      "7/7 [==============================] - 2s 321ms/step - loss: 11347.5665 - rmse: 85.0792 - val_loss: 179024.1406 - val_rmse: 333.7147\n",
      "Epoch 341/500\n",
      "7/7 [==============================] - 2s 347ms/step - loss: 10652.1903 - rmse: 79.8055 - val_loss: 218509.8558 - val_rmse: 391.8016\n",
      "Epoch 342/500\n",
      "7/7 [==============================] - 2s 301ms/step - loss: 11028.4945 - rmse: 82.4428 - val_loss: 179278.9267 - val_rmse: 329.4182\n",
      "Epoch 343/500\n",
      "7/7 [==============================] - 3s 363ms/step - loss: 13223.2374 - rmse: 83.9004 - val_loss: 168096.0781 - val_rmse: 329.3436\n",
      "Epoch 344/500\n",
      "7/7 [==============================] - 2s 333ms/step - loss: 11150.3928 - rmse: 80.4154 - val_loss: 206877.0361 - val_rmse: 358.4823\n",
      "Epoch 345/500\n",
      "7/7 [==============================] - 2s 316ms/step - loss: 10486.1249 - rmse: 79.8398 - val_loss: 177930.8353 - val_rmse: 342.6137\n",
      "Epoch 346/500\n",
      "7/7 [==============================] - 2s 349ms/step - loss: 13987.0955 - rmse: 89.8002 - val_loss: 196848.7344 - val_rmse: 359.7218\n",
      "Epoch 347/500\n",
      "7/7 [==============================] - 2s 314ms/step - loss: 12852.6374 - rmse: 86.7894 - val_loss: 218612.8846 - val_rmse: 373.9658\n",
      "Epoch 348/500\n",
      "7/7 [==============================] - 2s 316ms/step - loss: 12974.7650 - rmse: 88.0000 - val_loss: 159948.3738 - val_rmse: 316.1918\n",
      "Epoch 349/500\n",
      "7/7 [==============================] - 2s 322ms/step - loss: 11914.6502 - rmse: 84.1557 - val_loss: 202525.6562 - val_rmse: 360.6897\n",
      "Epoch 350/500\n",
      "7/7 [==============================] - 2s 310ms/step - loss: 11418.3477 - rmse: 80.6318 - val_loss: 196334.3293 - val_rmse: 358.2625\n",
      "Epoch 351/500\n",
      "7/7 [==============================] - 2s 338ms/step - loss: 9644.5991 - rmse: 75.4658 - val_loss: 181014.6587 - val_rmse: 346.2922\n",
      "Epoch 352/500\n",
      "7/7 [==============================] - 3s 374ms/step - loss: 12363.2127 - rmse: 83.5772 - val_loss: 168771.5703 - val_rmse: 318.7888\n",
      "Epoch 353/500\n",
      "7/7 [==============================] - 2s 336ms/step - loss: 11253.9481 - rmse: 81.5950 - val_loss: 192447.7704 - val_rmse: 352.9971\n",
      "Epoch 354/500\n",
      "7/7 [==============================] - 3s 385ms/step - loss: 10433.9998 - rmse: 77.8867 - val_loss: 205554.7308 - val_rmse: 374.9114\n",
      "Epoch 355/500\n",
      "7/7 [==============================] - 3s 382ms/step - loss: 10362.8945 - rmse: 76.7400 - val_loss: 215443.1328 - val_rmse: 381.4604\n",
      "Epoch 356/500\n",
      "7/7 [==============================] - 2s 330ms/step - loss: 12196.4598 - rmse: 82.7304 - val_loss: 193026.3486 - val_rmse: 341.0874\n",
      "Epoch 357/500\n",
      "7/7 [==============================] - 2s 310ms/step - loss: 9991.2448 - rmse: 77.6884 - val_loss: 169918.2428 - val_rmse: 338.4115\n",
      "Epoch 358/500\n",
      "7/7 [==============================] - 2s 346ms/step - loss: 9789.3959 - rmse: 75.4180 - val_loss: 186148.2812 - val_rmse: 337.6161\n",
      "Epoch 359/500\n",
      "7/7 [==============================] - 2s 318ms/step - loss: 8873.8698 - rmse: 73.2852 - val_loss: 136033.3486 - val_rmse: 297.0881\n",
      "Epoch 360/500\n",
      "7/7 [==============================] - 2s 328ms/step - loss: 10998.0371 - rmse: 81.4960 - val_loss: 274731.7332 - val_rmse: 443.6980\n",
      "Epoch 361/500\n",
      "7/7 [==============================] - 3s 358ms/step - loss: 11808.5770 - rmse: 84.8157 - val_loss: 192953.4141 - val_rmse: 347.4948\n",
      "Epoch 362/500\n",
      "7/7 [==============================] - 2s 326ms/step - loss: 11167.6303 - rmse: 80.7801 - val_loss: 221652.4062 - val_rmse: 400.9454\n",
      "Epoch 363/500\n",
      "7/7 [==============================] - 2s 274ms/step - loss: 11778.5134 - rmse: 81.2497 - val_loss: 155769.2933 - val_rmse: 303.1551\n",
      "Epoch 364/500\n",
      "7/7 [==============================] - 2s 321ms/step - loss: 10858.5823 - rmse: 79.5631 - val_loss: 207813.1797 - val_rmse: 370.2920\n",
      "Epoch 365/500\n",
      "7/7 [==============================] - 2s 341ms/step - loss: 9805.2597 - rmse: 76.5878 - val_loss: 200194.8534 - val_rmse: 349.9509\n",
      "Epoch 366/500\n",
      "7/7 [==============================] - 2s 356ms/step - loss: 11913.4879 - rmse: 83.0951 - val_loss: 185119.4844 - val_rmse: 358.3584\n",
      "Epoch 367/500\n",
      "7/7 [==============================] - 2s 315ms/step - loss: 10690.4015 - rmse: 76.6900 - val_loss: 220053.0234 - val_rmse: 372.7726\n",
      "Epoch 368/500\n",
      "7/7 [==============================] - 2s 333ms/step - loss: 12649.5993 - rmse: 85.4830 - val_loss: 139912.5048 - val_rmse: 296.0898\n",
      "Epoch 369/500\n",
      "7/7 [==============================] - 2s 325ms/step - loss: 11258.6633 - rmse: 80.8962 - val_loss: 217847.8281 - val_rmse: 390.9183\n",
      "Epoch 370/500\n",
      "7/7 [==============================] - 2s 339ms/step - loss: 12187.5027 - rmse: 85.1578 - val_loss: 161776.6602 - val_rmse: 311.8419\n",
      "Epoch 371/500\n",
      "7/7 [==============================] - 2s 354ms/step - loss: 12810.4753 - rmse: 87.3574 - val_loss: 197265.4832 - val_rmse: 361.8844\n",
      "Epoch 372/500\n",
      "7/7 [==============================] - 2s 337ms/step - loss: 12377.4016 - rmse: 83.8420 - val_loss: 201138.5793 - val_rmse: 366.2490\n",
      "Epoch 373/500\n",
      "7/7 [==============================] - 2s 319ms/step - loss: 8305.7279 - rmse: 72.7177 - val_loss: 177727.6797 - val_rmse: 332.4161\n",
      "Epoch 374/500\n",
      "7/7 [==============================] - 2s 343ms/step - loss: 9848.9718 - rmse: 75.9684 - val_loss: 234535.0240 - val_rmse: 397.0068\n",
      "Epoch 375/500\n",
      "7/7 [==============================] - 2s 336ms/step - loss: 10836.1272 - rmse: 78.4614 - val_loss: 193944.8582 - val_rmse: 356.1971\n",
      "Epoch 376/500\n",
      "7/7 [==============================] - 3s 368ms/step - loss: 9208.8150 - rmse: 73.9498 - val_loss: 198253.6328 - val_rmse: 351.7664\n",
      "Epoch 377/500\n",
      "7/7 [==============================] - 2s 340ms/step - loss: 10360.2703 - rmse: 76.8205 - val_loss: 210127.4423 - val_rmse: 382.7786\n",
      "Epoch 378/500\n",
      "7/7 [==============================] - 2s 327ms/step - loss: 12498.2428 - rmse: 86.4145 - val_loss: 169843.7704 - val_rmse: 319.4760\n",
      "Epoch 379/500\n",
      "7/7 [==============================] - 2s 337ms/step - loss: 10631.3535 - rmse: 77.6821 - val_loss: 199657.1406 - val_rmse: 368.1028\n",
      "Epoch 380/500\n",
      "7/7 [==============================] - 2s 321ms/step - loss: 11385.1852 - rmse: 81.9144 - val_loss: 199846.3774 - val_rmse: 344.4826\n",
      "Epoch 381/500\n",
      "7/7 [==============================] - 2s 340ms/step - loss: 11009.6161 - rmse: 79.2195 - val_loss: 203397.5877 - val_rmse: 371.6330\n",
      "Epoch 382/500\n",
      "7/7 [==============================] - 2s 348ms/step - loss: 11540.2359 - rmse: 81.5725 - val_loss: 193603.7578 - val_rmse: 344.3979\n",
      "Epoch 383/500\n",
      "7/7 [==============================] - 2s 329ms/step - loss: 10798.4903 - rmse: 79.7296 - val_loss: 216530.9231 - val_rmse: 388.0792\n",
      "Epoch 384/500\n",
      "7/7 [==============================] - 2s 344ms/step - loss: 9525.3453 - rmse: 71.0879 - val_loss: 190836.1923 - val_rmse: 345.7931\n",
      "Epoch 385/500\n",
      "7/7 [==============================] - 3s 364ms/step - loss: 10507.1618 - rmse: 80.6027 - val_loss: 182160.8672 - val_rmse: 346.9257\n",
      "Epoch 386/500\n",
      "7/7 [==============================] - 2s 297ms/step - loss: 11105.0794 - rmse: 76.6113 - val_loss: 210494.0745 - val_rmse: 370.4371\n",
      "Epoch 387/500\n",
      "7/7 [==============================] - 2s 348ms/step - loss: 10468.0480 - rmse: 75.5638 - val_loss: 171044.0877 - val_rmse: 322.2909\n",
      "Epoch 388/500\n",
      "7/7 [==============================] - 2s 312ms/step - loss: 8384.8843 - rmse: 69.3892 - val_loss: 195996.4062 - val_rmse: 365.9422\n",
      "Epoch 389/500\n",
      "7/7 [==============================] - 2s 330ms/step - loss: 9184.5802 - rmse: 73.2146 - val_loss: 169219.5962 - val_rmse: 331.4836\n"
     ]
    },
    {
     "name": "stdout",
     "output_type": "stream",
     "text": [
      "Epoch 390/500\n",
      "7/7 [==============================] - 2s 322ms/step - loss: 9295.0884 - rmse: 75.8247 - val_loss: 222316.0300 - val_rmse: 374.8448\n",
      "Epoch 391/500\n",
      "7/7 [==============================] - 2s 330ms/step - loss: 8523.1118 - rmse: 70.1647 - val_loss: 195781.1797 - val_rmse: 359.3745\n",
      "Epoch 392/500\n",
      "7/7 [==============================] - 2s 330ms/step - loss: 9118.0911 - rmse: 72.7650 - val_loss: 176744.3966 - val_rmse: 344.5814\n",
      "Epoch 393/500\n",
      "7/7 [==============================] - 2s 340ms/step - loss: 9398.9960 - rmse: 74.2020 - val_loss: 212164.0793 - val_rmse: 362.2757\n",
      "Epoch 394/500\n",
      "7/7 [==============================] - 2s 346ms/step - loss: 8944.5176 - rmse: 70.6491 - val_loss: 205329.4219 - val_rmse: 366.0129\n",
      "Epoch 395/500\n",
      "7/7 [==============================] - 3s 360ms/step - loss: 12418.2652 - rmse: 87.4024 - val_loss: 166917.5457 - val_rmse: 326.2102\n",
      "Epoch 396/500\n",
      "7/7 [==============================] - 2s 332ms/step - loss: 11070.3175 - rmse: 80.3824 - val_loss: 212564.5120 - val_rmse: 376.1063\n",
      "Epoch 397/500\n",
      "7/7 [==============================] - 3s 392ms/step - loss: 10339.5069 - rmse: 79.7391 - val_loss: 192750.7891 - val_rmse: 357.8225\n",
      "Epoch 398/500\n",
      "7/7 [==============================] - 3s 358ms/step - loss: 11394.0357 - rmse: 80.6611 - val_loss: 228997.8654 - val_rmse: 379.2273\n",
      "Epoch 399/500\n",
      "7/7 [==============================] - 2s 329ms/step - loss: 10398.2226 - rmse: 81.4072 - val_loss: 163964.9291 - val_rmse: 324.9149\n",
      "Epoch 400/500\n",
      "7/7 [==============================] - 2s 306ms/step - loss: 8633.7978 - rmse: 70.7854 - val_loss: 178782.1719 - val_rmse: 341.6242\n",
      "Epoch 401/500\n",
      "7/7 [==============================] - 2s 314ms/step - loss: 9727.1377 - rmse: 74.2496 - val_loss: 200662.6635 - val_rmse: 353.1804\n",
      "Epoch 402/500\n",
      "7/7 [==============================] - 3s 369ms/step - loss: 8103.6295 - rmse: 64.8814 - val_loss: 197109.3474 - val_rmse: 354.1571\n",
      "Epoch 403/500\n",
      "7/7 [==============================] - 2s 296ms/step - loss: 10054.0169 - rmse: 75.1472 - val_loss: 214680.1172 - val_rmse: 376.5507\n",
      "Epoch 404/500\n",
      "7/7 [==============================] - 2s 304ms/step - loss: 11212.3101 - rmse: 79.9211 - val_loss: 161938.9712 - val_rmse: 325.3263\n",
      "Epoch 405/500\n",
      "7/7 [==============================] - 2s 315ms/step - loss: 9798.2474 - rmse: 72.4199 - val_loss: 215897.0697 - val_rmse: 367.0781\n",
      "Epoch 406/500\n",
      "7/7 [==============================] - 3s 357ms/step - loss: 8365.4083 - rmse: 68.5921 - val_loss: 167033.0859 - val_rmse: 329.4250\n",
      "Epoch 407/500\n",
      "7/7 [==============================] - 2s 343ms/step - loss: 9662.9887 - rmse: 75.1763 - val_loss: 237511.3870 - val_rmse: 406.8671\n",
      "Epoch 408/500\n",
      "7/7 [==============================] - 2s 357ms/step - loss: 8740.7948 - rmse: 71.3090 - val_loss: 179353.8486 - val_rmse: 326.9292\n",
      "Epoch 409/500\n",
      "7/7 [==============================] - 3s 441ms/step - loss: 10425.8144 - rmse: 80.3629 - val_loss: 168408.1328 - val_rmse: 334.4006\n",
      "Epoch 410/500\n",
      "7/7 [==============================] - 2s 340ms/step - loss: 10811.3371 - rmse: 79.1384 - val_loss: 255414.5721 - val_rmse: 415.5578\n",
      "Epoch 411/500\n",
      "7/7 [==============================] - 2s 333ms/step - loss: 9958.5970 - rmse: 75.4518 - val_loss: 155918.7488 - val_rmse: 311.3767\n",
      "Epoch 412/500\n",
      "7/7 [==============================] - 3s 368ms/step - loss: 7686.4778 - rmse: 68.4608 - val_loss: 206483.1406 - val_rmse: 363.5705\n",
      "Epoch 413/500\n",
      "7/7 [==============================] - 2s 311ms/step - loss: 7454.7089 - rmse: 64.6916 - val_loss: 189920.6358 - val_rmse: 343.2228\n",
      "Epoch 414/500\n",
      "7/7 [==============================] - 2s 339ms/step - loss: 9570.4209 - rmse: 76.1390 - val_loss: 177966.5889 - val_rmse: 342.5585\n",
      "Epoch 415/500\n",
      "7/7 [==============================] - 2s 337ms/step - loss: 8484.8100 - rmse: 68.7815 - val_loss: 176033.2500 - val_rmse: 329.3780\n",
      "Epoch 416/500\n",
      "7/7 [==============================] - 2s 313ms/step - loss: 8445.9508 - rmse: 71.8734 - val_loss: 191681.4519 - val_rmse: 350.3035\n",
      "Epoch 417/500\n",
      "7/7 [==============================] - 2s 350ms/step - loss: 8235.3353 - rmse: 65.7803 - val_loss: 200389.6226 - val_rmse: 363.1375\n",
      "Epoch 418/500\n",
      "7/7 [==============================] - 3s 379ms/step - loss: 10093.0885 - rmse: 76.6186 - val_loss: 172985.8672 - val_rmse: 338.6264\n",
      "Epoch 419/500\n",
      "7/7 [==============================] - 2s 349ms/step - loss: 9448.7575 - rmse: 72.8393 - val_loss: 210716.0000 - val_rmse: 365.7783\n",
      "Epoch 420/500\n",
      "7/7 [==============================] - 3s 402ms/step - loss: 8676.3574 - rmse: 69.6329 - val_loss: 199373.9615 - val_rmse: 368.7833\n",
      "Epoch 421/500\n",
      "7/7 [==============================] - 3s 476ms/step - loss: 9162.5530 - rmse: 68.4662 - val_loss: 202444.4922 - val_rmse: 363.5574\n",
      "Epoch 422/500\n",
      "7/7 [==============================] - 3s 378ms/step - loss: 10158.1455 - rmse: 75.4581 - val_loss: 175361.9267 - val_rmse: 322.3605\n",
      "Epoch 423/500\n",
      "7/7 [==============================] - 2s 344ms/step - loss: 8059.5315 - rmse: 67.3313 - val_loss: 196167.4880 - val_rmse: 373.8657\n",
      "Epoch 424/500\n",
      "7/7 [==============================] - 3s 376ms/step - loss: 9757.8823 - rmse: 77.3608 - val_loss: 196855.0625 - val_rmse: 359.3915\n",
      "Epoch 425/500\n",
      "7/7 [==============================] - 3s 364ms/step - loss: 11095.8443 - rmse: 78.5033 - val_loss: 172247.9050 - val_rmse: 334.2476\n",
      "Epoch 426/500\n",
      "7/7 [==============================] - 2s 339ms/step - loss: 8470.6073 - rmse: 69.0804 - val_loss: 202376.3053 - val_rmse: 348.9982\n",
      "Epoch 427/500\n",
      "7/7 [==============================] - 2s 330ms/step - loss: 8007.8523 - rmse: 68.1788 - val_loss: 208294.8281 - val_rmse: 374.2215\n",
      "Epoch 428/500\n",
      "7/7 [==============================] - 2s 325ms/step - loss: 7645.2016 - rmse: 64.8105 - val_loss: 213249.8474 - val_rmse: 380.2226\n",
      "Epoch 429/500\n",
      "7/7 [==============================] - 2s 351ms/step - loss: 10693.8742 - rmse: 77.8507 - val_loss: 175997.5024 - val_rmse: 331.0026\n",
      "Epoch 430/500\n",
      "7/7 [==============================] - 2s 322ms/step - loss: 8699.7854 - rmse: 72.1996 - val_loss: 175735.9219 - val_rmse: 332.8169\n",
      "Epoch 431/500\n",
      "7/7 [==============================] - 2s 303ms/step - loss: 7233.7202 - rmse: 64.5960 - val_loss: 223701.3918 - val_rmse: 385.6265\n",
      "Epoch 432/500\n",
      "7/7 [==============================] - 2s 343ms/step - loss: 7635.7503 - rmse: 65.9187 - val_loss: 169514.5739 - val_rmse: 329.8590\n",
      "Epoch 433/500\n",
      "7/7 [==============================] - 3s 368ms/step - loss: 8475.9634 - rmse: 69.7701 - val_loss: 195606.8984 - val_rmse: 349.8071\n",
      "Epoch 434/500\n",
      "7/7 [==============================] - 2s 334ms/step - loss: 10389.2569 - rmse: 78.7762 - val_loss: 181937.6659 - val_rmse: 345.3364\n",
      "Epoch 435/500\n",
      "7/7 [==============================] - 2s 323ms/step - loss: 7027.9432 - rmse: 65.5784 - val_loss: 192759.4543 - val_rmse: 352.2244\n",
      "Epoch 436/500\n",
      "7/7 [==============================] - 2s 345ms/step - loss: 10294.5011 - rmse: 75.8200 - val_loss: 185049.7734 - val_rmse: 342.4184\n",
      "Epoch 437/500\n",
      "7/7 [==============================] - 2s 347ms/step - loss: 8154.0022 - rmse: 67.8820 - val_loss: 173000.2596 - val_rmse: 339.6336\n",
      "Epoch 438/500\n",
      "7/7 [==============================] - 2s 307ms/step - loss: 8605.0606 - rmse: 70.7973 - val_loss: 198200.9339 - val_rmse: 345.6399\n",
      "Epoch 439/500\n",
      "7/7 [==============================] - 2s 340ms/step - loss: 11843.6918 - rmse: 80.8607 - val_loss: 183145.4531 - val_rmse: 337.7377\n",
      "Epoch 440/500\n",
      "7/7 [==============================] - 3s 368ms/step - loss: 8309.9291 - rmse: 68.0004 - val_loss: 214092.3486 - val_rmse: 367.5854\n",
      "Epoch 441/500\n",
      "7/7 [==============================] - 2s 305ms/step - loss: 8276.4527 - rmse: 69.5095 - val_loss: 158936.2272 - val_rmse: 317.1236\n",
      "Epoch 442/500\n",
      "7/7 [==============================] - 2s 341ms/step - loss: 6563.4951 - rmse: 61.3345 - val_loss: 195925.4375 - val_rmse: 353.1133\n",
      "Epoch 443/500\n",
      "7/7 [==============================] - 2s 323ms/step - loss: 7745.2713 - rmse: 66.8099 - val_loss: 206104.0565 - val_rmse: 374.7111\n",
      "Epoch 444/500\n",
      "7/7 [==============================] - 2s 322ms/step - loss: 11000.1473 - rmse: 79.0888 - val_loss: 148200.0156 - val_rmse: 295.3483\n",
      "Epoch 445/500\n",
      "7/7 [==============================] - 2s 321ms/step - loss: 9131.3653 - rmse: 72.6761 - val_loss: 205396.8281 - val_rmse: 380.4658\n"
     ]
    },
    {
     "name": "stdout",
     "output_type": "stream",
     "text": [
      "Epoch 446/500\n",
      "7/7 [==============================] - 2s 312ms/step - loss: 9621.6664 - rmse: 71.1849 - val_loss: 184311.9880 - val_rmse: 329.4798\n",
      "Epoch 447/500\n",
      "7/7 [==============================] - 2s 335ms/step - loss: 8378.5539 - rmse: 68.1648 - val_loss: 181129.7981 - val_rmse: 350.8078\n",
      "Epoch 448/500\n",
      "7/7 [==============================] - 2s 356ms/step - loss: 7215.1691 - rmse: 63.0352 - val_loss: 175679.1406 - val_rmse: 335.6948\n",
      "Epoch 449/500\n",
      "7/7 [==============================] - 2s 316ms/step - loss: 7377.6374 - rmse: 66.0428 - val_loss: 160369.7380 - val_rmse: 310.4855\n",
      "Epoch 450/500\n",
      "7/7 [==============================] - 2s 341ms/step - loss: 8970.3904 - rmse: 68.3970 - val_loss: 227711.3221 - val_rmse: 386.4961\n",
      "Epoch 451/500\n",
      "7/7 [==============================] - 2s 330ms/step - loss: 6717.7273 - rmse: 62.1592 - val_loss: 172655.1953 - val_rmse: 329.0453\n",
      "Epoch 452/500\n",
      "7/7 [==============================] - 2s 351ms/step - loss: 10008.0943 - rmse: 73.6540 - val_loss: 207831.7909 - val_rmse: 371.6458\n",
      "Epoch 453/500\n",
      "7/7 [==============================] - 2s 357ms/step - loss: 7652.0555 - rmse: 66.7923 - val_loss: 176293.4279 - val_rmse: 322.6266\n",
      "Epoch 454/500\n",
      "7/7 [==============================] - 2s 317ms/step - loss: 9166.8444 - rmse: 74.3863 - val_loss: 192128.8438 - val_rmse: 351.0697\n",
      "Epoch 455/500\n",
      "7/7 [==============================] - 2s 341ms/step - loss: 8613.8991 - rmse: 70.9592 - val_loss: 206958.7897 - val_rmse: 365.1696\n",
      "Epoch 456/500\n",
      "7/7 [==============================] - 2s 307ms/step - loss: 6739.5129 - rmse: 62.4161 - val_loss: 161997.6995 - val_rmse: 318.3245\n",
      "Epoch 457/500\n",
      "7/7 [==============================] - 2s 328ms/step - loss: 7253.5799 - rmse: 63.1159 - val_loss: 212186.8750 - val_rmse: 374.4703\n",
      "Epoch 458/500\n",
      "7/7 [==============================] - 2s 321ms/step - loss: 7242.9924 - rmse: 63.4610 - val_loss: 142128.1707 - val_rmse: 292.1078\n",
      "Epoch 459/500\n",
      "7/7 [==============================] - 2s 350ms/step - loss: 7919.5562 - rmse: 67.5371 - val_loss: 222311.9231 - val_rmse: 384.1373\n",
      "Epoch 460/500\n",
      "7/7 [==============================] - 3s 368ms/step - loss: 7084.2848 - rmse: 63.5841 - val_loss: 186349.7422 - val_rmse: 342.8244\n",
      "Epoch 461/500\n",
      "7/7 [==============================] - 2s 335ms/step - loss: 8853.2069 - rmse: 72.8062 - val_loss: 179329.6274 - val_rmse: 329.1159\n",
      "Epoch 462/500\n",
      "7/7 [==============================] - 2s 321ms/step - loss: 6973.4451 - rmse: 61.4329 - val_loss: 199219.3173 - val_rmse: 362.3653\n",
      "Epoch 463/500\n",
      "7/7 [==============================] - 2s 325ms/step - loss: 7023.2908 - rmse: 63.1921 - val_loss: 172049.8789 - val_rmse: 330.6673\n",
      "Epoch 464/500\n",
      "7/7 [==============================] - 2s 302ms/step - loss: 7196.3059 - rmse: 66.5114 - val_loss: 196033.9123 - val_rmse: 354.4719\n",
      "Epoch 465/500\n",
      "7/7 [==============================] - 2s 345ms/step - loss: 7361.1569 - rmse: 65.1040 - val_loss: 190471.2993 - val_rmse: 341.5371\n",
      "Epoch 466/500\n",
      "7/7 [==============================] - 2s 285ms/step - loss: 6554.3089 - rmse: 60.7847 - val_loss: 191617.2734 - val_rmse: 352.0475\n",
      "Epoch 467/500\n",
      "7/7 [==============================] - 2s 314ms/step - loss: 8018.7561 - rmse: 67.3311 - val_loss: 215624.7284 - val_rmse: 379.8363\n",
      "Epoch 468/500\n",
      "7/7 [==============================] - 2s 313ms/step - loss: 7092.8712 - rmse: 64.4055 - val_loss: 183761.6562 - val_rmse: 335.9606\n",
      "Epoch 469/500\n",
      "7/7 [==============================] - 2s 338ms/step - loss: 7372.8838 - rmse: 64.1569 - val_loss: 190926.7266 - val_rmse: 343.4484\n",
      "Epoch 470/500\n",
      "7/7 [==============================] - 2s 314ms/step - loss: 7850.4956 - rmse: 64.0606 - val_loss: 149302.9014 - val_rmse: 298.1070\n",
      "Epoch 471/500\n",
      "7/7 [==============================] - 2s 340ms/step - loss: 7219.3814 - rmse: 63.7783 - val_loss: 243707.1334 - val_rmse: 411.5332\n",
      "Epoch 472/500\n",
      "7/7 [==============================] - 2s 351ms/step - loss: 6000.1360 - rmse: 58.9068 - val_loss: 174657.4297 - val_rmse: 334.2390\n",
      "Epoch 473/500\n",
      "7/7 [==============================] - 2s 330ms/step - loss: 7388.6423 - rmse: 62.9503 - val_loss: 211049.1358 - val_rmse: 362.8933\n",
      "Epoch 474/500\n",
      "7/7 [==============================] - 2s 328ms/step - loss: 8300.5229 - rmse: 65.2016 - val_loss: 174819.6635 - val_rmse: 328.7056\n",
      "Epoch 475/500\n",
      "7/7 [==============================] - 2s 351ms/step - loss: 7854.6267 - rmse: 66.0621 - val_loss: 199672.9531 - val_rmse: 362.0734\n",
      "Epoch 476/500\n",
      "7/7 [==============================] - 2s 312ms/step - loss: 7441.3331 - rmse: 63.5918 - val_loss: 161990.8161 - val_rmse: 308.7488\n",
      "Epoch 477/500\n",
      "7/7 [==============================] - 2s 346ms/step - loss: 6271.3097 - rmse: 61.4658 - val_loss: 212606.4639 - val_rmse: 382.7424\n",
      "Epoch 478/500\n",
      "7/7 [==============================] - 2s 327ms/step - loss: 7486.1208 - rmse: 66.5511 - val_loss: 227214.4609 - val_rmse: 392.1685\n",
      "Epoch 479/500\n",
      "7/7 [==============================] - 2s 331ms/step - loss: 7559.6463 - rmse: 64.4887 - val_loss: 181820.9567 - val_rmse: 338.4256\n",
      "Epoch 480/500\n",
      "7/7 [==============================] - 2s 338ms/step - loss: 6673.3620 - rmse: 60.5284 - val_loss: 173418.6737 - val_rmse: 330.2408\n",
      "Epoch 481/500\n",
      "7/7 [==============================] - 2s 348ms/step - loss: 8457.1206 - rmse: 70.1354 - val_loss: 166929.2617 - val_rmse: 317.8948\n",
      "Epoch 482/500\n",
      "7/7 [==============================] - 2s 335ms/step - loss: 7171.8414 - rmse: 64.0095 - val_loss: 188305.6611 - val_rmse: 351.6895\n",
      "Epoch 483/500\n",
      "7/7 [==============================] - 2s 308ms/step - loss: 7793.7344 - rmse: 66.9047 - val_loss: 213123.7188 - val_rmse: 371.0892\n",
      "Epoch 484/500\n",
      "7/7 [==============================] - 2s 354ms/step - loss: 6115.4174 - rmse: 60.5088 - val_loss: 192846.4062 - val_rmse: 341.9331\n",
      "Epoch 485/500\n",
      "7/7 [==============================] - 2s 324ms/step - loss: 7533.5958 - rmse: 65.7145 - val_loss: 228163.9832 - val_rmse: 393.7072\n",
      "Epoch 486/500\n",
      "7/7 [==============================] - 2s 323ms/step - loss: 8237.4619 - rmse: 68.3811 - val_loss: 148012.4321 - val_rmse: 292.1092\n",
      "Epoch 487/500\n",
      "7/7 [==============================] - 2s 322ms/step - loss: 7446.3957 - rmse: 67.0996 - val_loss: 186097.8594 - val_rmse: 353.4519\n",
      "Epoch 488/500\n",
      "7/7 [==============================] - 2s 337ms/step - loss: 7302.1615 - rmse: 68.1369 - val_loss: 190042.9351 - val_rmse: 339.6446\n",
      "Epoch 489/500\n",
      "7/7 [==============================] - 2s 314ms/step - loss: 6806.0176 - rmse: 64.1900 - val_loss: 189222.7380 - val_rmse: 349.3907\n",
      "Epoch 490/500\n",
      "7/7 [==============================] - 2s 352ms/step - loss: 6904.6849 - rmse: 61.5017 - val_loss: 184367.3750 - val_rmse: 340.5436\n",
      "Epoch 491/500\n",
      "7/7 [==============================] - 2s 296ms/step - loss: 7018.6232 - rmse: 60.8850 - val_loss: 195638.9892 - val_rmse: 367.2964\n",
      "Epoch 492/500\n",
      "7/7 [==============================] - 2s 335ms/step - loss: 6818.6391 - rmse: 60.1007 - val_loss: 173794.2788 - val_rmse: 318.0022\n",
      "Epoch 493/500\n",
      "7/7 [==============================] - 2s 328ms/step - loss: 9204.4595 - rmse: 73.3890 - val_loss: 191624.9375 - val_rmse: 353.2437\n",
      "Epoch 494/500\n",
      "7/7 [==============================] - 2s 322ms/step - loss: 6941.8337 - rmse: 61.3129 - val_loss: 188485.3582 - val_rmse: 353.5824\n",
      "Epoch 495/500\n",
      "7/7 [==============================] - 2s 326ms/step - loss: 7105.1442 - rmse: 66.3432 - val_loss: 195308.5096 - val_rmse: 347.5262\n",
      "Epoch 496/500\n",
      "7/7 [==============================] - 3s 358ms/step - loss: 7024.5022 - rmse: 65.2212 - val_loss: 190473.1094 - val_rmse: 348.2897\n",
      "Epoch 497/500\n",
      "7/7 [==============================] - 2s 339ms/step - loss: 6347.6431 - rmse: 61.2229 - val_loss: 173211.6623 - val_rmse: 326.6211\n",
      "Epoch 498/500\n",
      "7/7 [==============================] - 2s 353ms/step - loss: 6570.7328 - rmse: 58.9739 - val_loss: 216956.6611 - val_rmse: 374.3872\n",
      "Epoch 499/500\n",
      "7/7 [==============================] - 2s 342ms/step - loss: 9510.9522 - rmse: 69.3871 - val_loss: 187098.9531 - val_rmse: 341.8942\n",
      "Epoch 500/500\n",
      "7/7 [==============================] - 2s 304ms/step - loss: 6488.1563 - rmse: 60.8432 - val_loss: 196687.6562 - val_rmse: 356.6182\n"
     ]
    }
   ],
   "source": [
    "results_2 = model.fit_generator(generator=train_generator,\n",
    "                    steps_per_epoch=STEP_SIZE_TRAIN,\n",
    "                    validation_data=valid_generator,\n",
    "                    validation_steps=STEP_SIZE_VALID,\n",
    "                    epochs=500)"
   ]
  },
  {
   "cell_type": "code",
   "execution_count": 172,
   "metadata": {},
   "outputs": [
    {
     "data": {
      "text/plain": [
       "<matplotlib.legend.Legend at 0x7ff23e41eb00>"
      ]
     },
     "execution_count": 172,
     "metadata": {},
     "output_type": "execute_result"
    },
    {
     "data": {
      "image/png": "[encoded data removed]",
      "text/plain": [
       "<Figure size 432x288 with 1 Axes>"
      ]
     },
     "metadata": {
      "needs_background": "light"
     },
     "output_type": "display_data"
    }
   ],
   "source": [
    "## plot loss function for the second trial\n",
    "test_loss = results_2.history['val_loss']\n",
    "train_loss = results_2.history['loss']\n",
    "\n",
    "plt.plot(train_loss, label='Training loss')\n",
    "plt.plot(test_loss, label='Testing loss')\n",
    "plt.legend()"
   ]
  },
  {
   "cell_type": "markdown",
   "metadata": {},
   "source": [
    "##### Results of the CNN regression\n",
    "\n",
    "The plot shows poor results of CNN regression model, as the test loss fun deviates from the training loss fun. However, an early stop could be implemented since the loss fun doesn't get better at some points. With some emprical trials on the CNN hyperparametrs, we might arrive at better results. We leave that for future tunning!"
   ]
  }
 ],
 "metadata": {
  "kernelspec": {
   "display_name": "Python 3",
   "language": "python",
   "name": "python3"
  },
  "language_info": {
   "codemirror_mode": {
    "name": "ipython",
    "version": 3
   },
   "file_extension": ".py",
   "mimetype": "text/x-python",
   "name": "python",
   "nbconvert_exporter": "python",
   "pygments_lexer": "ipython3",
   "version": "3.6.8"
  }
 },
 "nbformat": 4,
 "nbformat_minor": 2
}
